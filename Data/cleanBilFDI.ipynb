{
 "metadata": {
  "name": "",
  "signature": "sha256:210048c08602a14b4f52834ccd3211da7b71fc53ee321add7048f51b9ea4ee3b"
 },
 "nbformat": 3,
 "nbformat_minor": 0,
 "worksheets": [
  {
   "cells": [
    {
     "cell_type": "code",
     "collapsed": false,
     "input": [
      "import numpy as np\n",
      "import pandas as pd\n",
      "import os"
     ],
     "language": "python",
     "metadata": {},
     "outputs": [],
     "prompt_number": 1
    },
    {
     "cell_type": "code",
     "collapsed": false,
     "input": [
      "def read_fdi_excel(filename, sheetname):\n",
      "    d = pd.read_excel(filename, sheetname=sheetname)\n",
      "    if d.shape[1] > 13 or d.shape[0] > 100:\n",
      "        return read_fdi_largecountry(filename, sheetname=sheetname)\n",
      "    else:\n",
      "        return read_fdi_smallcountry(filename, sheetname=sheetname)\n",
      "\n",
      "def read_fdi_largecountry(filename, sheetname, drop_aggregate=True):\n",
      "    d = pd.read_excel(filename, sheetname=sheetname, skiprows=4)\n",
      "    d = d.fillna('')\n",
      "    d.insert(6, 'country', pd.Series(d.iloc[:, :5].sum(axis=1))) # Collapse the first 5 columns into the 6th\n",
      "    d.drop(d.columns[0:6], axis=1, inplace=True) # Drop the first 5 columns\n",
      "    d = d.applymap(lambda x: np.nan if x == \"\" else x) # Reconvert blank to NaN\n",
      "    d.dropna(inplace=True) # Drop all the NaN, which used to be blank cells in the original\n",
      "    d = d.replace('..', np.nan)\n",
      "    if drop_aggregate:\n",
      "        d = d[~d['country'].isin([\"World\", \"Developed economies\", \"Europe\", \"European Union\",\n",
      "                                  \"Other developed Europe\", \"North America\", \"Other developed countries\",\n",
      "                                  \"Developing economies\", \"Africa\", \"North Africa\", \"Other Africa\", \"Asia\",\n",
      "                                  \"East Asia\", \"South-East Asia\", \"South Asia\", \"West Asia\", \n",
      "                                  \"Latin America and the Caribbean\", \"South America\", \"Central America\", \"Caribbean\",\n",
      "                                  \"Oceania\", \"Transition economies\", \"South-East Europe\", \"CIS\",\n",
      "                                  \"Unspecified\"])]\n",
      "    return d\n",
      "\n",
      "def read_fdi_smallcountry(filename, sheetname):\n",
      "    d = pd.read_excel(filename, sheetname=sheetname, skiprows=4)\n",
      "    d = d.rename(columns={'Reporting economy': 'country'})\n",
      "    d = d.dropna().replace('..', np.nan)\n",
      "    return d"
     ],
     "language": "python",
     "metadata": {},
     "outputs": [],
     "prompt_number": 23
    },
    {
     "cell_type": "code",
     "collapsed": false,
     "input": [
      "read_fdi_excel('/home/anh/Dropbox/fdi_network/Data/UNCTAD/AFG_fdi.xls', sheetname=1)"
     ],
     "language": "python",
     "metadata": {},
     "outputs": [
      {
       "html": [
        "<div style=\"max-height:1000px;max-width:1500px;overflow:auto;\">\n",
        "<table border=\"1\" class=\"dataframe\">\n",
        "  <thead>\n",
        "    <tr style=\"text-align: right;\">\n",
        "      <th></th>\n",
        "      <th>country</th>\n",
        "      <th>2001</th>\n",
        "      <th>2002</th>\n",
        "      <th>2003</th>\n",
        "      <th>2004</th>\n",
        "      <th>2005</th>\n",
        "      <th>2006</th>\n",
        "      <th>2007</th>\n",
        "      <th>2008</th>\n",
        "      <th>2009</th>\n",
        "      <th>2010</th>\n",
        "      <th>2011</th>\n",
        "      <th>2012</th>\n",
        "    </tr>\n",
        "  </thead>\n",
        "  <tbody>\n",
        "    <tr>\n",
        "      <th>1</th>\n",
        "      <td>       Estonia</td>\n",
        "      <td> 0</td>\n",
        "      <td> 0</td>\n",
        "      <td> 0</td>\n",
        "      <td> 0.000000</td>\n",
        "      <td> 0.527284</td>\n",
        "      <td> 0</td>\n",
        "      <td> 0</td>\n",
        "      <td>  0.000000</td>\n",
        "      <td>  0.000000</td>\n",
        "      <td>  0.000000</td>\n",
        "      <td>  0.000000</td>\n",
        "      <td>  0.000000</td>\n",
        "    </tr>\n",
        "    <tr>\n",
        "      <th>2</th>\n",
        "      <td>       Germany</td>\n",
        "      <td> 0</td>\n",
        "      <td> 0</td>\n",
        "      <td> 0</td>\n",
        "      <td> 0.000000</td>\n",
        "      <td> 0.000000</td>\n",
        "      <td> 0</td>\n",
        "      <td> 0</td>\n",
        "      <td>  0.000000</td>\n",
        "      <td>  1.389192</td>\n",
        "      <td>  0.000000</td>\n",
        "      <td>  0.000000</td>\n",
        "      <td>  0.000000</td>\n",
        "    </tr>\n",
        "    <tr>\n",
        "      <th>3</th>\n",
        "      <td>         Italy</td>\n",
        "      <td> 0</td>\n",
        "      <td> 0</td>\n",
        "      <td> 0</td>\n",
        "      <td> 0.000000</td>\n",
        "      <td> 0.000000</td>\n",
        "      <td> 0</td>\n",
        "      <td> 0</td>\n",
        "      <td> 70.560662</td>\n",
        "      <td> 77.461335</td>\n",
        "      <td> 63.824010</td>\n",
        "      <td> 67.240792</td>\n",
        "      <td> 64.975446</td>\n",
        "    </tr>\n",
        "    <tr>\n",
        "      <th>4</th>\n",
        "      <td>     Lithuania</td>\n",
        "      <td> 0</td>\n",
        "      <td> 0</td>\n",
        "      <td> 0</td>\n",
        "      <td> 0.000000</td>\n",
        "      <td> 0.000000</td>\n",
        "      <td> 0</td>\n",
        "      <td> 0</td>\n",
        "      <td>  0.000000</td>\n",
        "      <td>  0.000000</td>\n",
        "      <td>  1.534725</td>\n",
        "      <td>  0.000000</td>\n",
        "      <td>  0.000000</td>\n",
        "    </tr>\n",
        "    <tr>\n",
        "      <th>5</th>\n",
        "      <td>        Malawi</td>\n",
        "      <td> 0</td>\n",
        "      <td> 0</td>\n",
        "      <td> 0</td>\n",
        "      <td> 0.000000</td>\n",
        "      <td> 0.000000</td>\n",
        "      <td> 0</td>\n",
        "      <td> 0</td>\n",
        "      <td>  0.000000</td>\n",
        "      <td>  0.000000</td>\n",
        "      <td>  4.300000</td>\n",
        "      <td>  0.000000</td>\n",
        "      <td>  0.000000</td>\n",
        "    </tr>\n",
        "    <tr>\n",
        "      <th>6</th>\n",
        "      <td>       Romania</td>\n",
        "      <td> 0</td>\n",
        "      <td> 0</td>\n",
        "      <td> 0</td>\n",
        "      <td>-0.700304</td>\n",
        "      <td> 0.000000</td>\n",
        "      <td> 0</td>\n",
        "      <td> 0</td>\n",
        "      <td>  0.000000</td>\n",
        "      <td>  0.000000</td>\n",
        "      <td>  0.000000</td>\n",
        "      <td>  0.000000</td>\n",
        "      <td>  0.000000</td>\n",
        "    </tr>\n",
        "    <tr>\n",
        "      <th>7</th>\n",
        "      <td>  Saudi Arabia</td>\n",
        "      <td> 0</td>\n",
        "      <td> 0</td>\n",
        "      <td> 1</td>\n",
        "      <td> 0.000000</td>\n",
        "      <td> 1.000000</td>\n",
        "      <td> 0</td>\n",
        "      <td> 0</td>\n",
        "      <td>  0.000000</td>\n",
        "      <td>  0.000000</td>\n",
        "      <td>  0.000000</td>\n",
        "      <td>  0.000000</td>\n",
        "      <td>  0.000000</td>\n",
        "    </tr>\n",
        "    <tr>\n",
        "      <th>8</th>\n",
        "      <td> United States</td>\n",
        "      <td> 0</td>\n",
        "      <td> 0</td>\n",
        "      <td> 0</td>\n",
        "      <td> 0.000000</td>\n",
        "      <td> 0.000000</td>\n",
        "      <td> 0</td>\n",
        "      <td> 0</td>\n",
        "      <td>  1.000000</td>\n",
        "      <td>  2.000000</td>\n",
        "      <td>  2.000000</td>\n",
        "      <td>  3.000000</td>\n",
        "      <td>  0.000000</td>\n",
        "    </tr>\n",
        "  </tbody>\n",
        "</table>\n",
        "</div>"
       ],
       "metadata": {},
       "output_type": "pyout",
       "prompt_number": 24,
       "text": [
        "         country  2001  2002  2003      2004      2005  2006  2007       2008  \\\n",
        "1        Estonia     0     0     0  0.000000  0.527284     0     0   0.000000   \n",
        "2        Germany     0     0     0  0.000000  0.000000     0     0   0.000000   \n",
        "3          Italy     0     0     0  0.000000  0.000000     0     0  70.560662   \n",
        "4      Lithuania     0     0     0  0.000000  0.000000     0     0   0.000000   \n",
        "5         Malawi     0     0     0  0.000000  0.000000     0     0   0.000000   \n",
        "6        Romania     0     0     0 -0.700304  0.000000     0     0   0.000000   \n",
        "7   Saudi Arabia     0     0     1  0.000000  1.000000     0     0   0.000000   \n",
        "8  United States     0     0     0  0.000000  0.000000     0     0   1.000000   \n",
        "\n",
        "        2009       2010       2011       2012  \n",
        "1   0.000000   0.000000   0.000000   0.000000  \n",
        "2   1.389192   0.000000   0.000000   0.000000  \n",
        "3  77.461335  63.824010  67.240792  64.975446  \n",
        "4   0.000000   1.534725   0.000000   0.000000  \n",
        "5   0.000000   4.300000   0.000000   0.000000  \n",
        "6   0.000000   0.000000   0.000000   0.000000  \n",
        "7   0.000000   0.000000   0.000000   0.000000  \n",
        "8   2.000000   2.000000   3.000000   0.000000  "
       ]
      }
     ],
     "prompt_number": 24
    },
    {
     "cell_type": "code",
     "collapsed": false,
     "input": [
      "read_fdi_excel('/home/anh/Dropbox/fdi_network/Data/UNCTAD/CYP_fdi.xls', sheetname=0)"
     ],
     "language": "python",
     "metadata": {},
     "outputs": [
      {
       "html": [
        "<div style=\"max-height:1000px;max-width:1500px;overflow:auto;\">\n",
        "<table border=\"1\" class=\"dataframe\">\n",
        "  <thead>\n",
        "    <tr style=\"text-align: right;\">\n",
        "      <th></th>\n",
        "      <th>country</th>\n",
        "      <th>2001</th>\n",
        "      <th>2002</th>\n",
        "      <th>2003</th>\n",
        "      <th>2004</th>\n",
        "      <th>2005</th>\n",
        "      <th>2006</th>\n",
        "      <th>2007</th>\n",
        "      <th>2008</th>\n",
        "      <th>2009</th>\n",
        "      <th>2010</th>\n",
        "      <th>2011</th>\n",
        "      <th>2012</th>\n",
        "    </tr>\n",
        "  </thead>\n",
        "  <tbody>\n",
        "    <tr>\n",
        "      <th>5  </th>\n",
        "      <td>                Austria</td>\n",
        "      <td> 13.555524</td>\n",
        "      <td>  26.381820</td>\n",
        "      <td>  21.000323</td>\n",
        "      <td>  43.746846</td>\n",
        "      <td>  41.157152</td>\n",
        "      <td> 0</td>\n",
        "      <td> 121.099642</td>\n",
        "      <td>-253.561358</td>\n",
        "      <td>  -56.331728</td>\n",
        "      <td> -65.943089</td>\n",
        "      <td> -19.461879</td>\n",
        "      <td>  -21.842646</td>\n",
        "    </tr>\n",
        "    <tr>\n",
        "      <th>6  </th>\n",
        "      <td>                Belgium</td>\n",
        "      <td>  0.000000</td>\n",
        "      <td>   2.947181</td>\n",
        "      <td>   3.085660</td>\n",
        "      <td>   3.286072</td>\n",
        "      <td>   0.517081</td>\n",
        "      <td> 0</td>\n",
        "      <td>   0.875947</td>\n",
        "      <td>  -7.441315</td>\n",
        "      <td>   -1.528111</td>\n",
        "      <td>        NaN</td>\n",
        "      <td>   1.390134</td>\n",
        "      <td>         NaN</td>\n",
        "    </tr>\n",
        "    <tr>\n",
        "      <th>7  </th>\n",
        "      <td>               Bulgaria</td>\n",
        "      <td>  2.005799</td>\n",
        "      <td>   3.717761</td>\n",
        "      <td>   3.432148</td>\n",
        "      <td> -27.336471</td>\n",
        "      <td> -27.517556</td>\n",
        "      <td> 0</td>\n",
        "      <td>  65.039048</td>\n",
        "      <td> -11.762552</td>\n",
        "      <td>    8.196232</td>\n",
        "      <td>   8.065744</td>\n",
        "      <td>        NaN</td>\n",
        "      <td>    0.000000</td>\n",
        "    </tr>\n",
        "    <tr>\n",
        "      <th>8  </th>\n",
        "      <td>         Czech Republic</td>\n",
        "      <td>  1.310504</td>\n",
        "      <td>   0.851088</td>\n",
        "      <td>  -3.548397</td>\n",
        "      <td>   4.119143</td>\n",
        "      <td>   1.745465</td>\n",
        "      <td> 0</td>\n",
        "      <td>   0.000000</td>\n",
        "      <td>   2.856410</td>\n",
        "      <td>    8.168448</td>\n",
        "      <td>   4.661974</td>\n",
        "      <td>   2.780268</td>\n",
        "      <td>         NaN</td>\n",
        "    </tr>\n",
        "    <tr>\n",
        "      <th>9  </th>\n",
        "      <td>                Denmark</td>\n",
        "      <td>  0.000000</td>\n",
        "      <td>   0.000000</td>\n",
        "      <td>   0.000000</td>\n",
        "      <td>   0.000000</td>\n",
        "      <td>   0.000000</td>\n",
        "      <td> 0</td>\n",
        "      <td>   1.628714</td>\n",
        "      <td>   0.717765</td>\n",
        "      <td>    0.000000</td>\n",
        "      <td>        NaN</td>\n",
        "      <td>        NaN</td>\n",
        "      <td>         NaN</td>\n",
        "    </tr>\n",
        "    <tr>\n",
        "      <th>10 </th>\n",
        "      <td>                Estonia</td>\n",
        "      <td> -0.738068</td>\n",
        "      <td>   0.000000</td>\n",
        "      <td>   0.000000</td>\n",
        "      <td>   0.000000</td>\n",
        "      <td>   0.000000</td>\n",
        "      <td> 0</td>\n",
        "      <td>   0.848573</td>\n",
        "      <td>        NaN</td>\n",
        "      <td>    0.000000</td>\n",
        "      <td>   0.000000</td>\n",
        "      <td>        NaN</td>\n",
        "      <td>         NaN</td>\n",
        "    </tr>\n",
        "    <tr>\n",
        "      <th>11 </th>\n",
        "      <td>                Finland</td>\n",
        "      <td>  1.040212</td>\n",
        "      <td>   2.144973</td>\n",
        "      <td>   2.141001</td>\n",
        "      <td>   0.000000</td>\n",
        "      <td>   0.000000</td>\n",
        "      <td> 0</td>\n",
        "      <td>   0.752767</td>\n",
        "      <td>   0.673820</td>\n",
        "      <td>    0.000000</td>\n",
        "      <td>   0.000000</td>\n",
        "      <td>   0.000000</td>\n",
        "      <td>    0.000000</td>\n",
        "    </tr>\n",
        "    <tr>\n",
        "      <th>12 </th>\n",
        "      <td>                 France</td>\n",
        "      <td> 17.204004</td>\n",
        "      <td>  24.006824</td>\n",
        "      <td>  15.098743</td>\n",
        "      <td>   1.195276</td>\n",
        "      <td>  12.908116</td>\n",
        "      <td> 0</td>\n",
        "      <td>  15.137455</td>\n",
        "      <td>   0.000000</td>\n",
        "      <td>  -11.460832</td>\n",
        "      <td>  -5.522850</td>\n",
        "      <td>  22.242147</td>\n",
        "      <td>   -3.854585</td>\n",
        "    </tr>\n",
        "    <tr>\n",
        "      <th>13 </th>\n",
        "      <td>                Germany</td>\n",
        "      <td> 81.404132</td>\n",
        "      <td> 109.652376</td>\n",
        "      <td> 180.051781</td>\n",
        "      <td> 180.921299</td>\n",
        "      <td>  13.273856</td>\n",
        "      <td> 0</td>\n",
        "      <td> 180.171302</td>\n",
        "      <td>  26.366866</td>\n",
        "      <td>  -53.845075</td>\n",
        "      <td> 164.043203</td>\n",
        "      <td> -62.556040</td>\n",
        "      <td>   24.412369</td>\n",
        "    </tr>\n",
        "    <tr>\n",
        "      <th>14 </th>\n",
        "      <td>                 Greece</td>\n",
        "      <td> 69.978176</td>\n",
        "      <td> 173.796448</td>\n",
        "      <td> 192.567102</td>\n",
        "      <td>  49.040032</td>\n",
        "      <td>   0.000000</td>\n",
        "      <td> 0</td>\n",
        "      <td> 136.716130</td>\n",
        "      <td> 226.110521</td>\n",
        "      <td>  673.507973</td>\n",
        "      <td> 175.115390</td>\n",
        "      <td> 335.022346</td>\n",
        "      <td>  276.245224</td>\n",
        "    </tr>\n",
        "    <tr>\n",
        "      <th>15 </th>\n",
        "      <td>                Hungary</td>\n",
        "      <td>  1.138500</td>\n",
        "      <td>   0.000000</td>\n",
        "      <td>   7.867644</td>\n",
        "      <td>   0.000000</td>\n",
        "      <td>   0.000000</td>\n",
        "      <td> 0</td>\n",
        "      <td>   0.000000</td>\n",
        "      <td>   1.772439</td>\n",
        "      <td>    0.527893</td>\n",
        "      <td>   7.204869</td>\n",
        "      <td>   0.000000</td>\n",
        "      <td>         NaN</td>\n",
        "    </tr>\n",
        "    <tr>\n",
        "      <th>16 </th>\n",
        "      <td>                Ireland</td>\n",
        "      <td>  2.009439</td>\n",
        "      <td>   3.274965</td>\n",
        "      <td>  23.988921</td>\n",
        "      <td>   2.240674</td>\n",
        "      <td>   4.245112</td>\n",
        "      <td> 0</td>\n",
        "      <td>  26.456330</td>\n",
        "      <td>   0.000000</td>\n",
        "      <td>  -37.313692</td>\n",
        "      <td>   1.602553</td>\n",
        "      <td>   0.000000</td>\n",
        "      <td>   -1.284862</td>\n",
        "    </tr>\n",
        "    <tr>\n",
        "      <th>17 </th>\n",
        "      <td>                  Italy</td>\n",
        "      <td>  4.823382</td>\n",
        "      <td>   0.000000</td>\n",
        "      <td>   0.000000</td>\n",
        "      <td>   0.000000</td>\n",
        "      <td>   0.991283</td>\n",
        "      <td> 0</td>\n",
        "      <td>   1.177053</td>\n",
        "      <td>   0.922840</td>\n",
        "      <td>    2.514437</td>\n",
        "      <td>  -3.072665</td>\n",
        "      <td>   0.000000</td>\n",
        "      <td>   -1.284862</td>\n",
        "    </tr>\n",
        "    <tr>\n",
        "      <th>18 </th>\n",
        "      <td>                 Latvia</td>\n",
        "      <td>  0.000000</td>\n",
        "      <td>   0.704448</td>\n",
        "      <td>   3.412962</td>\n",
        "      <td>   0.533315</td>\n",
        "      <td>  66.089301</td>\n",
        "      <td> 0</td>\n",
        "      <td> -15.424875</td>\n",
        "      <td>        NaN</td>\n",
        "      <td>    0.527893</td>\n",
        "      <td>   1.086028</td>\n",
        "      <td>   1.390134</td>\n",
        "      <td>    6.424308</td>\n",
        "    </tr>\n",
        "    <tr>\n",
        "      <th>19 </th>\n",
        "      <td>              Lithuania</td>\n",
        "      <td>  0.000000</td>\n",
        "      <td>   0.000000</td>\n",
        "      <td>   0.000000</td>\n",
        "      <td>   0.000000</td>\n",
        "      <td>   0.538521</td>\n",
        "      <td> 0</td>\n",
        "      <td>   7.322368</td>\n",
        "      <td>        NaN</td>\n",
        "      <td>    0.000000</td>\n",
        "      <td>        NaN</td>\n",
        "      <td>        NaN</td>\n",
        "      <td>         NaN</td>\n",
        "    </tr>\n",
        "    <tr>\n",
        "      <th>20 </th>\n",
        "      <td>             Luxembourg</td>\n",
        "      <td>  0.000000</td>\n",
        "      <td>  20.845913</td>\n",
        "      <td>   3.914071</td>\n",
        "      <td>   0.000000</td>\n",
        "      <td>  -9.135944</td>\n",
        "      <td> 0</td>\n",
        "      <td>  10.949335</td>\n",
        "      <td> -48.983777</td>\n",
        "      <td>   11.155210</td>\n",
        "      <td>  -9.006086</td>\n",
        "      <td>   5.560537</td>\n",
        "      <td>  -19.272923</td>\n",
        "    </tr>\n",
        "    <tr>\n",
        "      <th>21 </th>\n",
        "      <td>                  Malta</td>\n",
        "      <td>  0.000000</td>\n",
        "      <td>   0.000000</td>\n",
        "      <td>   0.000000</td>\n",
        "      <td>   0.000000</td>\n",
        "      <td>   0.000000</td>\n",
        "      <td> 0</td>\n",
        "      <td>   0.000000</td>\n",
        "      <td>   0.000000</td>\n",
        "      <td>   53.108803</td>\n",
        "      <td>        NaN</td>\n",
        "      <td>  33.363221</td>\n",
        "      <td>  -11.563754</td>\n",
        "    </tr>\n",
        "    <tr>\n",
        "      <th>22 </th>\n",
        "      <td>            Netherlands</td>\n",
        "      <td> 82.121269</td>\n",
        "      <td>  25.120523</td>\n",
        "      <td>  12.457761</td>\n",
        "      <td> 118.480938</td>\n",
        "      <td> 190.724822</td>\n",
        "      <td> 0</td>\n",
        "      <td> 273.555441</td>\n",
        "      <td>  17.900172</td>\n",
        "      <td> 1043.477536</td>\n",
        "      <td>-209.815309</td>\n",
        "      <td>  95.919261</td>\n",
        "      <td>  185.020057</td>\n",
        "    </tr>\n",
        "    <tr>\n",
        "      <th>23 </th>\n",
        "      <td>                 Poland</td>\n",
        "      <td> 33.031978</td>\n",
        "      <td>  22.893125</td>\n",
        "      <td>  78.234018</td>\n",
        "      <td> 154.096911</td>\n",
        "      <td> -27.086234</td>\n",
        "      <td> 0</td>\n",
        "      <td>  44.180565</td>\n",
        "      <td>   1.874977</td>\n",
        "      <td>    1.403084</td>\n",
        "      <td>   0.913853</td>\n",
        "      <td>   8.340805</td>\n",
        "      <td>    2.569723</td>\n",
        "    </tr>\n",
        "    <tr>\n",
        "      <th>24 </th>\n",
        "      <td>               Portugal</td>\n",
        "      <td>  3.461914</td>\n",
        "      <td>   2.014626</td>\n",
        "      <td>   1.697452</td>\n",
        "      <td>  -0.575781</td>\n",
        "      <td>   0.000000</td>\n",
        "      <td> 0</td>\n",
        "      <td>   0.834887</td>\n",
        "      <td>        NaN</td>\n",
        "      <td>    0.000000</td>\n",
        "      <td>   0.000000</td>\n",
        "      <td>   0.000000</td>\n",
        "      <td>    0.000000</td>\n",
        "    </tr>\n",
        "    <tr>\n",
        "      <th>25 </th>\n",
        "      <td>                Romania</td>\n",
        "      <td>  0.498720</td>\n",
        "      <td>   1.342764</td>\n",
        "      <td>   5.167973</td>\n",
        "      <td>   7.938530</td>\n",
        "      <td>   7.434621</td>\n",
        "      <td> 0</td>\n",
        "      <td>   0.000000</td>\n",
        "      <td>  -0.600579</td>\n",
        "      <td>    7.598879</td>\n",
        "      <td>  -8.516049</td>\n",
        "      <td>        NaN</td>\n",
        "      <td>         NaN</td>\n",
        "    </tr>\n",
        "    <tr>\n",
        "      <th>26 </th>\n",
        "      <td>               Slovakia</td>\n",
        "      <td>  2.089526</td>\n",
        "      <td>   0.000000</td>\n",
        "      <td>   0.000000</td>\n",
        "      <td>   0.000000</td>\n",
        "      <td>   0.000000</td>\n",
        "      <td> 0</td>\n",
        "      <td>   0.000000</td>\n",
        "      <td>        NaN</td>\n",
        "      <td>    0.000000</td>\n",
        "      <td>        NaN</td>\n",
        "      <td>   0.000000</td>\n",
        "      <td>    0.000000</td>\n",
        "    </tr>\n",
        "    <tr>\n",
        "      <th>27 </th>\n",
        "      <td>               Slovenia</td>\n",
        "      <td>  0.000000</td>\n",
        "      <td>   0.000000</td>\n",
        "      <td>   0.000000</td>\n",
        "      <td>   0.000000</td>\n",
        "      <td>   0.000000</td>\n",
        "      <td> 0</td>\n",
        "      <td>   0.000000</td>\n",
        "      <td>        NaN</td>\n",
        "      <td>    1.111353</td>\n",
        "      <td>   0.000000</td>\n",
        "      <td>   0.000000</td>\n",
        "      <td>    0.000000</td>\n",
        "    </tr>\n",
        "    <tr>\n",
        "      <th>28 </th>\n",
        "      <td>                  Spain</td>\n",
        "      <td>  0.000000</td>\n",
        "      <td>   0.000000</td>\n",
        "      <td>   0.000000</td>\n",
        "      <td>   0.000000</td>\n",
        "      <td>   0.000000</td>\n",
        "      <td> 0</td>\n",
        "      <td>   0.752767</td>\n",
        "      <td>  12.700040</td>\n",
        "      <td>    2.153247</td>\n",
        "      <td>   0.000000</td>\n",
        "      <td>        NaN</td>\n",
        "      <td>         NaN</td>\n",
        "    </tr>\n",
        "    <tr>\n",
        "      <th>29 </th>\n",
        "      <td>                 Sweden</td>\n",
        "      <td>  3.625727</td>\n",
        "      <td>   1.867027</td>\n",
        "      <td>   3.066474</td>\n",
        "      <td>   4.993430</td>\n",
        "      <td>   1.961126</td>\n",
        "      <td> 0</td>\n",
        "      <td>   9.402741</td>\n",
        "      <td>   2.578094</td>\n",
        "      <td>    3.861953</td>\n",
        "      <td>   1.602553</td>\n",
        "      <td>  70.896845</td>\n",
        "      <td>  -44.970153</td>\n",
        "    </tr>\n",
        "    <tr>\n",
        "      <th>30 </th>\n",
        "      <td>         United Kingdom</td>\n",
        "      <td> 72.457213</td>\n",
        "      <td>   7.975119</td>\n",
        "      <td> 118.286657</td>\n",
        "      <td> 192.594286</td>\n",
        "      <td> 355.764574</td>\n",
        "      <td> 0</td>\n",
        "      <td> 513.824904</td>\n",
        "      <td> 464.496283</td>\n",
        "      <td>  289.215843</td>\n",
        "      <td>  96.722712</td>\n",
        "      <td>  34.753355</td>\n",
        "      <td>   59.103629</td>\n",
        "    </tr>\n",
        "    <tr>\n",
        "      <th>32 </th>\n",
        "      <td>              Gibraltar</td>\n",
        "      <td>  0.000000</td>\n",
        "      <td> -10.283984</td>\n",
        "      <td> -11.743342</td>\n",
        "      <td>   0.640728</td>\n",
        "      <td>   0.000000</td>\n",
        "      <td> 0</td>\n",
        "      <td>   0.000000</td>\n",
        "      <td>  69.549932</td>\n",
        "      <td>   -4.139792</td>\n",
        "      <td>   0.000000</td>\n",
        "      <td>   0.000000</td>\n",
        "      <td>         NaN</td>\n",
        "    </tr>\n",
        "    <tr>\n",
        "      <th>33 </th>\n",
        "      <td>               Guernsey</td>\n",
        "      <td>  0.000000</td>\n",
        "      <td> 320.359987</td>\n",
        "      <td> -32.975033</td>\n",
        "      <td>  38.583554</td>\n",
        "      <td>  55.336532</td>\n",
        "      <td> 0</td>\n",
        "      <td> 194.802351</td>\n",
        "      <td>   2.460907</td>\n",
        "      <td>   53.428317</td>\n",
        "      <td>  22.422505</td>\n",
        "      <td> 244.663622</td>\n",
        "      <td>         NaN</td>\n",
        "    </tr>\n",
        "    <tr>\n",
        "      <th>34 </th>\n",
        "      <td>            Isle of Man</td>\n",
        "      <td>  0.000000</td>\n",
        "      <td>  35.420800</td>\n",
        "      <td>   3.703018</td>\n",
        "      <td>  -1.322672</td>\n",
        "      <td>  23.962306</td>\n",
        "      <td> 0</td>\n",
        "      <td>  30.302284</td>\n",
        "      <td>  20.038818</td>\n",
        "      <td>    7.112662</td>\n",
        "      <td>   1.311180</td>\n",
        "      <td>        NaN</td>\n",
        "      <td>   -2.569723</td>\n",
        "    </tr>\n",
        "    <tr>\n",
        "      <th>35 </th>\n",
        "      <td>                 Jersey</td>\n",
        "      <td>  0.000000</td>\n",
        "      <td>  23.613867</td>\n",
        "      <td>   2.372369</td>\n",
        "      <td>   1.216509</td>\n",
        "      <td>   2.025445</td>\n",
        "      <td> 0</td>\n",
        "      <td>  -6.911768</td>\n",
        "      <td> -10.414912</td>\n",
        "      <td>    1.264165</td>\n",
        "      <td>   0.000000</td>\n",
        "      <td>        NaN</td>\n",
        "      <td>         NaN</td>\n",
        "    </tr>\n",
        "    <tr>\n",
        "      <th>...</th>\n",
        "      <td>...</td>\n",
        "      <td>...</td>\n",
        "      <td>...</td>\n",
        "      <td>...</td>\n",
        "      <td>...</td>\n",
        "      <td>...</td>\n",
        "      <td>...</td>\n",
        "      <td>...</td>\n",
        "      <td>...</td>\n",
        "      <td>...</td>\n",
        "      <td>...</td>\n",
        "      <td>...</td>\n",
        "      <td>...</td>\n",
        "    </tr>\n",
        "    <tr>\n",
        "      <th>76 </th>\n",
        "      <td>                  Nepal</td>\n",
        "      <td>  0.000000</td>\n",
        "      <td>   3.029606</td>\n",
        "      <td>   1.928820</td>\n",
        "      <td>   1.984633</td>\n",
        "      <td>   2.111205</td>\n",
        "      <td> 0</td>\n",
        "      <td>   3.038440</td>\n",
        "      <td>        NaN</td>\n",
        "      <td>    0.000000</td>\n",
        "      <td>   0.000000</td>\n",
        "      <td>   0.000000</td>\n",
        "      <td>    0.000000</td>\n",
        "    </tr>\n",
        "    <tr>\n",
        "      <th>78 </th>\n",
        "      <td>                Bahrain</td>\n",
        "      <td>  0.000000</td>\n",
        "      <td>   0.000000</td>\n",
        "      <td>   0.000000</td>\n",
        "      <td>   0.554548</td>\n",
        "      <td>   0.948403</td>\n",
        "      <td> 0</td>\n",
        "      <td>   1.231800</td>\n",
        "      <td>   0.000000</td>\n",
        "      <td>    1.458651</td>\n",
        "      <td>  -1.297936</td>\n",
        "      <td>        NaN</td>\n",
        "      <td>         NaN</td>\n",
        "    </tr>\n",
        "    <tr>\n",
        "      <th>79 </th>\n",
        "      <td>                 Jordan</td>\n",
        "      <td>  0.000000</td>\n",
        "      <td>   4.830501</td>\n",
        "      <td>        NaN</td>\n",
        "      <td>        NaN</td>\n",
        "      <td>   0.000000</td>\n",
        "      <td> 0</td>\n",
        "      <td>  -6.692781</td>\n",
        "      <td>   3.413044</td>\n",
        "      <td>   15.725651</td>\n",
        "      <td>   5.867200</td>\n",
        "      <td>   0.000000</td>\n",
        "      <td>    0.000000</td>\n",
        "    </tr>\n",
        "    <tr>\n",
        "      <th>80 </th>\n",
        "      <td>                 Kuwait</td>\n",
        "      <td>  0.000000</td>\n",
        "      <td>   0.000000</td>\n",
        "      <td>  -0.963846</td>\n",
        "      <td>   1.237741</td>\n",
        "      <td>   0.000000</td>\n",
        "      <td> 0</td>\n",
        "      <td>   1.327607</td>\n",
        "      <td>        NaN</td>\n",
        "      <td>    0.000000</td>\n",
        "      <td>   0.000000</td>\n",
        "      <td>   4.170403</td>\n",
        "      <td>    0.000000</td>\n",
        "    </tr>\n",
        "    <tr>\n",
        "      <th>81 </th>\n",
        "      <td>                Lebanon</td>\n",
        "      <td>  0.000000</td>\n",
        "      <td>  19.733172</td>\n",
        "      <td>  17.721668</td>\n",
        "      <td>   3.328537</td>\n",
        "      <td>  10.494229</td>\n",
        "      <td> 0</td>\n",
        "      <td>  14.617362</td>\n",
        "      <td>  17.533966</td>\n",
        "      <td>   52.886532</td>\n",
        "      <td>  26.740128</td>\n",
        "      <td>  34.753355</td>\n",
        "      <td>   61.673352</td>\n",
        "    </tr>\n",
        "    <tr>\n",
        "      <th>82 </th>\n",
        "      <td>                   Oman</td>\n",
        "      <td>  0.000000</td>\n",
        "      <td>   0.000000</td>\n",
        "      <td>   0.000000</td>\n",
        "      <td>   0.000000</td>\n",
        "      <td>   0.000000</td>\n",
        "      <td> 0</td>\n",
        "      <td>   2.340420</td>\n",
        "      <td>   0.000000</td>\n",
        "      <td>    0.000000</td>\n",
        "      <td>        NaN</td>\n",
        "      <td>   0.000000</td>\n",
        "      <td>         NaN</td>\n",
        "    </tr>\n",
        "    <tr>\n",
        "      <th>83 </th>\n",
        "      <td>                  Qatar</td>\n",
        "      <td>  0.000000</td>\n",
        "      <td>   0.000000</td>\n",
        "      <td>   0.000000</td>\n",
        "      <td>   0.000000</td>\n",
        "      <td>   0.000000</td>\n",
        "      <td> 0</td>\n",
        "      <td>   0.000000</td>\n",
        "      <td>   0.952137</td>\n",
        "      <td>    0.930759</td>\n",
        "      <td>        NaN</td>\n",
        "      <td>        NaN</td>\n",
        "      <td>    0.000000</td>\n",
        "    </tr>\n",
        "    <tr>\n",
        "      <th>84 </th>\n",
        "      <td>           Saudi Arabia</td>\n",
        "      <td>  0.000000</td>\n",
        "      <td>  42.053155</td>\n",
        "      <td>   5.573150</td>\n",
        "      <td>   1.749824</td>\n",
        "      <td>   5.689156</td>\n",
        "      <td> 0</td>\n",
        "      <td>   2.203554</td>\n",
        "      <td>  -2.387666</td>\n",
        "      <td>   -5.598443</td>\n",
        "      <td> -11.098676</td>\n",
        "      <td>        NaN</td>\n",
        "      <td>         NaN</td>\n",
        "    </tr>\n",
        "    <tr>\n",
        "      <th>85 </th>\n",
        "      <td>   Syrian Arab Republic</td>\n",
        "      <td>  0.000000</td>\n",
        "      <td>   1.555536</td>\n",
        "      <td>   3.586770</td>\n",
        "      <td>   0.597013</td>\n",
        "      <td>   0.000000</td>\n",
        "      <td> 0</td>\n",
        "      <td>  -3.216367</td>\n",
        "      <td>   0.000000</td>\n",
        "      <td>    0.000000</td>\n",
        "      <td>        NaN</td>\n",
        "      <td>   0.000000</td>\n",
        "      <td>         NaN</td>\n",
        "    </tr>\n",
        "    <tr>\n",
        "      <th>86 </th>\n",
        "      <td>   United Arab Emirates</td>\n",
        "      <td>  0.000000</td>\n",
        "      <td>        NaN</td>\n",
        "      <td>   0.000000</td>\n",
        "      <td>        NaN</td>\n",
        "      <td>  16.354904</td>\n",
        "      <td> 0</td>\n",
        "      <td>  75.194556</td>\n",
        "      <td>  31.127550</td>\n",
        "      <td>   20.032146</td>\n",
        "      <td> -15.906337</td>\n",
        "      <td> 222.421475</td>\n",
        "      <td>   53.964183</td>\n",
        "    </tr>\n",
        "    <tr>\n",
        "      <th>89 </th>\n",
        "      <td>                 Brazil</td>\n",
        "      <td>  0.000000</td>\n",
        "      <td>   0.000000</td>\n",
        "      <td>  -1.041721</td>\n",
        "      <td>   0.000000</td>\n",
        "      <td>   0.000000</td>\n",
        "      <td> 0</td>\n",
        "      <td>   0.000000</td>\n",
        "      <td>   0.000000</td>\n",
        "      <td>    0.000000</td>\n",
        "      <td>   0.000000</td>\n",
        "      <td>   0.000000</td>\n",
        "      <td>    0.000000</td>\n",
        "    </tr>\n",
        "    <tr>\n",
        "      <th>91 </th>\n",
        "      <td>                 Belize</td>\n",
        "      <td>  0.000000</td>\n",
        "      <td>   0.000000</td>\n",
        "      <td>   1.118467</td>\n",
        "      <td>   0.533315</td>\n",
        "      <td>   0.000000</td>\n",
        "      <td> 0</td>\n",
        "      <td>   2.983694</td>\n",
        "      <td>  15.014465</td>\n",
        "      <td>    7.362717</td>\n",
        "      <td>        NaN</td>\n",
        "      <td> 278.026843</td>\n",
        "      <td>         NaN</td>\n",
        "    </tr>\n",
        "    <tr>\n",
        "      <th>92 </th>\n",
        "      <td>              Guatemala</td>\n",
        "      <td>  0.000000</td>\n",
        "      <td>   0.000000</td>\n",
        "      <td>   0.000000</td>\n",
        "      <td>   0.000000</td>\n",
        "      <td>   0.000000</td>\n",
        "      <td> 0</td>\n",
        "      <td>   0.000000</td>\n",
        "      <td>   0.000000</td>\n",
        "      <td>    0.694596</td>\n",
        "      <td>   0.000000</td>\n",
        "      <td>   0.000000</td>\n",
        "      <td>    0.000000</td>\n",
        "    </tr>\n",
        "    <tr>\n",
        "      <th>93 </th>\n",
        "      <td>                 Panama</td>\n",
        "      <td>  0.000000</td>\n",
        "      <td>   1.981081</td>\n",
        "      <td>   1.697452</td>\n",
        "      <td>   0.000000</td>\n",
        "      <td>   1.486924</td>\n",
        "      <td> 0</td>\n",
        "      <td>   0.000000</td>\n",
        "      <td>   0.000000</td>\n",
        "      <td>    0.000000</td>\n",
        "      <td>   0.000000</td>\n",
        "      <td>   0.000000</td>\n",
        "      <td>    0.000000</td>\n",
        "    </tr>\n",
        "    <tr>\n",
        "      <th>95 </th>\n",
        "      <td>    Antigua and Barbuda</td>\n",
        "      <td>  0.000000</td>\n",
        "      <td>   0.000000</td>\n",
        "      <td>   0.000000</td>\n",
        "      <td>   0.000000</td>\n",
        "      <td>   0.000000</td>\n",
        "      <td> 0</td>\n",
        "      <td>   0.000000</td>\n",
        "      <td>   0.000000</td>\n",
        "      <td>    2.931195</td>\n",
        "      <td>   0.000000</td>\n",
        "      <td>   0.000000</td>\n",
        "      <td>    0.000000</td>\n",
        "    </tr>\n",
        "    <tr>\n",
        "      <th>96 </th>\n",
        "      <td>                  Aruba</td>\n",
        "      <td>  0.000000</td>\n",
        "      <td>   0.000000</td>\n",
        "      <td>   0.000000</td>\n",
        "      <td>   0.000000</td>\n",
        "      <td>   0.000000</td>\n",
        "      <td> 0</td>\n",
        "      <td>   0.000000</td>\n",
        "      <td>   0.000000</td>\n",
        "      <td>  -23.032800</td>\n",
        "      <td>   0.000000</td>\n",
        "      <td>        NaN</td>\n",
        "      <td>         NaN</td>\n",
        "    </tr>\n",
        "    <tr>\n",
        "      <th>97 </th>\n",
        "      <td>                Bahamas</td>\n",
        "      <td>  0.000000</td>\n",
        "      <td>   0.000000</td>\n",
        "      <td>   0.520296</td>\n",
        "      <td>   0.000000</td>\n",
        "      <td>   0.711302</td>\n",
        "      <td> 0</td>\n",
        "      <td>   0.000000</td>\n",
        "      <td>   1.171861</td>\n",
        "      <td>    2.958979</td>\n",
        "      <td>   6.343993</td>\n",
        "      <td>        NaN</td>\n",
        "      <td>         NaN</td>\n",
        "    </tr>\n",
        "    <tr>\n",
        "      <th>98 </th>\n",
        "      <td> British Virgin Islands</td>\n",
        "      <td>  0.000000</td>\n",
        "      <td>  19.077604</td>\n",
        "      <td>-104.922610</td>\n",
        "      <td>  -2.581646</td>\n",
        "      <td>  -4.330872</td>\n",
        "      <td> 0</td>\n",
        "      <td>  64.505268</td>\n",
        "      <td> -26.835610</td>\n",
        "      <td>  -78.364310</td>\n",
        "      <td>  69.651478</td>\n",
        "      <td> -50.044832</td>\n",
        "      <td>    0.000000</td>\n",
        "    </tr>\n",
        "    <tr>\n",
        "      <th>99 </th>\n",
        "      <td>         Cayman Islands</td>\n",
        "      <td>  0.000000</td>\n",
        "      <td>   4.961806</td>\n",
        "      <td>   5.746958</td>\n",
        "      <td>   0.000000</td>\n",
        "      <td>   0.000000</td>\n",
        "      <td> 0</td>\n",
        "      <td>  -0.834887</td>\n",
        "      <td>  39.403816</td>\n",
        "      <td>   64.111202</td>\n",
        "      <td> 158.202491</td>\n",
        "      <td> -48.654698</td>\n",
        "      <td>  269.820916</td>\n",
        "    </tr>\n",
        "    <tr>\n",
        "      <th>100</th>\n",
        "      <td>   Netherlands Antilles</td>\n",
        "      <td>  0.000000</td>\n",
        "      <td>   0.000000</td>\n",
        "      <td>  -1.755012</td>\n",
        "      <td>        NaN</td>\n",
        "      <td>  -1.939686</td>\n",
        "      <td> 0</td>\n",
        "      <td>   0.000000</td>\n",
        "      <td>   0.000000</td>\n",
        "      <td>  -14.850460</td>\n",
        "      <td>   0.000000</td>\n",
        "      <td>   0.000000</td>\n",
        "      <td>    0.000000</td>\n",
        "    </tr>\n",
        "    <tr>\n",
        "      <th>101</th>\n",
        "      <td>  Saint Kitts and Nevis</td>\n",
        "      <td>  0.000000</td>\n",
        "      <td>   0.000000</td>\n",
        "      <td>  -0.617358</td>\n",
        "      <td>   0.000000</td>\n",
        "      <td>   0.000000</td>\n",
        "      <td> 0</td>\n",
        "      <td>   0.000000</td>\n",
        "      <td>        NaN</td>\n",
        "      <td>    0.000000</td>\n",
        "      <td>   0.000000</td>\n",
        "      <td>   0.000000</td>\n",
        "      <td>    0.000000</td>\n",
        "    </tr>\n",
        "    <tr>\n",
        "      <th>105</th>\n",
        "      <td>                 Serbia</td>\n",
        "      <td>  0.000000</td>\n",
        "      <td>   0.000000</td>\n",
        "      <td>   0.000000</td>\n",
        "      <td>   0.000000</td>\n",
        "      <td>   0.000000</td>\n",
        "      <td> 0</td>\n",
        "      <td>  44.153192</td>\n",
        "      <td>  43.139122</td>\n",
        "      <td>    3.459088</td>\n",
        "      <td>  -2.052858</td>\n",
        "      <td>        NaN</td>\n",
        "      <td>         NaN</td>\n",
        "    </tr>\n",
        "    <tr>\n",
        "      <th>106</th>\n",
        "      <td>  Serbia and Montenegro</td>\n",
        "      <td>  8.397236</td>\n",
        "      <td>  16.064292</td>\n",
        "      <td>   3.798951</td>\n",
        "      <td>  42.786379</td>\n",
        "      <td>  12.196814</td>\n",
        "      <td> 0</td>\n",
        "      <td>   0.000000</td>\n",
        "      <td>   0.000000</td>\n",
        "      <td>    0.000000</td>\n",
        "      <td>   0.000000</td>\n",
        "      <td>   0.000000</td>\n",
        "      <td>    0.000000</td>\n",
        "    </tr>\n",
        "    <tr>\n",
        "      <th>108</th>\n",
        "      <td>                Armenia</td>\n",
        "      <td>  0.000000</td>\n",
        "      <td>   1.014980</td>\n",
        "      <td>   2.372369</td>\n",
        "      <td>   1.152810</td>\n",
        "      <td>   1.444044</td>\n",
        "      <td> 0</td>\n",
        "      <td>   0.000000</td>\n",
        "      <td>   0.000000</td>\n",
        "      <td>   50.566582</td>\n",
        "      <td>   0.000000</td>\n",
        "      <td>        NaN</td>\n",
        "      <td>         NaN</td>\n",
        "    </tr>\n",
        "    <tr>\n",
        "      <th>109</th>\n",
        "      <td>                Belarus</td>\n",
        "      <td> 21.839001</td>\n",
        "      <td>   9.269003</td>\n",
        "      <td>   7.385721</td>\n",
        "      <td>   3.863102</td>\n",
        "      <td>   6.421898</td>\n",
        "      <td> 0</td>\n",
        "      <td>   9.799655</td>\n",
        "      <td>   3.969678</td>\n",
        "      <td>    0.000000</td>\n",
        "      <td>   0.000000</td>\n",
        "      <td>        NaN</td>\n",
        "      <td>         NaN</td>\n",
        "    </tr>\n",
        "    <tr>\n",
        "      <th>110</th>\n",
        "      <td>             Kazakhstan</td>\n",
        "      <td>  0.000000</td>\n",
        "      <td>   0.000000</td>\n",
        "      <td>   1.407395</td>\n",
        "      <td>   0.000000</td>\n",
        "      <td>   0.000000</td>\n",
        "      <td> 0</td>\n",
        "      <td>   7.390801</td>\n",
        "      <td>   8.715714</td>\n",
        "      <td>    0.000000</td>\n",
        "      <td>   0.000000</td>\n",
        "      <td>        NaN</td>\n",
        "      <td>         NaN</td>\n",
        "    </tr>\n",
        "    <tr>\n",
        "      <th>111</th>\n",
        "      <td>   Moldova, Republic of</td>\n",
        "      <td>  0.000000</td>\n",
        "      <td>   2.587768</td>\n",
        "      <td>   2.449116</td>\n",
        "      <td>   2.496715</td>\n",
        "      <td>   1.335583</td>\n",
        "      <td> 0</td>\n",
        "      <td>   0.588527</td>\n",
        "      <td>  -2.065404</td>\n",
        "      <td>    0.680704</td>\n",
        "      <td>   0.000000</td>\n",
        "      <td>        NaN</td>\n",
        "      <td>    0.000000</td>\n",
        "    </tr>\n",
        "    <tr>\n",
        "      <th>112</th>\n",
        "      <td>     Russian Federation</td>\n",
        "      <td> 61.080401</td>\n",
        "      <td>  53.188227</td>\n",
        "      <td>  94.663410</td>\n",
        "      <td> 115.301030</td>\n",
        "      <td> 375.244668</td>\n",
        "      <td> 0</td>\n",
        "      <td> 381.994914</td>\n",
        "      <td> 465.917164</td>\n",
        "      <td>  640.973101</td>\n",
        "      <td>-372.308935</td>\n",
        "      <td> 440.672547</td>\n",
        "      <td> 1129.393263</td>\n",
        "    </tr>\n",
        "    <tr>\n",
        "      <th>113</th>\n",
        "      <td>                Ukraine</td>\n",
        "      <td> 11.127452</td>\n",
        "      <td>   8.253065</td>\n",
        "      <td>   3.355402</td>\n",
        "      <td>   2.602879</td>\n",
        "      <td>   1.788345</td>\n",
        "      <td> 0</td>\n",
        "      <td>  19.818296</td>\n",
        "      <td>  14.047680</td>\n",
        "      <td>    9.821586</td>\n",
        "      <td>  11.575469</td>\n",
        "      <td>  20.852013</td>\n",
        "      <td>    6.424308</td>\n",
        "    </tr>\n",
        "    <tr>\n",
        "      <th>114</th>\n",
        "      <td>                Georgia</td>\n",
        "      <td>  0.000000</td>\n",
        "      <td>   1.474070</td>\n",
        "      <td>   0.636544</td>\n",
        "      <td>   0.000000</td>\n",
        "      <td>   0.000000</td>\n",
        "      <td> 0</td>\n",
        "      <td>   0.000000</td>\n",
        "      <td>   1.625957</td>\n",
        "      <td>    0.000000</td>\n",
        "      <td>   0.000000</td>\n",
        "      <td>        NaN</td>\n",
        "      <td>    0.000000</td>\n",
        "    </tr>\n",
        "  </tbody>\n",
        "</table>\n",
        "<p>85 rows \u00d7 13 columns</p>\n",
        "</div>"
       ],
       "metadata": {},
       "output_type": "pyout",
       "prompt_number": 26,
       "text": [
        "                    country       2001        2002        2003        2004  \\\n",
        "5                   Austria  13.555524   26.381820   21.000323   43.746846   \n",
        "6                   Belgium   0.000000    2.947181    3.085660    3.286072   \n",
        "7                  Bulgaria   2.005799    3.717761    3.432148  -27.336471   \n",
        "8            Czech Republic   1.310504    0.851088   -3.548397    4.119143   \n",
        "9                   Denmark   0.000000    0.000000    0.000000    0.000000   \n",
        "10                  Estonia  -0.738068    0.000000    0.000000    0.000000   \n",
        "11                  Finland   1.040212    2.144973    2.141001    0.000000   \n",
        "12                   France  17.204004   24.006824   15.098743    1.195276   \n",
        "13                  Germany  81.404132  109.652376  180.051781  180.921299   \n",
        "14                   Greece  69.978176  173.796448  192.567102   49.040032   \n",
        "15                  Hungary   1.138500    0.000000    7.867644    0.000000   \n",
        "16                  Ireland   2.009439    3.274965   23.988921    2.240674   \n",
        "17                    Italy   4.823382    0.000000    0.000000    0.000000   \n",
        "18                   Latvia   0.000000    0.704448    3.412962    0.533315   \n",
        "19                Lithuania   0.000000    0.000000    0.000000    0.000000   \n",
        "20               Luxembourg   0.000000   20.845913    3.914071    0.000000   \n",
        "21                    Malta   0.000000    0.000000    0.000000    0.000000   \n",
        "22              Netherlands  82.121269   25.120523   12.457761  118.480938   \n",
        "23                   Poland  33.031978   22.893125   78.234018  154.096911   \n",
        "24                 Portugal   3.461914    2.014626    1.697452   -0.575781   \n",
        "25                  Romania   0.498720    1.342764    5.167973    7.938530   \n",
        "26                 Slovakia   2.089526    0.000000    0.000000    0.000000   \n",
        "27                 Slovenia   0.000000    0.000000    0.000000    0.000000   \n",
        "28                    Spain   0.000000    0.000000    0.000000    0.000000   \n",
        "29                   Sweden   3.625727    1.867027    3.066474    4.993430   \n",
        "30           United Kingdom  72.457213    7.975119  118.286657  192.594286   \n",
        "32                Gibraltar   0.000000  -10.283984  -11.743342    0.640728   \n",
        "33                 Guernsey   0.000000  320.359987  -32.975033   38.583554   \n",
        "34              Isle of Man   0.000000   35.420800    3.703018   -1.322672   \n",
        "35                   Jersey   0.000000   23.613867    2.372369    1.216509   \n",
        "..                      ...        ...         ...         ...         ...   \n",
        "76                    Nepal   0.000000    3.029606    1.928820    1.984633   \n",
        "78                  Bahrain   0.000000    0.000000    0.000000    0.554548   \n",
        "79                   Jordan   0.000000    4.830501         NaN         NaN   \n",
        "80                   Kuwait   0.000000    0.000000   -0.963846    1.237741   \n",
        "81                  Lebanon   0.000000   19.733172   17.721668    3.328537   \n",
        "82                     Oman   0.000000    0.000000    0.000000    0.000000   \n",
        "83                    Qatar   0.000000    0.000000    0.000000    0.000000   \n",
        "84             Saudi Arabia   0.000000   42.053155    5.573150    1.749824   \n",
        "85     Syrian Arab Republic   0.000000    1.555536    3.586770    0.597013   \n",
        "86     United Arab Emirates   0.000000         NaN    0.000000         NaN   \n",
        "89                   Brazil   0.000000    0.000000   -1.041721    0.000000   \n",
        "91                   Belize   0.000000    0.000000    1.118467    0.533315   \n",
        "92                Guatemala   0.000000    0.000000    0.000000    0.000000   \n",
        "93                   Panama   0.000000    1.981081    1.697452    0.000000   \n",
        "95      Antigua and Barbuda   0.000000    0.000000    0.000000    0.000000   \n",
        "96                    Aruba   0.000000    0.000000    0.000000    0.000000   \n",
        "97                  Bahamas   0.000000    0.000000    0.520296    0.000000   \n",
        "98   British Virgin Islands   0.000000   19.077604 -104.922610   -2.581646   \n",
        "99           Cayman Islands   0.000000    4.961806    5.746958    0.000000   \n",
        "100    Netherlands Antilles   0.000000    0.000000   -1.755012         NaN   \n",
        "101   Saint Kitts and Nevis   0.000000    0.000000   -0.617358    0.000000   \n",
        "105                  Serbia   0.000000    0.000000    0.000000    0.000000   \n",
        "106   Serbia and Montenegro   8.397236   16.064292    3.798951   42.786379   \n",
        "108                 Armenia   0.000000    1.014980    2.372369    1.152810   \n",
        "109                 Belarus  21.839001    9.269003    7.385721    3.863102   \n",
        "110              Kazakhstan   0.000000    0.000000    1.407395    0.000000   \n",
        "111    Moldova, Republic of   0.000000    2.587768    2.449116    2.496715   \n",
        "112      Russian Federation  61.080401   53.188227   94.663410  115.301030   \n",
        "113                 Ukraine  11.127452    8.253065    3.355402    2.602879   \n",
        "114                 Georgia   0.000000    1.474070    0.636544    0.000000   \n",
        "\n",
        "           2005  2006        2007        2008         2009        2010  \\\n",
        "5     41.157152     0  121.099642 -253.561358   -56.331728  -65.943089   \n",
        "6      0.517081     0    0.875947   -7.441315    -1.528111         NaN   \n",
        "7    -27.517556     0   65.039048  -11.762552     8.196232    8.065744   \n",
        "8      1.745465     0    0.000000    2.856410     8.168448    4.661974   \n",
        "9      0.000000     0    1.628714    0.717765     0.000000         NaN   \n",
        "10     0.000000     0    0.848573         NaN     0.000000    0.000000   \n",
        "11     0.000000     0    0.752767    0.673820     0.000000    0.000000   \n",
        "12    12.908116     0   15.137455    0.000000   -11.460832   -5.522850   \n",
        "13    13.273856     0  180.171302   26.366866   -53.845075  164.043203   \n",
        "14     0.000000     0  136.716130  226.110521   673.507973  175.115390   \n",
        "15     0.000000     0    0.000000    1.772439     0.527893    7.204869   \n",
        "16     4.245112     0   26.456330    0.000000   -37.313692    1.602553   \n",
        "17     0.991283     0    1.177053    0.922840     2.514437   -3.072665   \n",
        "18    66.089301     0  -15.424875         NaN     0.527893    1.086028   \n",
        "19     0.538521     0    7.322368         NaN     0.000000         NaN   \n",
        "20    -9.135944     0   10.949335  -48.983777    11.155210   -9.006086   \n",
        "21     0.000000     0    0.000000    0.000000    53.108803         NaN   \n",
        "22   190.724822     0  273.555441   17.900172  1043.477536 -209.815309   \n",
        "23   -27.086234     0   44.180565    1.874977     1.403084    0.913853   \n",
        "24     0.000000     0    0.834887         NaN     0.000000    0.000000   \n",
        "25     7.434621     0    0.000000   -0.600579     7.598879   -8.516049   \n",
        "26     0.000000     0    0.000000         NaN     0.000000         NaN   \n",
        "27     0.000000     0    0.000000         NaN     1.111353    0.000000   \n",
        "28     0.000000     0    0.752767   12.700040     2.153247    0.000000   \n",
        "29     1.961126     0    9.402741    2.578094     3.861953    1.602553   \n",
        "30   355.764574     0  513.824904  464.496283   289.215843   96.722712   \n",
        "32     0.000000     0    0.000000   69.549932    -4.139792    0.000000   \n",
        "33    55.336532     0  194.802351    2.460907    53.428317   22.422505   \n",
        "34    23.962306     0   30.302284   20.038818     7.112662    1.311180   \n",
        "35     2.025445     0   -6.911768  -10.414912     1.264165    0.000000   \n",
        "..          ...   ...         ...         ...          ...         ...   \n",
        "76     2.111205     0    3.038440         NaN     0.000000    0.000000   \n",
        "78     0.948403     0    1.231800    0.000000     1.458651   -1.297936   \n",
        "79     0.000000     0   -6.692781    3.413044    15.725651    5.867200   \n",
        "80     0.000000     0    1.327607         NaN     0.000000    0.000000   \n",
        "81    10.494229     0   14.617362   17.533966    52.886532   26.740128   \n",
        "82     0.000000     0    2.340420    0.000000     0.000000         NaN   \n",
        "83     0.000000     0    0.000000    0.952137     0.930759         NaN   \n",
        "84     5.689156     0    2.203554   -2.387666    -5.598443  -11.098676   \n",
        "85     0.000000     0   -3.216367    0.000000     0.000000         NaN   \n",
        "86    16.354904     0   75.194556   31.127550    20.032146  -15.906337   \n",
        "89     0.000000     0    0.000000    0.000000     0.000000    0.000000   \n",
        "91     0.000000     0    2.983694   15.014465     7.362717         NaN   \n",
        "92     0.000000     0    0.000000    0.000000     0.694596    0.000000   \n",
        "93     1.486924     0    0.000000    0.000000     0.000000    0.000000   \n",
        "95     0.000000     0    0.000000    0.000000     2.931195    0.000000   \n",
        "96     0.000000     0    0.000000    0.000000   -23.032800    0.000000   \n",
        "97     0.711302     0    0.000000    1.171861     2.958979    6.343993   \n",
        "98    -4.330872     0   64.505268  -26.835610   -78.364310   69.651478   \n",
        "99     0.000000     0   -0.834887   39.403816    64.111202  158.202491   \n",
        "100   -1.939686     0    0.000000    0.000000   -14.850460    0.000000   \n",
        "101    0.000000     0    0.000000         NaN     0.000000    0.000000   \n",
        "105    0.000000     0   44.153192   43.139122     3.459088   -2.052858   \n",
        "106   12.196814     0    0.000000    0.000000     0.000000    0.000000   \n",
        "108    1.444044     0    0.000000    0.000000    50.566582    0.000000   \n",
        "109    6.421898     0    9.799655    3.969678     0.000000    0.000000   \n",
        "110    0.000000     0    7.390801    8.715714     0.000000    0.000000   \n",
        "111    1.335583     0    0.588527   -2.065404     0.680704    0.000000   \n",
        "112  375.244668     0  381.994914  465.917164   640.973101 -372.308935   \n",
        "113    1.788345     0   19.818296   14.047680     9.821586   11.575469   \n",
        "114    0.000000     0    0.000000    1.625957     0.000000    0.000000   \n",
        "\n",
        "           2011         2012  \n",
        "5    -19.461879   -21.842646  \n",
        "6      1.390134          NaN  \n",
        "7           NaN     0.000000  \n",
        "8      2.780268          NaN  \n",
        "9           NaN          NaN  \n",
        "10          NaN          NaN  \n",
        "11     0.000000     0.000000  \n",
        "12    22.242147    -3.854585  \n",
        "13   -62.556040    24.412369  \n",
        "14   335.022346   276.245224  \n",
        "15     0.000000          NaN  \n",
        "16     0.000000    -1.284862  \n",
        "17     0.000000    -1.284862  \n",
        "18     1.390134     6.424308  \n",
        "19          NaN          NaN  \n",
        "20     5.560537   -19.272923  \n",
        "21    33.363221   -11.563754  \n",
        "22    95.919261   185.020057  \n",
        "23     8.340805     2.569723  \n",
        "24     0.000000     0.000000  \n",
        "25          NaN          NaN  \n",
        "26     0.000000     0.000000  \n",
        "27     0.000000     0.000000  \n",
        "28          NaN          NaN  \n",
        "29    70.896845   -44.970153  \n",
        "30    34.753355    59.103629  \n",
        "32     0.000000          NaN  \n",
        "33   244.663622          NaN  \n",
        "34          NaN    -2.569723  \n",
        "35          NaN          NaN  \n",
        "..          ...          ...  \n",
        "76     0.000000     0.000000  \n",
        "78          NaN          NaN  \n",
        "79     0.000000     0.000000  \n",
        "80     4.170403     0.000000  \n",
        "81    34.753355    61.673352  \n",
        "82     0.000000          NaN  \n",
        "83          NaN     0.000000  \n",
        "84          NaN          NaN  \n",
        "85     0.000000          NaN  \n",
        "86   222.421475    53.964183  \n",
        "89     0.000000     0.000000  \n",
        "91   278.026843          NaN  \n",
        "92     0.000000     0.000000  \n",
        "93     0.000000     0.000000  \n",
        "95     0.000000     0.000000  \n",
        "96          NaN          NaN  \n",
        "97          NaN          NaN  \n",
        "98   -50.044832     0.000000  \n",
        "99   -48.654698   269.820916  \n",
        "100    0.000000     0.000000  \n",
        "101    0.000000     0.000000  \n",
        "105         NaN          NaN  \n",
        "106    0.000000     0.000000  \n",
        "108         NaN          NaN  \n",
        "109         NaN          NaN  \n",
        "110         NaN          NaN  \n",
        "111         NaN     0.000000  \n",
        "112  440.672547  1129.393263  \n",
        "113   20.852013     6.424308  \n",
        "114         NaN     0.000000  \n",
        "\n",
        "[85 rows x 13 columns]"
       ]
      }
     ],
     "prompt_number": 26
    },
    {
     "cell_type": "code",
     "collapsed": false,
     "input": [
      "outflow_dir = '/home/anh/Dropbox/fdi_network/Data/UNCTAD_outflow/'\n",
      "inflow_dir = '/home/anh/Dropbox/fdi_network/Data/UNCTAD_inflow/'\n",
      "\n",
      "for dir in [outflow_dir, inflow_dir]:\n",
      "    if not os.path.exists(dir):\n",
      "        os.makedirs(dir)"
     ],
     "language": "python",
     "metadata": {},
     "outputs": [],
     "prompt_number": 27
    },
    {
     "cell_type": "code",
     "collapsed": false,
     "input": [
      "old_dir = '/home/anh/Dropbox/fdi_network/Data/UNCTAD/'\n",
      "for filename in os.listdir(old_dir):\n",
      "    if filename.endswith('xls'):\n",
      "        print \"working on \" + old_dir + filename\n",
      "        \n",
      "        new_filename = '/home/anh/Dropbox/fdi_network/Data/UNCTAD_inflow/' + filename.split(\".\")[0] + \".csv\"\n",
      "        read_fdi_excel(old_dir + filename, sheetname=0).to_csv(new_filename, na_rep='NA', encoding='utf-8', index=False)\n",
      "        \n",
      "        new_filename = '/home/anh/Dropbox/fdi_network/Data/UNCTAD_outflow/' + filename.split(\".\")[0] + \".csv\"\n",
      "        read_fdi_excel(old_dir + filename, sheetname=1).to_csv(new_filename, na_rep='NA', encoding='utf-8', index=False)"
     ],
     "language": "python",
     "metadata": {},
     "outputs": [
      {
       "output_type": "stream",
       "stream": "stdout",
       "text": [
        "working on /home/anh/Dropbox/fdi_network/Data/UNCTAD/SVN_fdi.xls\n",
        "working on /home/anh/Dropbox/fdi_network/Data/UNCTAD/KWT_fdi.xls"
       ]
      },
      {
       "output_type": "stream",
       "stream": "stdout",
       "text": [
        "\n",
        "working on /home/anh/Dropbox/fdi_network/Data/UNCTAD/SWE_fdi.xls"
       ]
      },
      {
       "output_type": "stream",
       "stream": "stdout",
       "text": [
        "\n",
        "working on /home/anh/Dropbox/fdi_network/Data/UNCTAD/COD_fdi.xls"
       ]
      },
      {
       "output_type": "stream",
       "stream": "stdout",
       "text": [
        "\n",
        "working on /home/anh/Dropbox/fdi_network/Data/UNCTAD/BHR_fdi.xls"
       ]
      },
      {
       "output_type": "stream",
       "stream": "stdout",
       "text": [
        "\n",
        "working on /home/anh/Dropbox/fdi_network/Data/UNCTAD/HGK_fdi.xls"
       ]
      },
      {
       "output_type": "stream",
       "stream": "stdout",
       "text": [
        "\n",
        "working on /home/anh/Dropbox/fdi_network/Data/UNCTAD/KEN_fdi.xls"
       ]
      },
      {
       "output_type": "stream",
       "stream": "stdout",
       "text": [
        "\n",
        "working on /home/anh/Dropbox/fdi_network/Data/UNCTAD/FRA_fdi.xls"
       ]
      },
      {
       "output_type": "stream",
       "stream": "stdout",
       "text": [
        "\n",
        "working on /home/anh/Dropbox/fdi_network/Data/UNCTAD/MDV_fdi.xls"
       ]
      },
      {
       "output_type": "stream",
       "stream": "stdout",
       "text": [
        "\n",
        "working on /home/anh/Dropbox/fdi_network/Data/UNCTAD/KOR_fdi.xls"
       ]
      },
      {
       "output_type": "stream",
       "stream": "stdout",
       "text": [
        "\n",
        "working on /home/anh/Dropbox/fdi_network/Data/UNCTAD/ROU_fdi.xls"
       ]
      },
      {
       "output_type": "stream",
       "stream": "stdout",
       "text": [
        "\n",
        "working on /home/anh/Dropbox/fdi_network/Data/UNCTAD/FSM_fdi.xls"
       ]
      },
      {
       "output_type": "stream",
       "stream": "stdout",
       "text": [
        "\n",
        "working on /home/anh/Dropbox/fdi_network/Data/UNCTAD/HTI_fdi.xls"
       ]
      },
      {
       "output_type": "stream",
       "stream": "stdout",
       "text": [
        "\n",
        "working on /home/anh/Dropbox/fdi_network/Data/UNCTAD/MHL_fdi.xls"
       ]
      },
      {
       "output_type": "stream",
       "stream": "stdout",
       "text": [
        "\n",
        "working on /home/anh/Dropbox/fdi_network/Data/UNCTAD/SDN_fdi.xls"
       ]
      },
      {
       "output_type": "stream",
       "stream": "stdout",
       "text": [
        "\n",
        "working on /home/anh/Dropbox/fdi_network/Data/UNCTAD/PRT_fdi.xls"
       ]
      },
      {
       "output_type": "stream",
       "stream": "stdout",
       "text": [
        "\n",
        "working on /home/anh/Dropbox/fdi_network/Data/UNCTAD/THA_fdi.xls"
       ]
      },
      {
       "output_type": "stream",
       "stream": "stdout",
       "text": [
        "\n",
        "working on /home/anh/Dropbox/fdi_network/Data/UNCTAD/MNG_fdi.xls"
       ]
      },
      {
       "output_type": "stream",
       "stream": "stdout",
       "text": [
        "\n",
        "working on /home/anh/Dropbox/fdi_network/Data/UNCTAD/BLZ_fdi.xls"
       ]
      },
      {
       "output_type": "stream",
       "stream": "stdout",
       "text": [
        "\n",
        "working on /home/anh/Dropbox/fdi_network/Data/UNCTAD/ZWE_fdi.xls"
       ]
      },
      {
       "output_type": "stream",
       "stream": "stdout",
       "text": [
        "\n",
        "working on /home/anh/Dropbox/fdi_network/Data/UNCTAD/HND_fdi.xls"
       ]
      },
      {
       "output_type": "stream",
       "stream": "stdout",
       "text": [
        "\n",
        "working on /home/anh/Dropbox/fdi_network/Data/UNCTAD/MLI_fdi.xls"
       ]
      },
      {
       "output_type": "stream",
       "stream": "stdout",
       "text": [
        "\n",
        "working on /home/anh/Dropbox/fdi_network/Data/UNCTAD/SRB_fdi.xls"
       ]
      },
      {
       "output_type": "stream",
       "stream": "stdout",
       "text": [
        "\n",
        "working on /home/anh/Dropbox/fdi_network/Data/UNCTAD/CHL_fdi.xls"
       ]
      },
      {
       "output_type": "stream",
       "stream": "stdout",
       "text": [
        "\n",
        "working on /home/anh/Dropbox/fdi_network/Data/UNCTAD/IND_fdi.xls"
       ]
      },
      {
       "output_type": "stream",
       "stream": "stdout",
       "text": [
        "\n",
        "working on /home/anh/Dropbox/fdi_network/Data/UNCTAD/BIOT_fdi.xls"
       ]
      },
      {
       "output_type": "stream",
       "stream": "stdout",
       "text": [
        "\n",
        "working on /home/anh/Dropbox/fdi_network/Data/UNCTAD/JOR_fdi.xls"
       ]
      },
      {
       "output_type": "stream",
       "stream": "stdout",
       "text": [
        "\n",
        "working on /home/anh/Dropbox/fdi_network/Data/UNCTAD/VCT_fdi.xls"
       ]
      },
      {
       "output_type": "stream",
       "stream": "stdout",
       "text": [
        "\n",
        "working on /home/anh/Dropbox/fdi_network/Data/UNCTAD/GBR_fdi.xls"
       ]
      },
      {
       "output_type": "stream",
       "stream": "stdout",
       "text": [
        "\n",
        "working on /home/anh/Dropbox/fdi_network/Data/UNCTAD/FIN_fdi.xls"
       ]
      },
      {
       "output_type": "stream",
       "stream": "stdout",
       "text": [
        "\n",
        "working on /home/anh/Dropbox/fdi_network/Data/UNCTAD/GNQ_fdi.xls"
       ]
      },
      {
       "output_type": "stream",
       "stream": "stdout",
       "text": [
        "\n",
        "working on /home/anh/Dropbox/fdi_network/Data/UNCTAD/CAN_fdi.xls"
       ]
      },
      {
       "output_type": "stream",
       "stream": "stdout",
       "text": [
        "\n",
        "working on /home/anh/Dropbox/fdi_network/Data/UNCTAD/PAN_fdi.xls"
       ]
      },
      {
       "output_type": "stream",
       "stream": "stdout",
       "text": [
        "\n",
        "working on /home/anh/Dropbox/fdi_network/Data/UNCTAD/LCA_fdi.xls"
       ]
      },
      {
       "output_type": "stream",
       "stream": "stdout",
       "text": [
        "\n",
        "working on /home/anh/Dropbox/fdi_network/Data/UNCTAD/VEN_fdi.xls"
       ]
      },
      {
       "output_type": "stream",
       "stream": "stdout",
       "text": [
        "\n",
        "working on /home/anh/Dropbox/fdi_network/Data/UNCTAD/WSM_fdi.xls"
       ]
      },
      {
       "output_type": "stream",
       "stream": "stdout",
       "text": [
        "\n",
        "working on /home/anh/Dropbox/fdi_network/Data/UNCTAD/CPV_fdi.xls"
       ]
      },
      {
       "output_type": "stream",
       "stream": "stdout",
       "text": [
        "\n",
        "working on /home/anh/Dropbox/fdi_network/Data/UNCTAD/SAU_fdi.xls"
       ]
      },
      {
       "output_type": "stream",
       "stream": "stdout",
       "text": [
        "\n",
        "working on /home/anh/Dropbox/fdi_network/Data/UNCTAD/MNP_fdi.xls"
       ]
      },
      {
       "output_type": "stream",
       "stream": "stdout",
       "text": [
        "\n",
        "working on /home/anh/Dropbox/fdi_network/Data/UNCTAD/GIN_fdi.xls"
       ]
      },
      {
       "output_type": "stream",
       "stream": "stdout",
       "text": [
        "\n",
        "working on /home/anh/Dropbox/fdi_network/Data/UNCTAD/GHA_fdi.xls"
       ]
      },
      {
       "output_type": "stream",
       "stream": "stdout",
       "text": [
        "\n",
        "working on /home/anh/Dropbox/fdi_network/Data/UNCTAD/GAB_fdi.xls"
       ]
      },
      {
       "output_type": "stream",
       "stream": "stdout",
       "text": [
        "\n",
        "working on /home/anh/Dropbox/fdi_network/Data/UNCTAD/ISR_fdi.xls"
       ]
      },
      {
       "output_type": "stream",
       "stream": "stdout",
       "text": [
        "\n",
        "working on /home/anh/Dropbox/fdi_network/Data/UNCTAD/COK_fdi.xls"
       ]
      },
      {
       "output_type": "stream",
       "stream": "stdout",
       "text": [
        "\n",
        "working on /home/anh/Dropbox/fdi_network/Data/UNCTAD/NPL_fdi.xls"
       ]
      },
      {
       "output_type": "stream",
       "stream": "stdout",
       "text": [
        "\n",
        "working on /home/anh/Dropbox/fdi_network/Data/UNCTAD/GRC_fdi.xls"
       ]
      },
      {
       "output_type": "stream",
       "stream": "stdout",
       "text": [
        "\n",
        "working on /home/anh/Dropbox/fdi_network/Data/UNCTAD/BRB_fdi.xls"
       ]
      },
      {
       "output_type": "stream",
       "stream": "stdout",
       "text": [
        "\n",
        "working on /home/anh/Dropbox/fdi_network/Data/UNCTAD/LKA_fdi.xls"
       ]
      },
      {
       "output_type": "stream",
       "stream": "stdout",
       "text": [
        "\n",
        "working on /home/anh/Dropbox/fdi_network/Data/UNCTAD/AIA_fdi.xls"
       ]
      },
      {
       "output_type": "stream",
       "stream": "stdout",
       "text": [
        "\n",
        "working on /home/anh/Dropbox/fdi_network/Data/UNCTAD/SLB_fdi.xls"
       ]
      },
      {
       "output_type": "stream",
       "stream": "stdout",
       "text": [
        "\n",
        "working on /home/anh/Dropbox/fdi_network/Data/UNCTAD/PNG_fdi.xls"
       ]
      },
      {
       "output_type": "stream",
       "stream": "stdout",
       "text": [
        "\n",
        "working on /home/anh/Dropbox/fdi_network/Data/UNCTAD/CYM_fdi.xls"
       ]
      },
      {
       "output_type": "stream",
       "stream": "stdout",
       "text": [
        "\n",
        "working on /home/anh/Dropbox/fdi_network/Data/UNCTAD/CMR_fdi.xls"
       ]
      },
      {
       "output_type": "stream",
       "stream": "stdout",
       "text": [
        "\n",
        "working on /home/anh/Dropbox/fdi_network/Data/UNCTAD/NOR_fdi.xls"
       ]
      },
      {
       "output_type": "stream",
       "stream": "stdout",
       "text": [
        "\n",
        "working on /home/anh/Dropbox/fdi_network/Data/UNCTAD/CHN_fdi.xls"
       ]
      },
      {
       "output_type": "stream",
       "stream": "stdout",
       "text": [
        "\n",
        "working on /home/anh/Dropbox/fdi_network/Data/UNCTAD/KHM_fdi.xls"
       ]
      },
      {
       "output_type": "stream",
       "stream": "stdout",
       "text": [
        "\n",
        "working on /home/anh/Dropbox/fdi_network/Data/UNCTAD/NCL_fdi.xls"
       ]
      },
      {
       "output_type": "stream",
       "stream": "stdout",
       "text": [
        "\n",
        "working on /home/anh/Dropbox/fdi_network/Data/UNCTAD/PER_fdi.xls"
       ]
      },
      {
       "output_type": "stream",
       "stream": "stdout",
       "text": [
        "\n",
        "working on /home/anh/Dropbox/fdi_network/Data/UNCTAD/DNK_fdi.xls"
       ]
      },
      {
       "output_type": "stream",
       "stream": "stdout",
       "text": [
        "\n",
        "working on /home/anh/Dropbox/fdi_network/Data/UNCTAD/IRN_fdi.xls"
       ]
      },
      {
       "output_type": "stream",
       "stream": "stdout",
       "text": [
        "\n",
        "working on /home/anh/Dropbox/fdi_network/Data/UNCTAD/SVK_fdi.xls"
       ]
      },
      {
       "output_type": "stream",
       "stream": "stdout",
       "text": [
        "\n",
        "working on /home/anh/Dropbox/fdi_network/Data/UNCTAD/COL_fdi.xls"
       ]
      },
      {
       "output_type": "stream",
       "stream": "stdout",
       "text": [
        "\n",
        "working on /home/anh/Dropbox/fdi_network/Data/UNCTAD/SLE_fdi.xls"
       ]
      },
      {
       "output_type": "stream",
       "stream": "stdout",
       "text": [
        "\n",
        "working on /home/anh/Dropbox/fdi_network/Data/UNCTAD/IRQ_fdi.xls"
       ]
      },
      {
       "output_type": "stream",
       "stream": "stdout",
       "text": [
        "\n",
        "working on /home/anh/Dropbox/fdi_network/Data/UNCTAD/BRN_fdi.xls"
       ]
      },
      {
       "output_type": "stream",
       "stream": "stdout",
       "text": [
        "\n",
        "working on /home/anh/Dropbox/fdi_network/Data/UNCTAD/TCD_fdi.xls"
       ]
      },
      {
       "output_type": "stream",
       "stream": "stdout",
       "text": [
        "\n",
        "working on /home/anh/Dropbox/fdi_network/Data/UNCTAD/PYF_fdi.xls"
       ]
      },
      {
       "output_type": "stream",
       "stream": "stdout",
       "text": [
        "\n",
        "working on /home/anh/Dropbox/fdi_network/Data/UNCTAD/TWN_fdi.xls"
       ]
      },
      {
       "output_type": "stream",
       "stream": "stdout",
       "text": [
        "\n",
        "working on /home/anh/Dropbox/fdi_network/Data/UNCTAD/MRT_fdi.xls"
       ]
      },
      {
       "output_type": "stream",
       "stream": "stdout",
       "text": [
        "\n",
        "working on /home/anh/Dropbox/fdi_network/Data/UNCTAD/JAM_fdi.xls"
       ]
      },
      {
       "output_type": "stream",
       "stream": "stdout",
       "text": [
        "\n",
        "working on /home/anh/Dropbox/fdi_network/Data/UNCTAD/ISL_fdi.xls"
       ]
      },
      {
       "output_type": "stream",
       "stream": "stdout",
       "text": [
        "\n",
        "working on /home/anh/Dropbox/fdi_network/Data/UNCTAD/JPN_fdi.xls"
       ]
      },
      {
       "output_type": "stream",
       "stream": "stdout",
       "text": [
        "\n",
        "working on /home/anh/Dropbox/fdi_network/Data/UNCTAD/LVA_fdi.xls"
       ]
      },
      {
       "output_type": "stream",
       "stream": "stdout",
       "text": [
        "\n",
        "working on /home/anh/Dropbox/fdi_network/Data/UNCTAD/SWZ_fdi.xls"
       ]
      },
      {
       "output_type": "stream",
       "stream": "stdout",
       "text": [
        "\n",
        "working on /home/anh/Dropbox/fdi_network/Data/UNCTAD/URY_fdi.xls"
       ]
      },
      {
       "output_type": "stream",
       "stream": "stdout",
       "text": [
        "\n",
        "working on /home/anh/Dropbox/fdi_network/Data/UNCTAD/SLV_fdi.xls"
       ]
      },
      {
       "output_type": "stream",
       "stream": "stdout",
       "text": [
        "\n",
        "working on /home/anh/Dropbox/fdi_network/Data/UNCTAD/TGO_fdi.xls"
       ]
      },
      {
       "output_type": "stream",
       "stream": "stdout",
       "text": [
        "\n",
        "working on /home/anh/Dropbox/fdi_network/Data/UNCTAD/TUV_fdi.xls"
       ]
      },
      {
       "output_type": "stream",
       "stream": "stdout",
       "text": [
        "\n",
        "working on /home/anh/Dropbox/fdi_network/Data/UNCTAD/TON_fdi.xls"
       ]
      },
      {
       "output_type": "stream",
       "stream": "stdout",
       "text": [
        "\n",
        "working on /home/anh/Dropbox/fdi_network/Data/UNCTAD/HUN_fdi.xls"
       ]
      },
      {
       "output_type": "stream",
       "stream": "stdout",
       "text": [
        "\n",
        "working on /home/anh/Dropbox/fdi_network/Data/UNCTAD/COM_fdi.xls"
       ]
      },
      {
       "output_type": "stream",
       "stream": "stdout",
       "text": [
        "\n",
        "working on /home/anh/Dropbox/fdi_network/Data/UNCTAD/BLR_fdi.xls"
       ]
      },
      {
       "output_type": "stream",
       "stream": "stdout",
       "text": [
        "\n",
        "working on /home/anh/Dropbox/fdi_network/Data/UNCTAD/NRU_fdi.xls"
       ]
      },
      {
       "output_type": "stream",
       "stream": "stdout",
       "text": [
        "\n",
        "working on /home/anh/Dropbox/fdi_network/Data/UNCTAD/RUS_fdi.xls"
       ]
      },
      {
       "output_type": "stream",
       "stream": "stdout",
       "text": [
        "\n",
        "working on /home/anh/Dropbox/fdi_network/Data/UNCTAD/ABW_fdi.xls"
       ]
      },
      {
       "output_type": "stream",
       "stream": "stdout",
       "text": [
        "\n",
        "working on /home/anh/Dropbox/fdi_network/Data/UNCTAD/AGO_fdi.xls"
       ]
      },
      {
       "output_type": "stream",
       "stream": "stdout",
       "text": [
        "\n",
        "working on /home/anh/Dropbox/fdi_network/Data/UNCTAD/OMN_fdi.xls"
       ]
      },
      {
       "output_type": "stream",
       "stream": "stdout",
       "text": [
        "\n",
        "working on /home/anh/Dropbox/fdi_network/Data/UNCTAD/MUS_fdi.xls"
       ]
      },
      {
       "output_type": "stream",
       "stream": "stdout",
       "text": [
        "\n",
        "working on /home/anh/Dropbox/fdi_network/Data/UNCTAD/PRK_fdi.xls"
       ]
      },
      {
       "output_type": "stream",
       "stream": "stdout",
       "text": [
        "\n",
        "working on /home/anh/Dropbox/fdi_network/Data/UNCTAD/BEN_fdi.xls"
       ]
      },
      {
       "output_type": "stream",
       "stream": "stdout",
       "text": [
        "\n",
        "working on /home/anh/Dropbox/fdi_network/Data/UNCTAD/CRI_fdi.xls"
       ]
      },
      {
       "output_type": "stream",
       "stream": "stdout",
       "text": [
        "\n",
        "working on /home/anh/Dropbox/fdi_network/Data/UNCTAD/KGZ_fdi.xls"
       ]
      },
      {
       "output_type": "stream",
       "stream": "stdout",
       "text": [
        "\n",
        "working on /home/anh/Dropbox/fdi_network/Data/UNCTAD/BTN_fdi.xls"
       ]
      },
      {
       "output_type": "stream",
       "stream": "stdout",
       "text": [
        "\n",
        "working on /home/anh/Dropbox/fdi_network/Data/UNCTAD/PHL_fdi.xls"
       ]
      },
      {
       "output_type": "stream",
       "stream": "stdout",
       "text": [
        "\n",
        "working on /home/anh/Dropbox/fdi_network/Data/UNCTAD/IDN_fdi.xls"
       ]
      },
      {
       "output_type": "stream",
       "stream": "stdout",
       "text": [
        "\n",
        "working on /home/anh/Dropbox/fdi_network/Data/UNCTAD/PRY_fdi.xls"
       ]
      },
      {
       "output_type": "stream",
       "stream": "stdout",
       "text": [
        "\n",
        "working on /home/anh/Dropbox/fdi_network/Data/UNCTAD/TLS_fdi.xls"
       ]
      },
      {
       "output_type": "stream",
       "stream": "stdout",
       "text": [
        "\n",
        "working on /home/anh/Dropbox/fdi_network/Data/UNCTAD/QAT_fdi.xls"
       ]
      },
      {
       "output_type": "stream",
       "stream": "stdout",
       "text": [
        "\n",
        "working on /home/anh/Dropbox/fdi_network/Data/UNCTAD/SHN_fdi.xls"
       ]
      },
      {
       "output_type": "stream",
       "stream": "stdout",
       "text": [
        "\n",
        "working on /home/anh/Dropbox/fdi_network/Data/UNCTAD/ERI_fdi.xls"
       ]
      },
      {
       "output_type": "stream",
       "stream": "stdout",
       "text": [
        "\n",
        "working on /home/anh/Dropbox/fdi_network/Data/UNCTAD/YEM_fdi.xls"
       ]
      },
      {
       "output_type": "stream",
       "stream": "stdout",
       "text": [
        "\n",
        "working on /home/anh/Dropbox/fdi_network/Data/UNCTAD/BGR_fdi.xls"
       ]
      },
      {
       "output_type": "stream",
       "stream": "stdout",
       "text": [
        "\n",
        "working on /home/anh/Dropbox/fdi_network/Data/UNCTAD/ITA_fdi.xls"
       ]
      },
      {
       "output_type": "stream",
       "stream": "stdout",
       "text": [
        "\n",
        "working on /home/anh/Dropbox/fdi_network/Data/UNCTAD/NGA_fdi.xls"
       ]
      },
      {
       "output_type": "stream",
       "stream": "stdout",
       "text": [
        "\n",
        "working on /home/anh/Dropbox/fdi_network/Data/UNCTAD/VGB_fdi.xls"
       ]
      },
      {
       "output_type": "stream",
       "stream": "stdout",
       "text": [
        "\n",
        "working on /home/anh/Dropbox/fdi_network/Data/UNCTAD/TZA_fdi.xls"
       ]
      },
      {
       "output_type": "stream",
       "stream": "stdout",
       "text": [
        "\n",
        "working on /home/anh/Dropbox/fdi_network/Data/UNCTAD/LBR_fdi.xls"
       ]
      },
      {
       "output_type": "stream",
       "stream": "stdout",
       "text": [
        "\n",
        "working on /home/anh/Dropbox/fdi_network/Data/UNCTAD/CAF_fdi.xls"
       ]
      },
      {
       "output_type": "stream",
       "stream": "stdout",
       "text": [
        "\n",
        "working on /home/anh/Dropbox/fdi_network/Data/UNCTAD/SUR_fdi.xls"
       ]
      },
      {
       "output_type": "stream",
       "stream": "stdout",
       "text": [
        "\n",
        "working on /home/anh/Dropbox/fdi_network/Data/UNCTAD/LTU_fdi.xls"
       ]
      },
      {
       "output_type": "stream",
       "stream": "stdout",
       "text": [
        "\n",
        "working on /home/anh/Dropbox/fdi_network/Data/UNCTAD/STP_fdi.xls"
       ]
      },
      {
       "output_type": "stream",
       "stream": "stdout",
       "text": [
        "\n",
        "working on /home/anh/Dropbox/fdi_network/Data/UNCTAD/CYP_fdi.xls"
       ]
      },
      {
       "output_type": "stream",
       "stream": "stdout",
       "text": [
        "\n",
        "working on /home/anh/Dropbox/fdi_network/Data/UNCTAD/DOM_fdi.xls"
       ]
      },
      {
       "output_type": "stream",
       "stream": "stdout",
       "text": [
        "\n",
        "working on /home/anh/Dropbox/fdi_network/Data/UNCTAD/TTO_fdi.xls"
       ]
      },
      {
       "output_type": "stream",
       "stream": "stdout",
       "text": [
        "\n",
        "working on /home/anh/Dropbox/fdi_network/Data/UNCTAD/BDI_fdi.xls"
       ]
      },
      {
       "output_type": "stream",
       "stream": "stdout",
       "text": [
        "\n",
        "working on /home/anh/Dropbox/fdi_network/Data/UNCTAD/UKR_fdi.xls"
       ]
      },
      {
       "output_type": "stream",
       "stream": "stdout",
       "text": [
        "\n",
        "working on /home/anh/Dropbox/fdi_network/Data/UNCTAD/NLD_fdi.xls"
       ]
      },
      {
       "output_type": "stream",
       "stream": "stdout",
       "text": [
        "\n",
        "working on /home/anh/Dropbox/fdi_network/Data/UNCTAD/FJI_fdi.xls"
       ]
      },
      {
       "output_type": "stream",
       "stream": "stdout",
       "text": [
        "\n",
        "working on /home/anh/Dropbox/fdi_network/Data/UNCTAD/AZE_fdi.xls"
       ]
      },
      {
       "output_type": "stream",
       "stream": "stdout",
       "text": [
        "\n",
        "working on /home/anh/Dropbox/fdi_network/Data/UNCTAD/ESP_fdi.xls"
       ]
      },
      {
       "output_type": "stream",
       "stream": "stdout",
       "text": [
        "\n",
        "working on /home/anh/Dropbox/fdi_network/Data/UNCTAD/KNA_fdi.xls"
       ]
      },
      {
       "output_type": "stream",
       "stream": "stdout",
       "text": [
        "\n",
        "working on /home/anh/Dropbox/fdi_network/Data/UNCTAD/ZMB_fdi.xls"
       ]
      },
      {
       "output_type": "stream",
       "stream": "stdout",
       "text": [
        "\n",
        "working on /home/anh/Dropbox/fdi_network/Data/UNCTAD/GTM_fdi.xls"
       ]
      },
      {
       "output_type": "stream",
       "stream": "stdout",
       "text": [
        "\n",
        "working on /home/anh/Dropbox/fdi_network/Data/UNCTAD/USA_fdi.xls"
       ]
      },
      {
       "output_type": "stream",
       "stream": "stdout",
       "text": [
        "\n",
        "working on /home/anh/Dropbox/fdi_network/Data/UNCTAD/BEL_fdi.xls"
       ]
      },
      {
       "output_type": "stream",
       "stream": "stdout",
       "text": [
        "\n",
        "working on /home/anh/Dropbox/fdi_network/Data/UNCTAD/MOZ_fdi.xls"
       ]
      },
      {
       "output_type": "stream",
       "stream": "stdout",
       "text": [
        "\n",
        "working on /home/anh/Dropbox/fdi_network/Data/UNCTAD/LAO_fdi.xls"
       ]
      },
      {
       "output_type": "stream",
       "stream": "stdout",
       "text": [
        "\n",
        "working on /home/anh/Dropbox/fdi_network/Data/UNCTAD/DZA_fdi.xls"
       ]
      },
      {
       "output_type": "stream",
       "stream": "stdout",
       "text": [
        "\n",
        "working on /home/anh/Dropbox/fdi_network/Data/UNCTAD/LSO_fdi.xls"
       ]
      },
      {
       "output_type": "stream",
       "stream": "stdout",
       "text": [
        "\n",
        "working on /home/anh/Dropbox/fdi_network/Data/UNCTAD/MAR_fdi.xls"
       ]
      },
      {
       "output_type": "stream",
       "stream": "stdout",
       "text": [
        "\n",
        "working on /home/anh/Dropbox/fdi_network/Data/UNCTAD/ATG_fdi.xls"
       ]
      },
      {
       "output_type": "stream",
       "stream": "stdout",
       "text": [
        "\n",
        "working on /home/anh/Dropbox/fdi_network/Data/UNCTAD/EST_fdi.xls"
       ]
      },
      {
       "output_type": "stream",
       "stream": "stdout",
       "text": [
        "\n",
        "working on /home/anh/Dropbox/fdi_network/Data/UNCTAD/BOL_fdi.xls"
       ]
      },
      {
       "output_type": "stream",
       "stream": "stdout",
       "text": [
        "\n",
        "working on /home/anh/Dropbox/fdi_network/Data/UNCTAD/GNB_fdi.xls"
       ]
      },
      {
       "output_type": "stream",
       "stream": "stdout",
       "text": [
        "\n",
        "working on /home/anh/Dropbox/fdi_network/Data/UNCTAD/VNM_fdi.xls"
       ]
      },
      {
       "output_type": "stream",
       "stream": "stdout",
       "text": [
        "\n",
        "working on /home/anh/Dropbox/fdi_network/Data/UNCTAD/TJK_fdi.xls"
       ]
      },
      {
       "output_type": "stream",
       "stream": "stdout",
       "text": [
        "\n",
        "working on /home/anh/Dropbox/fdi_network/Data/UNCTAD/COG_fdi.xls"
       ]
      },
      {
       "output_type": "stream",
       "stream": "stdout",
       "text": [
        "\n",
        "working on /home/anh/Dropbox/fdi_network/Data/UNCTAD/VIR_fdi.xls"
       ]
      },
      {
       "output_type": "stream",
       "stream": "stdout",
       "text": [
        "\n",
        "working on /home/anh/Dropbox/fdi_network/Data/UNCTAD/IRL_fdi.xls"
       ]
      },
      {
       "output_type": "stream",
       "stream": "stdout",
       "text": [
        "\n",
        "working on /home/anh/Dropbox/fdi_network/Data/UNCTAD/GMB_fdi.xls"
       ]
      },
      {
       "output_type": "stream",
       "stream": "stdout",
       "text": [
        "\n",
        "working on /home/anh/Dropbox/fdi_network/Data/UNCTAD/BIH_fdi.xls"
       ]
      },
      {
       "output_type": "stream",
       "stream": "stdout",
       "text": [
        "\n",
        "working on /home/anh/Dropbox/fdi_network/Data/UNCTAD/SYC_fdi.xls"
       ]
      },
      {
       "output_type": "stream",
       "stream": "stdout",
       "text": [
        "\n",
        "working on /home/anh/Dropbox/fdi_network/Data/UNCTAD/ALB_fdi.xls"
       ]
      },
      {
       "output_type": "stream",
       "stream": "stdout",
       "text": [
        "\n",
        "working on /home/anh/Dropbox/fdi_network/Data/UNCTAD/GRD_fdi.xls"
       ]
      },
      {
       "output_type": "stream",
       "stream": "stdout",
       "text": [
        "\n",
        "working on /home/anh/Dropbox/fdi_network/Data/UNCTAD/MDG_fdi.xls"
       ]
      },
      {
       "output_type": "stream",
       "stream": "stdout",
       "text": [
        "\n",
        "working on /home/anh/Dropbox/fdi_network/Data/UNCTAD/NIC_fdi.xls"
       ]
      },
      {
       "output_type": "stream",
       "stream": "stdout",
       "text": [
        "\n",
        "working on /home/anh/Dropbox/fdi_network/Data/UNCTAD/BHS_fdi.xls"
       ]
      },
      {
       "output_type": "stream",
       "stream": "stdout",
       "text": [
        "\n",
        "working on /home/anh/Dropbox/fdi_network/Data/UNCTAD/NER_fdi.xls"
       ]
      },
      {
       "output_type": "stream",
       "stream": "stdout",
       "text": [
        "\n",
        "working on /home/anh/Dropbox/fdi_network/Data/UNCTAD/KAZ_fdi.xls"
       ]
      },
      {
       "output_type": "stream",
       "stream": "stdout",
       "text": [
        "\n",
        "working on /home/anh/Dropbox/fdi_network/Data/UNCTAD/BGD_fdi.xls"
       ]
      },
      {
       "output_type": "stream",
       "stream": "stdout",
       "text": [
        "\n",
        "working on /home/anh/Dropbox/fdi_network/Data/UNCTAD/TUR_fdi.xls"
       ]
      },
      {
       "output_type": "stream",
       "stream": "stdout",
       "text": [
        "\n",
        "working on /home/anh/Dropbox/fdi_network/Data/UNCTAD/ANT_fdi.xls"
       ]
      },
      {
       "output_type": "stream",
       "stream": "stdout",
       "text": [
        "\n",
        "working on /home/anh/Dropbox/fdi_network/Data/UNCTAD/LBY_fdi.xls"
       ]
      },
      {
       "output_type": "stream",
       "stream": "stdout",
       "text": [
        "\n",
        "working on /home/anh/Dropbox/fdi_network/Data/UNCTAD/ARG_fdi.xls"
       ]
      },
      {
       "output_type": "stream",
       "stream": "stdout",
       "text": [
        "\n",
        "working on /home/anh/Dropbox/fdi_network/Data/UNCTAD/ASM_fdi.xls"
       ]
      },
      {
       "output_type": "stream",
       "stream": "stdout",
       "text": [
        "\n",
        "working on /home/anh/Dropbox/fdi_network/Data/UNCTAD/MYS_fdi.xls"
       ]
      },
      {
       "output_type": "stream",
       "stream": "stdout",
       "text": [
        "\n",
        "working on /home/anh/Dropbox/fdi_network/Data/UNCTAD/SOM_fdi.xls"
       ]
      },
      {
       "output_type": "stream",
       "stream": "stdout",
       "text": [
        "\n",
        "working on /home/anh/Dropbox/fdi_network/Data/UNCTAD/NIU_fdi.xls"
       ]
      },
      {
       "output_type": "stream",
       "stream": "stdout",
       "text": [
        "\n",
        "working on /home/anh/Dropbox/fdi_network/Data/UNCTAD/REU_fdi.xls"
       ]
      },
      {
       "output_type": "stream",
       "stream": "stdout",
       "text": [
        "\n",
        "working on /home/anh/Dropbox/fdi_network/Data/UNCTAD/MEX_fdi.xls"
       ]
      },
      {
       "output_type": "stream",
       "stream": "stdout",
       "text": [
        "\n",
        "working on /home/anh/Dropbox/fdi_network/Data/UNCTAD/AUS_fdi.xls"
       ]
      },
      {
       "output_type": "stream",
       "stream": "stdout",
       "text": [
        "\n",
        "working on /home/anh/Dropbox/fdi_network/Data/UNCTAD/ARE_fdi.xls"
       ]
      },
      {
       "output_type": "stream",
       "stream": "stdout",
       "text": [
        "\n",
        "working on /home/anh/Dropbox/fdi_network/Data/UNCTAD/MNE_fdi.xls"
       ]
      },
      {
       "output_type": "stream",
       "stream": "stdout",
       "text": [
        "\n",
        "working on /home/anh/Dropbox/fdi_network/Data/UNCTAD/ECU_fdi.xls"
       ]
      },
      {
       "output_type": "stream",
       "stream": "stdout",
       "text": [
        "\n",
        "working on /home/anh/Dropbox/fdi_network/Data/UNCTAD/EGY_fdi.xls"
       ]
      },
      {
       "output_type": "stream",
       "stream": "stdout",
       "text": [
        "\n",
        "working on /home/anh/Dropbox/fdi_network/Data/UNCTAD/GEO_fdi.xls"
       ]
      },
      {
       "output_type": "stream",
       "stream": "stdout",
       "text": [
        "\n",
        "working on /home/anh/Dropbox/fdi_network/Data/UNCTAD/PLW_fdi.xls"
       ]
      },
      {
       "output_type": "stream",
       "stream": "stdout",
       "text": [
        "\n",
        "working on /home/anh/Dropbox/fdi_network/Data/UNCTAD/VUT_fdi.xls"
       ]
      },
      {
       "output_type": "stream",
       "stream": "stdout",
       "text": [
        "\n",
        "working on /home/anh/Dropbox/fdi_network/Data/UNCTAD/PSE_fdi.xls"
       ]
      },
      {
       "output_type": "stream",
       "stream": "stdout",
       "text": [
        "\n",
        "working on /home/anh/Dropbox/fdi_network/Data/UNCTAD/PRI_fdi.xls"
       ]
      },
      {
       "output_type": "stream",
       "stream": "stdout",
       "text": [
        "\n",
        "working on /home/anh/Dropbox/fdi_network/Data/UNCTAD/HRV_fdi.xls"
       ]
      },
      {
       "output_type": "stream",
       "stream": "stdout",
       "text": [
        "\n",
        "working on /home/anh/Dropbox/fdi_network/Data/UNCTAD/MMR_fdi.xls"
       ]
      },
      {
       "output_type": "stream",
       "stream": "stdout",
       "text": [
        "\n",
        "working on /home/anh/Dropbox/fdi_network/Data/UNCTAD/TKL_fdi.xls"
       ]
      },
      {
       "output_type": "stream",
       "stream": "stdout",
       "text": [
        "\n",
        "working on /home/anh/Dropbox/fdi_network/Data/UNCTAD/DEU_fdi.xls"
       ]
      },
      {
       "output_type": "stream",
       "stream": "stdout",
       "text": [
        "\n",
        "working on /home/anh/Dropbox/fdi_network/Data/UNCTAD/AFG_fdi.xls"
       ]
      },
      {
       "output_type": "stream",
       "stream": "stdout",
       "text": [
        "\n",
        "working on /home/anh/Dropbox/fdi_network/Data/UNCTAD/ZAF_fdi.xls"
       ]
      },
      {
       "output_type": "stream",
       "stream": "stdout",
       "text": [
        "\n",
        "working on /home/anh/Dropbox/fdi_network/Data/UNCTAD/DMA_fdi.xls"
       ]
      },
      {
       "output_type": "stream",
       "stream": "stdout",
       "text": [
        "\n",
        "working on /home/anh/Dropbox/fdi_network/Data/UNCTAD/PAK_fdi.xls"
       ]
      },
      {
       "output_type": "stream",
       "stream": "stdout",
       "text": [
        "\n",
        "working on /home/anh/Dropbox/fdi_network/Data/UNCTAD/MKD_fdi.xls"
       ]
      },
      {
       "output_type": "stream",
       "stream": "stdout",
       "text": [
        "\n",
        "working on /home/anh/Dropbox/fdi_network/Data/UNCTAD/SEN_fdi.xls"
       ]
      },
      {
       "output_type": "stream",
       "stream": "stdout",
       "text": [
        "\n",
        "working on /home/anh/Dropbox/fdi_network/Data/UNCTAD/NAM_fdi.xls"
       ]
      },
      {
       "output_type": "stream",
       "stream": "stdout",
       "text": [
        "\n",
        "working on /home/anh/Dropbox/fdi_network/Data/UNCTAD/LBN_fdi.xls"
       ]
      },
      {
       "output_type": "stream",
       "stream": "stdout",
       "text": [
        "\n",
        "working on /home/anh/Dropbox/fdi_network/Data/UNCTAD/MAC_fdi.xls"
       ]
      },
      {
       "output_type": "stream",
       "stream": "stdout",
       "text": [
        "\n",
        "working on /home/anh/Dropbox/fdi_network/Data/UNCTAD/CIV_fdi.xls"
       ]
      },
      {
       "output_type": "stream",
       "stream": "stdout",
       "text": [
        "\n",
        "working on /home/anh/Dropbox/fdi_network/Data/UNCTAD/SYR_fdi.xls"
       ]
      },
      {
       "output_type": "stream",
       "stream": "stdout",
       "text": [
        "\n",
        "working on /home/anh/Dropbox/fdi_network/Data/UNCTAD/UGA_fdi.xls"
       ]
      },
      {
       "output_type": "stream",
       "stream": "stdout",
       "text": [
        "\n",
        "working on /home/anh/Dropbox/fdi_network/Data/UNCTAD/MDA_fdi.xls"
       ]
      },
      {
       "output_type": "stream",
       "stream": "stdout",
       "text": [
        "\n",
        "working on /home/anh/Dropbox/fdi_network/Data/UNCTAD/BFA_fdi.xls"
       ]
      },
      {
       "output_type": "stream",
       "stream": "stdout",
       "text": [
        "\n",
        "working on /home/anh/Dropbox/fdi_network/Data/UNCTAD/LUX_fdi.xls"
       ]
      },
      {
       "output_type": "stream",
       "stream": "stdout",
       "text": [
        "\n",
        "working on /home/anh/Dropbox/fdi_network/Data/UNCTAD/RWA_fdi.xls"
       ]
      },
      {
       "output_type": "stream",
       "stream": "stdout",
       "text": [
        "\n",
        "working on /home/anh/Dropbox/fdi_network/Data/UNCTAD/NZL_fdi.xls"
       ]
      },
      {
       "output_type": "stream",
       "stream": "stdout",
       "text": [
        "\n",
        "working on /home/anh/Dropbox/fdi_network/Data/UNCTAD/BMU_fdi.xls"
       ]
      },
      {
       "output_type": "stream",
       "stream": "stdout",
       "text": [
        "\n",
        "working on /home/anh/Dropbox/fdi_network/Data/UNCTAD/DJI_fdi.xls"
       ]
      },
      {
       "output_type": "stream",
       "stream": "stdout",
       "text": [
        "\n",
        "working on /home/anh/Dropbox/fdi_network/Data/UNCTAD/POL_fdi.xls"
       ]
      },
      {
       "output_type": "stream",
       "stream": "stdout",
       "text": [
        "\n",
        "working on /home/anh/Dropbox/fdi_network/Data/UNCTAD/CHE_fdi.xls"
       ]
      },
      {
       "output_type": "stream",
       "stream": "stdout",
       "text": [
        "\n",
        "working on /home/anh/Dropbox/fdi_network/Data/UNCTAD/AUT_fdi.xls"
       ]
      },
      {
       "output_type": "stream",
       "stream": "stdout",
       "text": [
        "\n",
        "working on /home/anh/Dropbox/fdi_network/Data/UNCTAD/ETH_fdi.xls"
       ]
      },
      {
       "output_type": "stream",
       "stream": "stdout",
       "text": [
        "\n",
        "working on /home/anh/Dropbox/fdi_network/Data/UNCTAD/MWI_fdi.xls"
       ]
      },
      {
       "output_type": "stream",
       "stream": "stdout",
       "text": [
        "\n",
        "working on /home/anh/Dropbox/fdi_network/Data/UNCTAD/TUN_fdi.xls"
       ]
      },
      {
       "output_type": "stream",
       "stream": "stdout",
       "text": [
        "\n",
        "working on /home/anh/Dropbox/fdi_network/Data/UNCTAD/TCA_fdi.xls"
       ]
      },
      {
       "output_type": "stream",
       "stream": "stdout",
       "text": [
        "\n",
        "working on /home/anh/Dropbox/fdi_network/Data/UNCTAD/ARM_fdi.xls"
       ]
      },
      {
       "output_type": "stream",
       "stream": "stdout",
       "text": [
        "\n",
        "working on /home/anh/Dropbox/fdi_network/Data/UNCTAD/BRA_fdi.xls"
       ]
      },
      {
       "output_type": "stream",
       "stream": "stdout",
       "text": [
        "\n",
        "working on /home/anh/Dropbox/fdi_network/Data/UNCTAD/CZE_fdi.xls"
       ]
      },
      {
       "output_type": "stream",
       "stream": "stdout",
       "text": [
        "\n",
        "working on /home/anh/Dropbox/fdi_network/Data/UNCTAD/MLT_fdi.xls"
       ]
      },
      {
       "output_type": "stream",
       "stream": "stdout",
       "text": [
        "\n",
        "working on /home/anh/Dropbox/fdi_network/Data/UNCTAD/SGP_fdi.xls"
       ]
      },
      {
       "output_type": "stream",
       "stream": "stdout",
       "text": [
        "\n",
        "working on /home/anh/Dropbox/fdi_network/Data/UNCTAD/BWA_fdi.xls"
       ]
      },
      {
       "output_type": "stream",
       "stream": "stdout",
       "text": [
        "\n"
       ]
      }
     ],
     "prompt_number": 28
    },
    {
     "cell_type": "code",
     "collapsed": false,
     "input": [
      "! rm /home/anh/Dropbox/fdi_network/Data/UNCTAD_outflow/*.xls\n",
      "! rm /home/anh/Dropbox/fdi_network/Data/UNCTAD_inflow/*.xls"
     ],
     "language": "python",
     "metadata": {},
     "outputs": [
      {
       "output_type": "stream",
       "stream": "stdout",
       "text": [
        "rm: cannot remove \u2018/home/anh/Dropbox/fdi_network/Data/UNCTAD_outflow/*.xls\u2019: No such file or directory\r\n"
       ]
      },
      {
       "output_type": "stream",
       "stream": "stdout",
       "text": [
        "rm: cannot remove \u2018/home/anh/Dropbox/fdi_network/Data/UNCTAD_inflow/*.xls\u2019: No such file or directory\r\n"
       ]
      }
     ],
     "prompt_number": 29
    },
    {
     "cell_type": "code",
     "collapsed": false,
     "input": [],
     "language": "python",
     "metadata": {},
     "outputs": []
    }
   ],
   "metadata": {}
  }
 ]
}