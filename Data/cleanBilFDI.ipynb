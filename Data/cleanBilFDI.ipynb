{
 "metadata": {
  "name": "",
  "signature": "sha256:5646d731472b35cb5c1358fdba165a9e27388208fec237657eeebeed8b12b404"
 },
 "nbformat": 3,
 "nbformat_minor": 0,
 "worksheets": [
  {
   "cells": [
    {
     "cell_type": "code",
     "collapsed": false,
     "input": [
      "import numpy as np\n",
      "import pandas as pd\n",
      "import os"
     ],
     "language": "python",
     "metadata": {},
     "outputs": [],
     "prompt_number": 1
    },
    {
     "cell_type": "code",
     "collapsed": false,
     "input": [
      "def read_fdi_excel(filename):\n",
      "    d = pd.read_excel(filename, sheetname=1, skiprows=4)\n",
      "    d = d.dropna().replace('..', np.nan)\n",
      "    return d"
     ],
     "language": "python",
     "metadata": {},
     "outputs": [],
     "prompt_number": 4
    },
    {
     "cell_type": "code",
     "collapsed": false,
     "input": [
      "read_fdi_excel('/home/anh/Dropbox/fdi_network/Data/UNCTAD/AFG_fdi.xls')"
     ],
     "language": "python",
     "metadata": {},
     "outputs": [
      {
       "html": [
        "<div style=\"max-height:1000px;max-width:1500px;overflow:auto;\">\n",
        "<table border=\"1\" class=\"dataframe\">\n",
        "  <thead>\n",
        "    <tr style=\"text-align: right;\">\n",
        "      <th></th>\n",
        "      <th>Reporting economy</th>\n",
        "      <th>2001</th>\n",
        "      <th>2002</th>\n",
        "      <th>2003</th>\n",
        "      <th>2004</th>\n",
        "      <th>2005</th>\n",
        "      <th>2006</th>\n",
        "      <th>2007</th>\n",
        "      <th>2008</th>\n",
        "      <th>2009</th>\n",
        "      <th>2010</th>\n",
        "      <th>2011</th>\n",
        "      <th>2012</th>\n",
        "    </tr>\n",
        "  </thead>\n",
        "  <tbody>\n",
        "    <tr>\n",
        "      <th>1</th>\n",
        "      <td>       Estonia</td>\n",
        "      <td> 0</td>\n",
        "      <td> 0</td>\n",
        "      <td> 0</td>\n",
        "      <td> 0.000000</td>\n",
        "      <td> 0.527284</td>\n",
        "      <td> 0</td>\n",
        "      <td> 0</td>\n",
        "      <td>  0.000000</td>\n",
        "      <td>  0.000000</td>\n",
        "      <td>  0.000000</td>\n",
        "      <td>  0.000000</td>\n",
        "      <td>  0.000000</td>\n",
        "    </tr>\n",
        "    <tr>\n",
        "      <th>2</th>\n",
        "      <td>       Germany</td>\n",
        "      <td> 0</td>\n",
        "      <td> 0</td>\n",
        "      <td> 0</td>\n",
        "      <td> 0.000000</td>\n",
        "      <td> 0.000000</td>\n",
        "      <td> 0</td>\n",
        "      <td> 0</td>\n",
        "      <td>  0.000000</td>\n",
        "      <td>  1.389192</td>\n",
        "      <td>  0.000000</td>\n",
        "      <td>  0.000000</td>\n",
        "      <td>  0.000000</td>\n",
        "    </tr>\n",
        "    <tr>\n",
        "      <th>3</th>\n",
        "      <td>         Italy</td>\n",
        "      <td> 0</td>\n",
        "      <td> 0</td>\n",
        "      <td> 0</td>\n",
        "      <td> 0.000000</td>\n",
        "      <td> 0.000000</td>\n",
        "      <td> 0</td>\n",
        "      <td> 0</td>\n",
        "      <td> 70.560662</td>\n",
        "      <td> 77.461335</td>\n",
        "      <td> 63.824010</td>\n",
        "      <td> 67.240792</td>\n",
        "      <td> 64.975446</td>\n",
        "    </tr>\n",
        "    <tr>\n",
        "      <th>4</th>\n",
        "      <td>     Lithuania</td>\n",
        "      <td> 0</td>\n",
        "      <td> 0</td>\n",
        "      <td> 0</td>\n",
        "      <td> 0.000000</td>\n",
        "      <td> 0.000000</td>\n",
        "      <td> 0</td>\n",
        "      <td> 0</td>\n",
        "      <td>  0.000000</td>\n",
        "      <td>  0.000000</td>\n",
        "      <td>  1.534725</td>\n",
        "      <td>  0.000000</td>\n",
        "      <td>  0.000000</td>\n",
        "    </tr>\n",
        "    <tr>\n",
        "      <th>5</th>\n",
        "      <td>        Malawi</td>\n",
        "      <td> 0</td>\n",
        "      <td> 0</td>\n",
        "      <td> 0</td>\n",
        "      <td> 0.000000</td>\n",
        "      <td> 0.000000</td>\n",
        "      <td> 0</td>\n",
        "      <td> 0</td>\n",
        "      <td>  0.000000</td>\n",
        "      <td>  0.000000</td>\n",
        "      <td>  4.300000</td>\n",
        "      <td>  0.000000</td>\n",
        "      <td>  0.000000</td>\n",
        "    </tr>\n",
        "    <tr>\n",
        "      <th>6</th>\n",
        "      <td>       Romania</td>\n",
        "      <td> 0</td>\n",
        "      <td> 0</td>\n",
        "      <td> 0</td>\n",
        "      <td>-0.700304</td>\n",
        "      <td> 0.000000</td>\n",
        "      <td> 0</td>\n",
        "      <td> 0</td>\n",
        "      <td>  0.000000</td>\n",
        "      <td>  0.000000</td>\n",
        "      <td>  0.000000</td>\n",
        "      <td>  0.000000</td>\n",
        "      <td>  0.000000</td>\n",
        "    </tr>\n",
        "    <tr>\n",
        "      <th>7</th>\n",
        "      <td>  Saudi Arabia</td>\n",
        "      <td> 0</td>\n",
        "      <td> 0</td>\n",
        "      <td> 1</td>\n",
        "      <td> 0.000000</td>\n",
        "      <td> 1.000000</td>\n",
        "      <td> 0</td>\n",
        "      <td> 0</td>\n",
        "      <td>  0.000000</td>\n",
        "      <td>  0.000000</td>\n",
        "      <td>  0.000000</td>\n",
        "      <td>  0.000000</td>\n",
        "      <td>  0.000000</td>\n",
        "    </tr>\n",
        "    <tr>\n",
        "      <th>8</th>\n",
        "      <td> United States</td>\n",
        "      <td> 0</td>\n",
        "      <td> 0</td>\n",
        "      <td> 0</td>\n",
        "      <td> 0.000000</td>\n",
        "      <td> 0.000000</td>\n",
        "      <td> 0</td>\n",
        "      <td> 0</td>\n",
        "      <td>  1.000000</td>\n",
        "      <td>  2.000000</td>\n",
        "      <td>  2.000000</td>\n",
        "      <td>  3.000000</td>\n",
        "      <td>  0.000000</td>\n",
        "    </tr>\n",
        "  </tbody>\n",
        "</table>\n",
        "</div>"
       ],
       "metadata": {},
       "output_type": "pyout",
       "prompt_number": 5,
       "text": [
        "  Reporting economy  2001  2002  2003      2004      2005  2006  2007  \\\n",
        "1           Estonia     0     0     0  0.000000  0.527284     0     0   \n",
        "2           Germany     0     0     0  0.000000  0.000000     0     0   \n",
        "3             Italy     0     0     0  0.000000  0.000000     0     0   \n",
        "4         Lithuania     0     0     0  0.000000  0.000000     0     0   \n",
        "5            Malawi     0     0     0  0.000000  0.000000     0     0   \n",
        "6           Romania     0     0     0 -0.700304  0.000000     0     0   \n",
        "7      Saudi Arabia     0     0     1  0.000000  1.000000     0     0   \n",
        "8     United States     0     0     0  0.000000  0.000000     0     0   \n",
        "\n",
        "        2008       2009       2010       2011       2012  \n",
        "1   0.000000   0.000000   0.000000   0.000000   0.000000  \n",
        "2   0.000000   1.389192   0.000000   0.000000   0.000000  \n",
        "3  70.560662  77.461335  63.824010  67.240792  64.975446  \n",
        "4   0.000000   0.000000   1.534725   0.000000   0.000000  \n",
        "5   0.000000   0.000000   4.300000   0.000000   0.000000  \n",
        "6   0.000000   0.000000   0.000000   0.000000   0.000000  \n",
        "7   0.000000   0.000000   0.000000   0.000000   0.000000  \n",
        "8   1.000000   2.000000   2.000000   3.000000   0.000000  "
       ]
      }
     ],
     "prompt_number": 5
    },
    {
     "cell_type": "code",
     "collapsed": false,
     "input": [
      "clean_dir = '/home/anh/Dropbox/fdi_network/Data/UNCTAD_clean/'\n",
      "if not os.path.exists(clean_dir):\n",
      "    os.makedirs(clean_dir)"
     ],
     "language": "python",
     "metadata": {},
     "outputs": [],
     "prompt_number": 6
    },
    {
     "cell_type": "code",
     "collapsed": false,
     "input": [
      "dir = '/home/anh/Dropbox/fdi_network/Data/UNCTAD/'\n",
      "for filename in os.listdir(dir):\n",
      "    if filename.endswith('xls'):\n",
      "        new_filename = '/home/anh/Dropbox/fdi_network/Data/UNCTAD_clean/' + filename.split(\".\")[0] + \".csv\"\n",
      "        read_fdi_excel(dir + filename).to_csv(new_filename, na_rep='NA', index=False)\n",
      "        print new_filename + \"done\""
     ],
     "language": "python",
     "metadata": {},
     "outputs": [
      {
       "output_type": "stream",
       "stream": "stdout",
       "text": [
        "/home/anh/Dropbox/fdi_network/Data/UNCTAD_clean/SVN_fdi.csvdone\n",
        "/home/anh/Dropbox/fdi_network/Data/UNCTAD_clean/KWT_fdi.csvdone\n",
        "/home/anh/Dropbox/fdi_network/Data/UNCTAD_clean/SWE_fdi.csvdone\n",
        "/home/anh/Dropbox/fdi_network/Data/UNCTAD_clean/COD_fdi.csvdone"
       ]
      },
      {
       "output_type": "stream",
       "stream": "stdout",
       "text": [
        "\n",
        "/home/anh/Dropbox/fdi_network/Data/UNCTAD_clean/BHR_fdi.csvdone\n",
        "/home/anh/Dropbox/fdi_network/Data/UNCTAD_clean/HGK_fdi.csvdone\n",
        "/home/anh/Dropbox/fdi_network/Data/UNCTAD_clean/KEN_fdi.csvdone\n",
        "/home/anh/Dropbox/fdi_network/Data/UNCTAD_clean/FRA_fdi.csvdone"
       ]
      },
      {
       "output_type": "stream",
       "stream": "stdout",
       "text": [
        "\n",
        "/home/anh/Dropbox/fdi_network/Data/UNCTAD_clean/MDV_fdi.csvdone\n",
        "/home/anh/Dropbox/fdi_network/Data/UNCTAD_clean/KOR_fdi.csvdone"
       ]
      },
      {
       "output_type": "stream",
       "stream": "stdout",
       "text": [
        "\n",
        "/home/anh/Dropbox/fdi_network/Data/UNCTAD_clean/ROU_fdi.csvdone\n",
        "/home/anh/Dropbox/fdi_network/Data/UNCTAD_clean/FSM_fdi.csvdone\n",
        "/home/anh/Dropbox/fdi_network/Data/UNCTAD_clean/HTI_fdi.csvdone\n",
        "/home/anh/Dropbox/fdi_network/Data/UNCTAD_clean/MHL_fdi.csvdone"
       ]
      },
      {
       "output_type": "stream",
       "stream": "stdout",
       "text": [
        "\n",
        "/home/anh/Dropbox/fdi_network/Data/UNCTAD_clean/SDN_fdi.csvdone\n",
        "/home/anh/Dropbox/fdi_network/Data/UNCTAD_clean/PRT_fdi.csvdone\n",
        "/home/anh/Dropbox/fdi_network/Data/UNCTAD_clean/THA_fdi.csvdone"
       ]
      },
      {
       "output_type": "stream",
       "stream": "stdout",
       "text": [
        "\n",
        "/home/anh/Dropbox/fdi_network/Data/UNCTAD_clean/MNG_fdi.csvdone\n",
        "/home/anh/Dropbox/fdi_network/Data/UNCTAD_clean/BLZ_fdi.csvdone\n",
        "/home/anh/Dropbox/fdi_network/Data/UNCTAD_clean/ZWE_fdi.csvdone\n",
        "/home/anh/Dropbox/fdi_network/Data/UNCTAD_clean/HND_fdi.csvdone"
       ]
      },
      {
       "output_type": "stream",
       "stream": "stdout",
       "text": [
        "\n",
        "/home/anh/Dropbox/fdi_network/Data/UNCTAD_clean/MLI_fdi.csvdone\n",
        "/home/anh/Dropbox/fdi_network/Data/UNCTAD_clean/SRB_fdi.csvdone"
       ]
      },
      {
       "output_type": "stream",
       "stream": "stdout",
       "text": [
        "\n",
        "/home/anh/Dropbox/fdi_network/Data/UNCTAD_clean/CHL_fdi.csvdone\n",
        "/home/anh/Dropbox/fdi_network/Data/UNCTAD_clean/IND_fdi.csvdone"
       ]
      },
      {
       "output_type": "stream",
       "stream": "stdout",
       "text": [
        "\n",
        "/home/anh/Dropbox/fdi_network/Data/UNCTAD_clean/BIOT_fdi.csvdone\n",
        "/home/anh/Dropbox/fdi_network/Data/UNCTAD_clean/JOR_fdi.csvdone\n",
        "/home/anh/Dropbox/fdi_network/Data/UNCTAD_clean/VCT_fdi.csvdone"
       ]
      },
      {
       "output_type": "stream",
       "stream": "stdout",
       "text": [
        "\n",
        "/home/anh/Dropbox/fdi_network/Data/UNCTAD_clean/GBR_fdi.csvdone\n",
        "/home/anh/Dropbox/fdi_network/Data/UNCTAD_clean/FIN_fdi.csvdone"
       ]
      },
      {
       "output_type": "stream",
       "stream": "stdout",
       "text": [
        "\n",
        "/home/anh/Dropbox/fdi_network/Data/UNCTAD_clean/GNQ_fdi.csvdone\n",
        "/home/anh/Dropbox/fdi_network/Data/UNCTAD_clean/CAN_fdi.csvdone\n",
        "/home/anh/Dropbox/fdi_network/Data/UNCTAD_clean/PAN_fdi.csvdone"
       ]
      },
      {
       "output_type": "stream",
       "stream": "stdout",
       "text": [
        "\n",
        "/home/anh/Dropbox/fdi_network/Data/UNCTAD_clean/LCA_fdi.csvdone\n",
        "/home/anh/Dropbox/fdi_network/Data/UNCTAD_clean/VEN_fdi.csvdone\n",
        "/home/anh/Dropbox/fdi_network/Data/UNCTAD_clean/WSM_fdi.csvdone"
       ]
      },
      {
       "output_type": "stream",
       "stream": "stdout",
       "text": [
        "\n",
        "/home/anh/Dropbox/fdi_network/Data/UNCTAD_clean/CPV_fdi.csvdone\n",
        "/home/anh/Dropbox/fdi_network/Data/UNCTAD_clean/SAU_fdi.csvdone"
       ]
      },
      {
       "output_type": "stream",
       "stream": "stdout",
       "text": [
        "\n",
        "/home/anh/Dropbox/fdi_network/Data/UNCTAD_clean/MNP_fdi.csvdone\n",
        "/home/anh/Dropbox/fdi_network/Data/UNCTAD_clean/GIN_fdi.csvdone\n",
        "/home/anh/Dropbox/fdi_network/Data/UNCTAD_clean/GHA_fdi.csvdone\n",
        "/home/anh/Dropbox/fdi_network/Data/UNCTAD_clean/GAB_fdi.csvdone"
       ]
      },
      {
       "output_type": "stream",
       "stream": "stdout",
       "text": [
        "\n",
        "/home/anh/Dropbox/fdi_network/Data/UNCTAD_clean/ISR_fdi.csvdone\n",
        "/home/anh/Dropbox/fdi_network/Data/UNCTAD_clean/COK_fdi.csvdone\n",
        "/home/anh/Dropbox/fdi_network/Data/UNCTAD_clean/NPL_fdi.csvdone"
       ]
      },
      {
       "output_type": "stream",
       "stream": "stdout",
       "text": [
        "\n",
        "/home/anh/Dropbox/fdi_network/Data/UNCTAD_clean/GRC_fdi.csvdone\n",
        "/home/anh/Dropbox/fdi_network/Data/UNCTAD_clean/BRB_fdi.csvdone\n",
        "/home/anh/Dropbox/fdi_network/Data/UNCTAD_clean/LKA_fdi.csvdone"
       ]
      },
      {
       "output_type": "stream",
       "stream": "stdout",
       "text": [
        "\n",
        "/home/anh/Dropbox/fdi_network/Data/UNCTAD_clean/AIA_fdi.csvdone\n",
        "/home/anh/Dropbox/fdi_network/Data/UNCTAD_clean/SLB_fdi.csvdone\n",
        "/home/anh/Dropbox/fdi_network/Data/UNCTAD_clean/PNG_fdi.csvdone\n",
        "/home/anh/Dropbox/fdi_network/Data/UNCTAD_clean/CYM_fdi.csvdone"
       ]
      },
      {
       "output_type": "stream",
       "stream": "stdout",
       "text": [
        "\n",
        "/home/anh/Dropbox/fdi_network/Data/UNCTAD_clean/CMR_fdi.csvdone\n",
        "/home/anh/Dropbox/fdi_network/Data/UNCTAD_clean/NOR_fdi.csvdone\n",
        "/home/anh/Dropbox/fdi_network/Data/UNCTAD_clean/CHN_fdi.csvdone"
       ]
      },
      {
       "output_type": "stream",
       "stream": "stdout",
       "text": [
        "\n",
        "/home/anh/Dropbox/fdi_network/Data/UNCTAD_clean/KHM_fdi.csvdone\n",
        "/home/anh/Dropbox/fdi_network/Data/UNCTAD_clean/NCL_fdi.csvdone\n",
        "/home/anh/Dropbox/fdi_network/Data/UNCTAD_clean/PER_fdi.csvdone"
       ]
      },
      {
       "output_type": "stream",
       "stream": "stdout",
       "text": [
        "\n",
        "/home/anh/Dropbox/fdi_network/Data/UNCTAD_clean/DNK_fdi.csvdone\n",
        "/home/anh/Dropbox/fdi_network/Data/UNCTAD_clean/IRN_fdi.csvdone\n",
        "/home/anh/Dropbox/fdi_network/Data/UNCTAD_clean/SVK_fdi.csvdone"
       ]
      },
      {
       "output_type": "stream",
       "stream": "stdout",
       "text": [
        "\n",
        "/home/anh/Dropbox/fdi_network/Data/UNCTAD_clean/COL_fdi.csvdone\n",
        "/home/anh/Dropbox/fdi_network/Data/UNCTAD_clean/SLE_fdi.csvdone\n",
        "/home/anh/Dropbox/fdi_network/Data/UNCTAD_clean/IRQ_fdi.csvdone\n",
        "/home/anh/Dropbox/fdi_network/Data/UNCTAD_clean/BRN_fdi.csvdone"
       ]
      },
      {
       "output_type": "stream",
       "stream": "stdout",
       "text": [
        "\n",
        "/home/anh/Dropbox/fdi_network/Data/UNCTAD_clean/TCD_fdi.csvdone\n",
        "/home/anh/Dropbox/fdi_network/Data/UNCTAD_clean/PYF_fdi.csvdone\n",
        "/home/anh/Dropbox/fdi_network/Data/UNCTAD_clean/TWN_fdi.csvdone\n",
        "/home/anh/Dropbox/fdi_network/Data/UNCTAD_clean/MRT_fdi.csvdone"
       ]
      },
      {
       "output_type": "stream",
       "stream": "stdout",
       "text": [
        "\n",
        "/home/anh/Dropbox/fdi_network/Data/UNCTAD_clean/JAM_fdi.csvdone\n",
        "/home/anh/Dropbox/fdi_network/Data/UNCTAD_clean/ISL_fdi.csvdone\n",
        "/home/anh/Dropbox/fdi_network/Data/UNCTAD_clean/JPN_fdi.csvdone"
       ]
      },
      {
       "output_type": "stream",
       "stream": "stdout",
       "text": [
        "\n",
        "/home/anh/Dropbox/fdi_network/Data/UNCTAD_clean/LVA_fdi.csvdone\n",
        "/home/anh/Dropbox/fdi_network/Data/UNCTAD_clean/SWZ_fdi.csvdone\n",
        "/home/anh/Dropbox/fdi_network/Data/UNCTAD_clean/URY_fdi.csvdone"
       ]
      },
      {
       "output_type": "stream",
       "stream": "stdout",
       "text": [
        "\n",
        "/home/anh/Dropbox/fdi_network/Data/UNCTAD_clean/SLV_fdi.csvdone\n",
        "/home/anh/Dropbox/fdi_network/Data/UNCTAD_clean/TGO_fdi.csvdone\n",
        "/home/anh/Dropbox/fdi_network/Data/UNCTAD_clean/TUV_fdi.csvdone\n",
        "/home/anh/Dropbox/fdi_network/Data/UNCTAD_clean/TON_fdi.csvdone"
       ]
      },
      {
       "output_type": "stream",
       "stream": "stdout",
       "text": [
        "\n",
        "/home/anh/Dropbox/fdi_network/Data/UNCTAD_clean/HUN_fdi.csvdone\n",
        "/home/anh/Dropbox/fdi_network/Data/UNCTAD_clean/COM_fdi.csvdone\n",
        "/home/anh/Dropbox/fdi_network/Data/UNCTAD_clean/BLR_fdi.csvdone"
       ]
      },
      {
       "output_type": "stream",
       "stream": "stdout",
       "text": [
        "\n",
        "/home/anh/Dropbox/fdi_network/Data/UNCTAD_clean/NRU_fdi.csvdone\n",
        "/home/anh/Dropbox/fdi_network/Data/UNCTAD_clean/RUS_fdi.csvdone"
       ]
      },
      {
       "output_type": "stream",
       "stream": "stdout",
       "text": [
        "\n",
        "/home/anh/Dropbox/fdi_network/Data/UNCTAD_clean/ABW_fdi.csvdone\n",
        "/home/anh/Dropbox/fdi_network/Data/UNCTAD_clean/AGO_fdi.csvdone\n",
        "/home/anh/Dropbox/fdi_network/Data/UNCTAD_clean/OMN_fdi.csvdone"
       ]
      },
      {
       "output_type": "stream",
       "stream": "stdout",
       "text": [
        "\n",
        "/home/anh/Dropbox/fdi_network/Data/UNCTAD_clean/MUS_fdi.csvdone\n",
        "/home/anh/Dropbox/fdi_network/Data/UNCTAD_clean/PRK_fdi.csvdone\n",
        "/home/anh/Dropbox/fdi_network/Data/UNCTAD_clean/BEN_fdi.csvdone\n",
        "/home/anh/Dropbox/fdi_network/Data/UNCTAD_clean/CRI_fdi.csvdone"
       ]
      },
      {
       "output_type": "stream",
       "stream": "stdout",
       "text": [
        "\n",
        "/home/anh/Dropbox/fdi_network/Data/UNCTAD_clean/KGZ_fdi.csvdone\n",
        "/home/anh/Dropbox/fdi_network/Data/UNCTAD_clean/BTN_fdi.csvdone"
       ]
      },
      {
       "output_type": "stream",
       "stream": "stdout",
       "text": [
        "\n",
        "/home/anh/Dropbox/fdi_network/Data/UNCTAD_clean/PHL_fdi.csvdone\n",
        "/home/anh/Dropbox/fdi_network/Data/UNCTAD_clean/IDN_fdi.csvdone\n",
        "/home/anh/Dropbox/fdi_network/Data/UNCTAD_clean/PRY_fdi.csvdone"
       ]
      },
      {
       "output_type": "stream",
       "stream": "stdout",
       "text": [
        "\n",
        "/home/anh/Dropbox/fdi_network/Data/UNCTAD_clean/TLS_fdi.csvdone\n",
        "/home/anh/Dropbox/fdi_network/Data/UNCTAD_clean/QAT_fdi.csvdone\n",
        "/home/anh/Dropbox/fdi_network/Data/UNCTAD_clean/SHN_fdi.csvdone\n",
        "/home/anh/Dropbox/fdi_network/Data/UNCTAD_clean/ERI_fdi.csvdone\n",
        "/home/anh/Dropbox/fdi_network/Data/UNCTAD_clean/YEM_fdi.csvdone"
       ]
      },
      {
       "output_type": "stream",
       "stream": "stdout",
       "text": [
        "\n",
        "/home/anh/Dropbox/fdi_network/Data/UNCTAD_clean/BGR_fdi.csvdone\n",
        "/home/anh/Dropbox/fdi_network/Data/UNCTAD_clean/ITA_fdi.csvdone"
       ]
      },
      {
       "output_type": "stream",
       "stream": "stdout",
       "text": [
        "\n",
        "/home/anh/Dropbox/fdi_network/Data/UNCTAD_clean/NGA_fdi.csvdone\n",
        "/home/anh/Dropbox/fdi_network/Data/UNCTAD_clean/VGB_fdi.csvdone\n",
        "/home/anh/Dropbox/fdi_network/Data/UNCTAD_clean/TZA_fdi.csvdone"
       ]
      },
      {
       "output_type": "stream",
       "stream": "stdout",
       "text": [
        "\n",
        "/home/anh/Dropbox/fdi_network/Data/UNCTAD_clean/LBR_fdi.csvdone\n",
        "/home/anh/Dropbox/fdi_network/Data/UNCTAD_clean/CAF_fdi.csvdone\n",
        "/home/anh/Dropbox/fdi_network/Data/UNCTAD_clean/SUR_fdi.csvdone\n",
        "/home/anh/Dropbox/fdi_network/Data/UNCTAD_clean/LTU_fdi.csvdone"
       ]
      },
      {
       "output_type": "stream",
       "stream": "stdout",
       "text": [
        "\n",
        "/home/anh/Dropbox/fdi_network/Data/UNCTAD_clean/STP_fdi.csvdone\n",
        "/home/anh/Dropbox/fdi_network/Data/UNCTAD_clean/CYP_fdi.csvdone\n",
        "/home/anh/Dropbox/fdi_network/Data/UNCTAD_clean/DOM_fdi.csvdone"
       ]
      },
      {
       "output_type": "stream",
       "stream": "stdout",
       "text": [
        "\n",
        "/home/anh/Dropbox/fdi_network/Data/UNCTAD_clean/TTO_fdi.csvdone\n",
        "/home/anh/Dropbox/fdi_network/Data/UNCTAD_clean/BDI_fdi.csvdone\n",
        "/home/anh/Dropbox/fdi_network/Data/UNCTAD_clean/UKR_fdi.csvdone"
       ]
      },
      {
       "output_type": "stream",
       "stream": "stdout",
       "text": [
        "\n",
        "/home/anh/Dropbox/fdi_network/Data/UNCTAD_clean/NLD_fdi.csvdone\n",
        "/home/anh/Dropbox/fdi_network/Data/UNCTAD_clean/FJI_fdi.csvdone\n",
        "/home/anh/Dropbox/fdi_network/Data/UNCTAD_clean/AZE_fdi.csvdone"
       ]
      },
      {
       "output_type": "stream",
       "stream": "stdout",
       "text": [
        "\n",
        "/home/anh/Dropbox/fdi_network/Data/UNCTAD_clean/ESP_fdi.csvdone\n",
        "/home/anh/Dropbox/fdi_network/Data/UNCTAD_clean/KNA_fdi.csvdone\n",
        "/home/anh/Dropbox/fdi_network/Data/UNCTAD_clean/ZMB_fdi.csvdone"
       ]
      },
      {
       "output_type": "stream",
       "stream": "stdout",
       "text": [
        "\n",
        "/home/anh/Dropbox/fdi_network/Data/UNCTAD_clean/GTM_fdi.csvdone\n",
        "/home/anh/Dropbox/fdi_network/Data/UNCTAD_clean/USA_fdi.csvdone"
       ]
      },
      {
       "output_type": "stream",
       "stream": "stdout",
       "text": [
        "\n",
        "/home/anh/Dropbox/fdi_network/Data/UNCTAD_clean/BEL_fdi.csvdone"
       ]
      },
      {
       "output_type": "stream",
       "stream": "stdout",
       "text": [
        "\n",
        "/home/anh/Dropbox/fdi_network/Data/UNCTAD_clean/MOZ_fdi.csvdone\n",
        "/home/anh/Dropbox/fdi_network/Data/UNCTAD_clean/LAO_fdi.csvdone\n",
        "/home/anh/Dropbox/fdi_network/Data/UNCTAD_clean/DZA_fdi.csvdone"
       ]
      },
      {
       "output_type": "stream",
       "stream": "stdout",
       "text": [
        "\n",
        "/home/anh/Dropbox/fdi_network/Data/UNCTAD_clean/LSO_fdi.csvdone\n",
        "/home/anh/Dropbox/fdi_network/Data/UNCTAD_clean/MAR_fdi.csvdone\n",
        "/home/anh/Dropbox/fdi_network/Data/UNCTAD_clean/ATG_fdi.csvdone"
       ]
      },
      {
       "output_type": "stream",
       "stream": "stdout",
       "text": [
        "\n",
        "/home/anh/Dropbox/fdi_network/Data/UNCTAD_clean/EST_fdi.csvdone\n",
        "/home/anh/Dropbox/fdi_network/Data/UNCTAD_clean/BOL_fdi.csvdone\n",
        "/home/anh/Dropbox/fdi_network/Data/UNCTAD_clean/GNB_fdi.csvdone"
       ]
      },
      {
       "output_type": "stream",
       "stream": "stdout",
       "text": [
        "\n",
        "/home/anh/Dropbox/fdi_network/Data/UNCTAD_clean/VNM_fdi.csvdone\n",
        "/home/anh/Dropbox/fdi_network/Data/UNCTAD_clean/TJK_fdi.csvdone\n",
        "/home/anh/Dropbox/fdi_network/Data/UNCTAD_clean/COG_fdi.csvdone\n",
        "/home/anh/Dropbox/fdi_network/Data/UNCTAD_clean/VIR_fdi.csvdone"
       ]
      },
      {
       "output_type": "stream",
       "stream": "stdout",
       "text": [
        "\n",
        "/home/anh/Dropbox/fdi_network/Data/UNCTAD_clean/IRL_fdi.csvdone\n",
        "/home/anh/Dropbox/fdi_network/Data/UNCTAD_clean/GMB_fdi.csvdone\n",
        "/home/anh/Dropbox/fdi_network/Data/UNCTAD_clean/BIH_fdi.csvdone\n",
        "/home/anh/Dropbox/fdi_network/Data/UNCTAD_clean/SYC_fdi.csvdone"
       ]
      },
      {
       "output_type": "stream",
       "stream": "stdout",
       "text": [
        "\n",
        "/home/anh/Dropbox/fdi_network/Data/UNCTAD_clean/ALB_fdi.csvdone\n",
        "/home/anh/Dropbox/fdi_network/Data/UNCTAD_clean/GRD_fdi.csvdone\n",
        "/home/anh/Dropbox/fdi_network/Data/UNCTAD_clean/MDG_fdi.csvdone\n",
        "/home/anh/Dropbox/fdi_network/Data/UNCTAD_clean/NIC_fdi.csvdone"
       ]
      },
      {
       "output_type": "stream",
       "stream": "stdout",
       "text": [
        "\n",
        "/home/anh/Dropbox/fdi_network/Data/UNCTAD_clean/BHS_fdi.csvdone\n",
        "/home/anh/Dropbox/fdi_network/Data/UNCTAD_clean/NER_fdi.csvdone\n",
        "/home/anh/Dropbox/fdi_network/Data/UNCTAD_clean/KAZ_fdi.csvdone"
       ]
      },
      {
       "output_type": "stream",
       "stream": "stdout",
       "text": [
        "\n",
        "/home/anh/Dropbox/fdi_network/Data/UNCTAD_clean/BGD_fdi.csvdone\n",
        "/home/anh/Dropbox/fdi_network/Data/UNCTAD_clean/TUR_fdi.csvdone"
       ]
      },
      {
       "output_type": "stream",
       "stream": "stdout",
       "text": [
        "\n",
        "/home/anh/Dropbox/fdi_network/Data/UNCTAD_clean/ANT_fdi.csvdone\n",
        "/home/anh/Dropbox/fdi_network/Data/UNCTAD_clean/LBY_fdi.csvdone\n",
        "/home/anh/Dropbox/fdi_network/Data/UNCTAD_clean/ARG_fdi.csvdone"
       ]
      },
      {
       "output_type": "stream",
       "stream": "stdout",
       "text": [
        "\n",
        "/home/anh/Dropbox/fdi_network/Data/UNCTAD_clean/ASM_fdi.csvdone\n",
        "/home/anh/Dropbox/fdi_network/Data/UNCTAD_clean/MYS_fdi.csvdone\n",
        "/home/anh/Dropbox/fdi_network/Data/UNCTAD_clean/SOM_fdi.csvdone\n",
        "/home/anh/Dropbox/fdi_network/Data/UNCTAD_clean/NIU_fdi.csvdone"
       ]
      },
      {
       "output_type": "stream",
       "stream": "stdout",
       "text": [
        "\n",
        "/home/anh/Dropbox/fdi_network/Data/UNCTAD_clean/REU_fdi.csvdone\n",
        "/home/anh/Dropbox/fdi_network/Data/UNCTAD_clean/MEX_fdi.csvdone\n",
        "/home/anh/Dropbox/fdi_network/Data/UNCTAD_clean/AUS_fdi.csvdone"
       ]
      },
      {
       "output_type": "stream",
       "stream": "stdout",
       "text": [
        "\n",
        "/home/anh/Dropbox/fdi_network/Data/UNCTAD_clean/ARE_fdi.csvdone\n",
        "/home/anh/Dropbox/fdi_network/Data/UNCTAD_clean/MNE_fdi.csvdone\n",
        "/home/anh/Dropbox/fdi_network/Data/UNCTAD_clean/ECU_fdi.csvdone"
       ]
      },
      {
       "output_type": "stream",
       "stream": "stdout",
       "text": [
        "\n",
        "/home/anh/Dropbox/fdi_network/Data/UNCTAD_clean/EGY_fdi.csvdone\n",
        "/home/anh/Dropbox/fdi_network/Data/UNCTAD_clean/GEO_fdi.csvdone\n",
        "/home/anh/Dropbox/fdi_network/Data/UNCTAD_clean/PLW_fdi.csvdone"
       ]
      },
      {
       "output_type": "stream",
       "stream": "stdout",
       "text": [
        "\n",
        "/home/anh/Dropbox/fdi_network/Data/UNCTAD_clean/VUT_fdi.csvdone\n",
        "/home/anh/Dropbox/fdi_network/Data/UNCTAD_clean/PSE_fdi.csvdone\n",
        "/home/anh/Dropbox/fdi_network/Data/UNCTAD_clean/PRI_fdi.csvdone\n",
        "/home/anh/Dropbox/fdi_network/Data/UNCTAD_clean/HRV_fdi.csvdone"
       ]
      },
      {
       "output_type": "stream",
       "stream": "stdout",
       "text": [
        "\n",
        "/home/anh/Dropbox/fdi_network/Data/UNCTAD_clean/MMR_fdi.csvdone\n",
        "/home/anh/Dropbox/fdi_network/Data/UNCTAD_clean/TKL_fdi.csvdone\n",
        "/home/anh/Dropbox/fdi_network/Data/UNCTAD_clean/DEU_fdi.csvdone"
       ]
      },
      {
       "output_type": "stream",
       "stream": "stdout",
       "text": [
        "\n",
        "/home/anh/Dropbox/fdi_network/Data/UNCTAD_clean/AFG_fdi.csvdone\n",
        "/home/anh/Dropbox/fdi_network/Data/UNCTAD_clean/ZAF_fdi.csvdone\n",
        "/home/anh/Dropbox/fdi_network/Data/UNCTAD_clean/DMA_fdi.csvdone\n",
        "/home/anh/Dropbox/fdi_network/Data/UNCTAD_clean/PAK_fdi.csvdone"
       ]
      },
      {
       "output_type": "stream",
       "stream": "stdout",
       "text": [
        "\n",
        "/home/anh/Dropbox/fdi_network/Data/UNCTAD_clean/MKD_fdi.csvdone\n",
        "/home/anh/Dropbox/fdi_network/Data/UNCTAD_clean/SEN_fdi.csvdone\n",
        "/home/anh/Dropbox/fdi_network/Data/UNCTAD_clean/NAM_fdi.csvdone\n",
        "/home/anh/Dropbox/fdi_network/Data/UNCTAD_clean/LBN_fdi.csvdone"
       ]
      },
      {
       "output_type": "stream",
       "stream": "stdout",
       "text": [
        "\n",
        "/home/anh/Dropbox/fdi_network/Data/UNCTAD_clean/MAC_fdi.csvdone\n",
        "/home/anh/Dropbox/fdi_network/Data/UNCTAD_clean/CIV_fdi.csvdone\n",
        "/home/anh/Dropbox/fdi_network/Data/UNCTAD_clean/SYR_fdi.csvdone\n",
        "/home/anh/Dropbox/fdi_network/Data/UNCTAD_clean/UGA_fdi.csvdone"
       ]
      },
      {
       "output_type": "stream",
       "stream": "stdout",
       "text": [
        "\n",
        "/home/anh/Dropbox/fdi_network/Data/UNCTAD_clean/MDA_fdi.csvdone\n",
        "/home/anh/Dropbox/fdi_network/Data/UNCTAD_clean/BFA_fdi.csvdone\n",
        "/home/anh/Dropbox/fdi_network/Data/UNCTAD_clean/LUX_fdi.csvdone"
       ]
      },
      {
       "output_type": "stream",
       "stream": "stdout",
       "text": [
        "\n",
        "/home/anh/Dropbox/fdi_network/Data/UNCTAD_clean/RWA_fdi.csvdone\n",
        "/home/anh/Dropbox/fdi_network/Data/UNCTAD_clean/NZL_fdi.csvdone\n",
        "/home/anh/Dropbox/fdi_network/Data/UNCTAD_clean/BMU_fdi.csvdone"
       ]
      },
      {
       "output_type": "stream",
       "stream": "stdout",
       "text": [
        "\n",
        "/home/anh/Dropbox/fdi_network/Data/UNCTAD_clean/DJI_fdi.csvdone\n",
        "/home/anh/Dropbox/fdi_network/Data/UNCTAD_clean/POL_fdi.csvdone\n",
        "/home/anh/Dropbox/fdi_network/Data/UNCTAD_clean/CHE_fdi.csvdone"
       ]
      },
      {
       "output_type": "stream",
       "stream": "stdout",
       "text": [
        "\n",
        "/home/anh/Dropbox/fdi_network/Data/UNCTAD_clean/AUT_fdi.csvdone\n",
        "/home/anh/Dropbox/fdi_network/Data/UNCTAD_clean/ETH_fdi.csvdone\n",
        "/home/anh/Dropbox/fdi_network/Data/UNCTAD_clean/MWI_fdi.csvdone"
       ]
      },
      {
       "output_type": "stream",
       "stream": "stdout",
       "text": [
        "\n",
        "/home/anh/Dropbox/fdi_network/Data/UNCTAD_clean/TUN_fdi.csvdone\n",
        "/home/anh/Dropbox/fdi_network/Data/UNCTAD_clean/TCA_fdi.csvdone\n",
        "/home/anh/Dropbox/fdi_network/Data/UNCTAD_clean/ARM_fdi.csvdone"
       ]
      },
      {
       "output_type": "stream",
       "stream": "stdout",
       "text": [
        "\n",
        "/home/anh/Dropbox/fdi_network/Data/UNCTAD_clean/BRA_fdi.csvdone\n",
        "/home/anh/Dropbox/fdi_network/Data/UNCTAD_clean/CZE_fdi.csvdone"
       ]
      },
      {
       "output_type": "stream",
       "stream": "stdout",
       "text": [
        "\n",
        "/home/anh/Dropbox/fdi_network/Data/UNCTAD_clean/MLT_fdi.csvdone\n",
        "/home/anh/Dropbox/fdi_network/Data/UNCTAD_clean/SGP_fdi.csvdone\n",
        "/home/anh/Dropbox/fdi_network/Data/UNCTAD_clean/BWA_fdi.csvdone"
       ]
      },
      {
       "output_type": "stream",
       "stream": "stdout",
       "text": [
        "\n"
       ]
      }
     ],
     "prompt_number": 10
    },
    {
     "cell_type": "code",
     "collapsed": false,
     "input": [
      "! rm /home/anh/Dropbox/fdi_network/Data/UNCTAD_clean/*.xls"
     ],
     "language": "python",
     "metadata": {},
     "outputs": [],
     "prompt_number": 97
    }
   ],
   "metadata": {}
  }
 ]
}