{
 "metadata": {
  "name": "",
  "signature": "sha256:c89ed79a7f9e13fce38e38666165f074652871602b36b8cfdc382e4255f12c63"
 },
 "nbformat": 3,
 "nbformat_minor": 0,
 "worksheets": [
  {
   "cells": [
    {
     "cell_type": "code",
     "collapsed": false,
     "input": [
      "import numpy as np\n",
      "import pandas as pd\n",
      "import os"
     ],
     "language": "python",
     "metadata": {},
     "outputs": [],
     "prompt_number": 34
    },
    {
     "cell_type": "code",
     "collapsed": false,
     "input": [
      "def read_fdi_excel(filename, sheetname):\n",
      "    d = pd.read_excel(filename, sheetname=sheetname)\n",
      "    if len(d.columns) > 13:\n",
      "        return read_fdi_largecountry(filename, sheetname=sheetname)\n",
      "    else:\n",
      "        return read_fdi_smallcountry(filename, sheetname=sheetname)\n",
      "\n",
      "def read_fdi_largecountry(filename, sheetname, drop_aggregate=True):\n",
      "    d = pd.read_excel(filename, sheetname=sheetname, skiprows=4)\n",
      "    d = d.fillna('')\n",
      "    d.insert(6, 'country', pd.Series(d.iloc[:, :5].sum(axis=1))) # Collapse the first 5 columns into the 6th\n",
      "    d.drop(d.columns[0:6], axis=1, inplace=True) # Drop the first 5 columns\n",
      "    d = d.applymap(lambda x: np.nan if x == \"\" else x) # Reconvert blank to NaN\n",
      "    d.dropna(inplace=True) # Drop all the NaN, which used to be blank cells in the original\n",
      "    d = d.replace('..', np.nan)\n",
      "    if drop_aggregate:\n",
      "        d = d[~d['country'].isin([\"World\", \"Developed economies\", \"Europe\", \"European Union\",\n",
      "                                  \"Other developed Europe\", \"North America\", \"Other developed countries\",\n",
      "                                  \"Developing economies\", \"Africa\", \"North Africa\", \"Other Africa\", \"Asia\",\n",
      "                                  \"East Asia\", \"South-East Asia\", \"South Asia\", \"West Asia\", \n",
      "                                  \"Latin America and the Caribbean\", \"South America\", \"Central America\", \"Caribbean\",\n",
      "                                  \"Oceania\", \"Transition economies\", \"South-East Europe\", \"CIS\",\n",
      "                                  \"Unspecified\"])]\n",
      "    return d\n",
      "\n",
      "def read_fdi_smallcountry(filename, sheetname):\n",
      "    d = pd.read_excel(filename, sheetname=sheetname, skiprows=4)\n",
      "    d = d.rename(columns={'Reporting economy': 'country'})\n",
      "    d = d.dropna().replace('..', np.nan)\n",
      "    return d"
     ],
     "language": "python",
     "metadata": {},
     "outputs": [],
     "prompt_number": 41
    },
    {
     "cell_type": "code",
     "collapsed": false,
     "input": [
      "read_fdi_excel('/home/anh/Dropbox/fdi_network/Data/UNCTAD/AFG_fdi.xls', sheetname=1)"
     ],
     "language": "python",
     "metadata": {},
     "outputs": [
      {
       "html": [
        "<div style=\"max-height:1000px;max-width:1500px;overflow:auto;\">\n",
        "<table border=\"1\" class=\"dataframe\">\n",
        "  <thead>\n",
        "    <tr style=\"text-align: right;\">\n",
        "      <th></th>\n",
        "      <th>country</th>\n",
        "      <th>2001</th>\n",
        "      <th>2002</th>\n",
        "      <th>2003</th>\n",
        "      <th>2004</th>\n",
        "      <th>2005</th>\n",
        "      <th>2006</th>\n",
        "      <th>2007</th>\n",
        "      <th>2008</th>\n",
        "      <th>2009</th>\n",
        "      <th>2010</th>\n",
        "      <th>2011</th>\n",
        "      <th>2012</th>\n",
        "    </tr>\n",
        "  </thead>\n",
        "  <tbody>\n",
        "    <tr>\n",
        "      <th>1</th>\n",
        "      <td>       Estonia</td>\n",
        "      <td> 0</td>\n",
        "      <td> 0</td>\n",
        "      <td> 0</td>\n",
        "      <td> 0.000000</td>\n",
        "      <td> 0.527284</td>\n",
        "      <td> 0</td>\n",
        "      <td> 0</td>\n",
        "      <td>  0.000000</td>\n",
        "      <td>  0.000000</td>\n",
        "      <td>  0.000000</td>\n",
        "      <td>  0.000000</td>\n",
        "      <td>  0.000000</td>\n",
        "    </tr>\n",
        "    <tr>\n",
        "      <th>2</th>\n",
        "      <td>       Germany</td>\n",
        "      <td> 0</td>\n",
        "      <td> 0</td>\n",
        "      <td> 0</td>\n",
        "      <td> 0.000000</td>\n",
        "      <td> 0.000000</td>\n",
        "      <td> 0</td>\n",
        "      <td> 0</td>\n",
        "      <td>  0.000000</td>\n",
        "      <td>  1.389192</td>\n",
        "      <td>  0.000000</td>\n",
        "      <td>  0.000000</td>\n",
        "      <td>  0.000000</td>\n",
        "    </tr>\n",
        "    <tr>\n",
        "      <th>3</th>\n",
        "      <td>         Italy</td>\n",
        "      <td> 0</td>\n",
        "      <td> 0</td>\n",
        "      <td> 0</td>\n",
        "      <td> 0.000000</td>\n",
        "      <td> 0.000000</td>\n",
        "      <td> 0</td>\n",
        "      <td> 0</td>\n",
        "      <td> 70.560662</td>\n",
        "      <td> 77.461335</td>\n",
        "      <td> 63.824010</td>\n",
        "      <td> 67.240792</td>\n",
        "      <td> 64.975446</td>\n",
        "    </tr>\n",
        "    <tr>\n",
        "      <th>4</th>\n",
        "      <td>     Lithuania</td>\n",
        "      <td> 0</td>\n",
        "      <td> 0</td>\n",
        "      <td> 0</td>\n",
        "      <td> 0.000000</td>\n",
        "      <td> 0.000000</td>\n",
        "      <td> 0</td>\n",
        "      <td> 0</td>\n",
        "      <td>  0.000000</td>\n",
        "      <td>  0.000000</td>\n",
        "      <td>  1.534725</td>\n",
        "      <td>  0.000000</td>\n",
        "      <td>  0.000000</td>\n",
        "    </tr>\n",
        "    <tr>\n",
        "      <th>5</th>\n",
        "      <td>        Malawi</td>\n",
        "      <td> 0</td>\n",
        "      <td> 0</td>\n",
        "      <td> 0</td>\n",
        "      <td> 0.000000</td>\n",
        "      <td> 0.000000</td>\n",
        "      <td> 0</td>\n",
        "      <td> 0</td>\n",
        "      <td>  0.000000</td>\n",
        "      <td>  0.000000</td>\n",
        "      <td>  4.300000</td>\n",
        "      <td>  0.000000</td>\n",
        "      <td>  0.000000</td>\n",
        "    </tr>\n",
        "    <tr>\n",
        "      <th>6</th>\n",
        "      <td>       Romania</td>\n",
        "      <td> 0</td>\n",
        "      <td> 0</td>\n",
        "      <td> 0</td>\n",
        "      <td>-0.700304</td>\n",
        "      <td> 0.000000</td>\n",
        "      <td> 0</td>\n",
        "      <td> 0</td>\n",
        "      <td>  0.000000</td>\n",
        "      <td>  0.000000</td>\n",
        "      <td>  0.000000</td>\n",
        "      <td>  0.000000</td>\n",
        "      <td>  0.000000</td>\n",
        "    </tr>\n",
        "    <tr>\n",
        "      <th>7</th>\n",
        "      <td>  Saudi Arabia</td>\n",
        "      <td> 0</td>\n",
        "      <td> 0</td>\n",
        "      <td> 1</td>\n",
        "      <td> 0.000000</td>\n",
        "      <td> 1.000000</td>\n",
        "      <td> 0</td>\n",
        "      <td> 0</td>\n",
        "      <td>  0.000000</td>\n",
        "      <td>  0.000000</td>\n",
        "      <td>  0.000000</td>\n",
        "      <td>  0.000000</td>\n",
        "      <td>  0.000000</td>\n",
        "    </tr>\n",
        "    <tr>\n",
        "      <th>8</th>\n",
        "      <td> United States</td>\n",
        "      <td> 0</td>\n",
        "      <td> 0</td>\n",
        "      <td> 0</td>\n",
        "      <td> 0.000000</td>\n",
        "      <td> 0.000000</td>\n",
        "      <td> 0</td>\n",
        "      <td> 0</td>\n",
        "      <td>  1.000000</td>\n",
        "      <td>  2.000000</td>\n",
        "      <td>  2.000000</td>\n",
        "      <td>  3.000000</td>\n",
        "      <td>  0.000000</td>\n",
        "    </tr>\n",
        "  </tbody>\n",
        "</table>\n",
        "</div>"
       ],
       "metadata": {},
       "output_type": "pyout",
       "prompt_number": 43,
       "text": [
        "         country  2001  2002  2003      2004      2005  2006  2007       2008  \\\n",
        "1        Estonia     0     0     0  0.000000  0.527284     0     0   0.000000   \n",
        "2        Germany     0     0     0  0.000000  0.000000     0     0   0.000000   \n",
        "3          Italy     0     0     0  0.000000  0.000000     0     0  70.560662   \n",
        "4      Lithuania     0     0     0  0.000000  0.000000     0     0   0.000000   \n",
        "5         Malawi     0     0     0  0.000000  0.000000     0     0   0.000000   \n",
        "6        Romania     0     0     0 -0.700304  0.000000     0     0   0.000000   \n",
        "7   Saudi Arabia     0     0     1  0.000000  1.000000     0     0   0.000000   \n",
        "8  United States     0     0     0  0.000000  0.000000     0     0   1.000000   \n",
        "\n",
        "        2009       2010       2011       2012  \n",
        "1   0.000000   0.000000   0.000000   0.000000  \n",
        "2   1.389192   0.000000   0.000000   0.000000  \n",
        "3  77.461335  63.824010  67.240792  64.975446  \n",
        "4   0.000000   1.534725   0.000000   0.000000  \n",
        "5   0.000000   4.300000   0.000000   0.000000  \n",
        "6   0.000000   0.000000   0.000000   0.000000  \n",
        "7   0.000000   0.000000   0.000000   0.000000  \n",
        "8   2.000000   2.000000   3.000000   0.000000  "
       ]
      }
     ],
     "prompt_number": 43
    },
    {
     "cell_type": "code",
     "collapsed": false,
     "input": [
      "read_fdi_excel('/home/anh/Dropbox/fdi_network/Data/UNCTAD/SWE_fdi.xls', sheetname=0)"
     ],
     "language": "python",
     "metadata": {},
     "outputs": [
      {
       "html": [
        "<div style=\"max-height:1000px;max-width:1500px;overflow:auto;\">\n",
        "<table border=\"1\" class=\"dataframe\">\n",
        "  <thead>\n",
        "    <tr style=\"text-align: right;\">\n",
        "      <th></th>\n",
        "      <th>country</th>\n",
        "      <th>2001</th>\n",
        "      <th>2002</th>\n",
        "      <th>2003</th>\n",
        "      <th>2004</th>\n",
        "      <th>2005</th>\n",
        "      <th>2006</th>\n",
        "      <th>2007</th>\n",
        "      <th>2008</th>\n",
        "      <th>2009</th>\n",
        "      <th>2010</th>\n",
        "      <th>2011</th>\n",
        "      <th>2012</th>\n",
        "    </tr>\n",
        "  </thead>\n",
        "  <tbody>\n",
        "    <tr>\n",
        "      <th>5  </th>\n",
        "      <td>                       Austria</td>\n",
        "      <td>   15.123970</td>\n",
        "      <td> -193.623710</td>\n",
        "      <td>         NaN</td>\n",
        "      <td>  -45.061377</td>\n",
        "      <td>         NaN</td>\n",
        "      <td>  268.690950</td>\n",
        "      <td>    1.584652</td>\n",
        "      <td>   167.953756</td>\n",
        "      <td>         NaN</td>\n",
        "      <td>         NaN</td>\n",
        "      <td>    -2.771986</td>\n",
        "      <td>   74.981328</td>\n",
        "    </tr>\n",
        "    <tr>\n",
        "      <th>6  </th>\n",
        "      <td>                       Belgium</td>\n",
        "      <td> 1814.372404</td>\n",
        "      <td>  766.035255</td>\n",
        "      <td>-1306.260057</td>\n",
        "      <td> -826.106528</td>\n",
        "      <td> 4426.852975</td>\n",
        "      <td> 2645.146518</td>\n",
        "      <td> 2326.512931</td>\n",
        "      <td>  5642.305533</td>\n",
        "      <td> 3397.780455</td>\n",
        "      <td> 3614.419384</td>\n",
        "      <td> -2672.810208</td>\n",
        "      <td>-8065.068443</td>\n",
        "    </tr>\n",
        "    <tr>\n",
        "      <th>7  </th>\n",
        "      <td>                      Bulgaria</td>\n",
        "      <td>    0.000000</td>\n",
        "      <td>    0.000000</td>\n",
        "      <td>   -0.856078</td>\n",
        "      <td>   -0.670945</td>\n",
        "      <td>    0.000000</td>\n",
        "      <td>    0.000000</td>\n",
        "      <td>   -0.556625</td>\n",
        "      <td>    -0.606879</td>\n",
        "      <td>    0.000000</td>\n",
        "      <td>   -1.109952</td>\n",
        "      <td>     0.000000</td>\n",
        "      <td>   -1.033207</td>\n",
        "    </tr>\n",
        "    <tr>\n",
        "      <th>8  </th>\n",
        "      <td>                       Croatia</td>\n",
        "      <td>   -0.657850</td>\n",
        "      <td>         NaN</td>\n",
        "      <td>   -0.706701</td>\n",
        "      <td>   -0.553880</td>\n",
        "      <td>    0.000000</td>\n",
        "      <td>    0.000000</td>\n",
        "      <td>    0.000000</td>\n",
        "      <td>     0.000000</td>\n",
        "      <td>    0.000000</td>\n",
        "      <td>   -1.109952</td>\n",
        "      <td>     0.000000</td>\n",
        "      <td>         NaN</td>\n",
        "    </tr>\n",
        "    <tr>\n",
        "      <th>9  </th>\n",
        "      <td>                        Cyprus</td>\n",
        "      <td>  330.289957</td>\n",
        "      <td>         NaN</td>\n",
        "      <td>         NaN</td>\n",
        "      <td>         NaN</td>\n",
        "      <td>         NaN</td>\n",
        "      <td>   47.058639</td>\n",
        "      <td>         NaN</td>\n",
        "      <td>          NaN</td>\n",
        "      <td>         NaN</td>\n",
        "      <td>  -92.126002</td>\n",
        "      <td>          NaN</td>\n",
        "      <td>         NaN</td>\n",
        "    </tr>\n",
        "    <tr>\n",
        "      <th>10 </th>\n",
        "      <td>                Czech Republic</td>\n",
        "      <td>  -25.764587</td>\n",
        "      <td>   -8.497441</td>\n",
        "      <td>   18.529389</td>\n",
        "      <td>  -18.618526</td>\n",
        "      <td>         NaN</td>\n",
        "      <td>  -14.372243</td>\n",
        "      <td>         NaN</td>\n",
        "      <td>   -28.523312</td>\n",
        "      <td>         NaN</td>\n",
        "      <td>   -1.109952</td>\n",
        "      <td>    -7.083963</td>\n",
        "      <td>   11.808083</td>\n",
        "    </tr>\n",
        "    <tr>\n",
        "      <th>11 </th>\n",
        "      <td>                       Denmark</td>\n",
        "      <td> 1148.902518</td>\n",
        "      <td>  544.356247</td>\n",
        "      <td>  603.064962</td>\n",
        "      <td> -177.870481</td>\n",
        "      <td> 1170.727637</td>\n",
        "      <td>  439.849639</td>\n",
        "      <td>  194.521710</td>\n",
        "      <td>  6484.805268</td>\n",
        "      <td>         NaN</td>\n",
        "      <td>  161.359247</td>\n",
        "      <td>  1302.063281</td>\n",
        "      <td>  310.552589</td>\n",
        "    </tr>\n",
        "    <tr>\n",
        "      <th>12 </th>\n",
        "      <td>                       Estonia</td>\n",
        "      <td>  -10.282212</td>\n",
        "      <td>   -6.867924</td>\n",
        "      <td>  -15.794764</td>\n",
        "      <td>  -12.390606</td>\n",
        "      <td>    0.000000</td>\n",
        "      <td>   -6.532836</td>\n",
        "      <td>   -9.882952</td>\n",
        "      <td>          NaN</td>\n",
        "      <td>         NaN</td>\n",
        "      <td>  -15.816814</td>\n",
        "      <td>     7.699960</td>\n",
        "      <td>  -18.745332</td>\n",
        "    </tr>\n",
        "    <tr>\n",
        "      <th>13 </th>\n",
        "      <td>                       Finland</td>\n",
        "      <td> 2001.658034</td>\n",
        "      <td> 5931.229799</td>\n",
        "      <td>-3429.776597</td>\n",
        "      <td>-3001.480346</td>\n",
        "      <td>-2525.468608</td>\n",
        "      <td>  -85.204567</td>\n",
        "      <td> 2761.938178</td>\n",
        "      <td>    46.426241</td>\n",
        "      <td> 2621.305440</td>\n",
        "      <td> -533.331853</td>\n",
        "      <td>  2975.726645</td>\n",
        "      <td> 2189.661433</td>\n",
        "    </tr>\n",
        "    <tr>\n",
        "      <th>14 </th>\n",
        "      <td>                        France</td>\n",
        "      <td>  962.145008</td>\n",
        "      <td>   77.685620</td>\n",
        "      <td>  -84.377861</td>\n",
        "      <td>  672.746741</td>\n",
        "      <td>  976.262804</td>\n",
        "      <td>  569.759374</td>\n",
        "      <td> 1435.777235</td>\n",
        "      <td>  1822.305837</td>\n",
        "      <td>  642.816267</td>\n",
        "      <td>-4602.276511</td>\n",
        "      <td>  -811.575812</td>\n",
        "      <td>-1416.969987</td>\n",
        "    </tr>\n",
        "    <tr>\n",
        "      <th>15 </th>\n",
        "      <td>                       Germany</td>\n",
        "      <td> 2035.704079</td>\n",
        "      <td> 1874.316985</td>\n",
        "      <td> 1822.526570</td>\n",
        "      <td>         NaN</td>\n",
        "      <td> -650.594185</td>\n",
        "      <td> -289.505709</td>\n",
        "      <td> 3726.404745</td>\n",
        "      <td>  8874.846384</td>\n",
        "      <td> -860.224045</td>\n",
        "      <td>-1098.713566</td>\n",
        "      <td>    65.757661</td>\n",
        "      <td>-2414.162615</td>\n",
        "    </tr>\n",
        "    <tr>\n",
        "      <th>16 </th>\n",
        "      <td>                        Greece</td>\n",
        "      <td>   -9.848002</td>\n",
        "      <td>         NaN</td>\n",
        "      <td>   -2.287227</td>\n",
        "      <td>   -2.753178</td>\n",
        "      <td>         NaN</td>\n",
        "      <td>         NaN</td>\n",
        "      <td>         NaN</td>\n",
        "      <td>          NaN</td>\n",
        "      <td>         NaN</td>\n",
        "      <td>   -2.774880</td>\n",
        "      <td>     0.000000</td>\n",
        "      <td>         NaN</td>\n",
        "    </tr>\n",
        "    <tr>\n",
        "      <th>17 </th>\n",
        "      <td>                       Hungary</td>\n",
        "      <td>   -2.983416</td>\n",
        "      <td>   -2.005798</td>\n",
        "      <td>  -15.967241</td>\n",
        "      <td>  -13.841315</td>\n",
        "      <td>         NaN</td>\n",
        "      <td>         NaN</td>\n",
        "      <td>         NaN</td>\n",
        "      <td>          NaN</td>\n",
        "      <td>         NaN</td>\n",
        "      <td>  -10.405798</td>\n",
        "      <td>    -3.387983</td>\n",
        "      <td>  -12.250886</td>\n",
        "    </tr>\n",
        "    <tr>\n",
        "      <th>18 </th>\n",
        "      <td>                       Ireland</td>\n",
        "      <td> -384.301440</td>\n",
        "      <td>  117.627060</td>\n",
        "      <td>         NaN</td>\n",
        "      <td>         NaN</td>\n",
        "      <td>         NaN</td>\n",
        "      <td>         NaN</td>\n",
        "      <td> 1739.425694</td>\n",
        "      <td>    14.413376</td>\n",
        "      <td> 3070.100943</td>\n",
        "      <td> 3170.854885</td>\n",
        "      <td>   688.684446</td>\n",
        "      <td>  769.149021</td>\n",
        "    </tr>\n",
        "    <tr>\n",
        "      <th>19 </th>\n",
        "      <td>                         Italy</td>\n",
        "      <td>   80.732784</td>\n",
        "      <td>         NaN</td>\n",
        "      <td>         NaN</td>\n",
        "      <td>  -28.230794</td>\n",
        "      <td> -176.113910</td>\n",
        "      <td>  161.924860</td>\n",
        "      <td>         NaN</td>\n",
        "      <td>  -470.482924</td>\n",
        "      <td>         NaN</td>\n",
        "      <td>  -39.542034</td>\n",
        "      <td>   -15.861918</td>\n",
        "      <td>  208.855472</td>\n",
        "    </tr>\n",
        "    <tr>\n",
        "      <th>20 </th>\n",
        "      <td>                        Latvia</td>\n",
        "      <td>  -90.610895</td>\n",
        "      <td>    0.000000</td>\n",
        "      <td>   -5.588279</td>\n",
        "      <td>   -4.378457</td>\n",
        "      <td>         NaN</td>\n",
        "      <td>    0.983797</td>\n",
        "      <td>   -0.801211</td>\n",
        "      <td>    -5.613631</td>\n",
        "      <td>         NaN</td>\n",
        "      <td>   -6.520967</td>\n",
        "      <td>    -2.001990</td>\n",
        "      <td>         NaN</td>\n",
        "    </tr>\n",
        "    <tr>\n",
        "      <th>21 </th>\n",
        "      <td>                     Lithuania</td>\n",
        "      <td>   -6.340533</td>\n",
        "      <td>   -2.286497</td>\n",
        "      <td>   -9.000866</td>\n",
        "      <td>   -5.273762</td>\n",
        "      <td>         NaN</td>\n",
        "      <td>   -2.513753</td>\n",
        "      <td>  -11.535546</td>\n",
        "      <td>   -14.868535</td>\n",
        "      <td>         NaN</td>\n",
        "      <td>         NaN</td>\n",
        "      <td>          NaN</td>\n",
        "      <td>  -15.793311</td>\n",
        "    </tr>\n",
        "    <tr>\n",
        "      <th>22 </th>\n",
        "      <td>                    Luxembourg</td>\n",
        "      <td>  621.570127</td>\n",
        "      <td>  298.368737</td>\n",
        "      <td>  -42.148560</td>\n",
        "      <td> -903.564253</td>\n",
        "      <td> 1883.463949</td>\n",
        "      <td> 4424.768150</td>\n",
        "      <td> 4947.789124</td>\n",
        "      <td> 13947.292561</td>\n",
        "      <td>  152.864844</td>\n",
        "      <td>  110.301463</td>\n",
        "      <td> -4838.809032</td>\n",
        "      <td> 3231.429575</td>\n",
        "    </tr>\n",
        "    <tr>\n",
        "      <th>23 </th>\n",
        "      <td>                   Netherlands</td>\n",
        "      <td>  984.264263</td>\n",
        "      <td> -647.490428</td>\n",
        "      <td> 1267.676589</td>\n",
        "      <td> 3129.016641</td>\n",
        "      <td>  506.933263</td>\n",
        "      <td>  871.130756</td>\n",
        "      <td>-2221.395550</td>\n",
        "      <td>  1194.186099</td>\n",
        "      <td>   53.437369</td>\n",
        "      <td>  -42.039425</td>\n",
        "      <td> 10264.355036</td>\n",
        "      <td> 8998.497421</td>\n",
        "    </tr>\n",
        "    <tr>\n",
        "      <th>24 </th>\n",
        "      <td>                        Poland</td>\n",
        "      <td>  -38.587292</td>\n",
        "      <td>  -22.584779</td>\n",
        "      <td>  -54.783956</td>\n",
        "      <td>         NaN</td>\n",
        "      <td>         NaN</td>\n",
        "      <td>   12.156799</td>\n",
        "      <td> -315.758400</td>\n",
        "      <td>  -241.992991</td>\n",
        "      <td>         NaN</td>\n",
        "      <td>         NaN</td>\n",
        "      <td>          NaN</td>\n",
        "      <td>         NaN</td>\n",
        "    </tr>\n",
        "    <tr>\n",
        "      <th>25 </th>\n",
        "      <td>                      Portugal</td>\n",
        "      <td>  -23.647462</td>\n",
        "      <td>   21.219354</td>\n",
        "      <td>  -12.417583</td>\n",
        "      <td>  -13.252165</td>\n",
        "      <td>         NaN</td>\n",
        "      <td>         NaN</td>\n",
        "      <td>         NaN</td>\n",
        "      <td>          NaN</td>\n",
        "      <td>         NaN</td>\n",
        "      <td>   -6.798455</td>\n",
        "      <td>    -2.155989</td>\n",
        "      <td>   -6.199244</td>\n",
        "    </tr>\n",
        "    <tr>\n",
        "      <th>26 </th>\n",
        "      <td>                       Romania</td>\n",
        "      <td>    8.361038</td>\n",
        "      <td>   -0.734231</td>\n",
        "      <td>   -3.518531</td>\n",
        "      <td>   -2.757655</td>\n",
        "      <td>    0.000000</td>\n",
        "      <td>         NaN</td>\n",
        "      <td>  -11.886216</td>\n",
        "      <td>          NaN</td>\n",
        "      <td>   -1.829152</td>\n",
        "      <td>   -3.746087</td>\n",
        "      <td>          NaN</td>\n",
        "      <td>         NaN</td>\n",
        "    </tr>\n",
        "    <tr>\n",
        "      <th>27 </th>\n",
        "      <td>                      Slovakia</td>\n",
        "      <td>   -6.215934</td>\n",
        "      <td>   -7.468112</td>\n",
        "      <td>  -18.706281</td>\n",
        "      <td>  -15.702317</td>\n",
        "      <td>         NaN</td>\n",
        "      <td>         NaN</td>\n",
        "      <td>   -1.693992</td>\n",
        "      <td>          NaN</td>\n",
        "      <td>         NaN</td>\n",
        "      <td>  -14.013142</td>\n",
        "      <td>    -5.389972</td>\n",
        "      <td>  -12.988892</td>\n",
        "    </tr>\n",
        "    <tr>\n",
        "      <th>28 </th>\n",
        "      <td>                      Slovenia</td>\n",
        "      <td>   -1.628603</td>\n",
        "      <td>   -0.666686</td>\n",
        "      <td>   -3.273178</td>\n",
        "      <td>   -2.477340</td>\n",
        "      <td>    0.000000</td>\n",
        "      <td>   -1.274164</td>\n",
        "      <td>   -1.910126</td>\n",
        "      <td>    -1.820637</td>\n",
        "      <td>   -0.783922</td>\n",
        "      <td>   -0.832464</td>\n",
        "      <td>    -0.923995</td>\n",
        "      <td>   -2.066415</td>\n",
        "    </tr>\n",
        "    <tr>\n",
        "      <th>29 </th>\n",
        "      <td>                         Spain</td>\n",
        "      <td>   31.000571</td>\n",
        "      <td>  106.198968</td>\n",
        "      <td>    4.220904</td>\n",
        "      <td>  114.004605</td>\n",
        "      <td>         NaN</td>\n",
        "      <td>         NaN</td>\n",
        "      <td>         NaN</td>\n",
        "      <td>          NaN</td>\n",
        "      <td>         NaN</td>\n",
        "      <td>  -49.115368</td>\n",
        "      <td>    -2.155989</td>\n",
        "      <td>         NaN</td>\n",
        "    </tr>\n",
        "    <tr>\n",
        "      <th>30 </th>\n",
        "      <td>                United Kingdom</td>\n",
        "      <td>-1890.237678</td>\n",
        "      <td> -302.492482</td>\n",
        "      <td> 4167.659857</td>\n",
        "      <td> -324.583223</td>\n",
        "      <td>-1357.622924</td>\n",
        "      <td> 8422.002968</td>\n",
        "      <td>-1754.535026</td>\n",
        "      <td>   878.609033</td>\n",
        "      <td>-2216.801545</td>\n",
        "      <td> -961.773259</td>\n",
        "      <td>  -635.246722</td>\n",
        "      <td>-3147.444583</td>\n",
        "    </tr>\n",
        "    <tr>\n",
        "      <th>32 </th>\n",
        "      <td>                      Guernsey</td>\n",
        "      <td>    0.000000</td>\n",
        "      <td>    0.000000</td>\n",
        "      <td>         NaN</td>\n",
        "      <td>    0.000000</td>\n",
        "      <td>         NaN</td>\n",
        "      <td>         NaN</td>\n",
        "      <td>    0.000000</td>\n",
        "      <td>          NaN</td>\n",
        "      <td>         NaN</td>\n",
        "      <td> -199.513841</td>\n",
        "      <td>          NaN</td>\n",
        "      <td>         NaN</td>\n",
        "    </tr>\n",
        "    <tr>\n",
        "      <th>33 </th>\n",
        "      <td>                       Iceland</td>\n",
        "      <td>    5.013021</td>\n",
        "      <td>         NaN</td>\n",
        "      <td>    0.000000</td>\n",
        "      <td>         NaN</td>\n",
        "      <td>   65.578522</td>\n",
        "      <td>         NaN</td>\n",
        "      <td>         NaN</td>\n",
        "      <td>          NaN</td>\n",
        "      <td>         NaN</td>\n",
        "      <td>    0.000000</td>\n",
        "      <td>     0.615997</td>\n",
        "      <td>    0.000000</td>\n",
        "    </tr>\n",
        "    <tr>\n",
        "      <th>34 </th>\n",
        "      <td>                   Isle of Man</td>\n",
        "      <td> -384.301440</td>\n",
        "      <td>    0.000000</td>\n",
        "      <td>    0.000000</td>\n",
        "      <td>    0.000000</td>\n",
        "      <td>    0.000000</td>\n",
        "      <td>    0.000000</td>\n",
        "      <td>    0.000000</td>\n",
        "      <td>     0.000000</td>\n",
        "      <td>    0.000000</td>\n",
        "      <td>    0.000000</td>\n",
        "      <td>     0.000000</td>\n",
        "      <td>    0.000000</td>\n",
        "    </tr>\n",
        "    <tr>\n",
        "      <th>35 </th>\n",
        "      <td>                        Jersey</td>\n",
        "      <td>    0.000000</td>\n",
        "      <td>    0.000000</td>\n",
        "      <td>    0.000000</td>\n",
        "      <td>    0.000000</td>\n",
        "      <td>    0.000000</td>\n",
        "      <td>  216.187795</td>\n",
        "      <td>  -21.424017</td>\n",
        "      <td>   964.785848</td>\n",
        "      <td>  241.578715</td>\n",
        "      <td>  139.021466</td>\n",
        "      <td>   602.906889</td>\n",
        "      <td>         NaN</td>\n",
        "    </tr>\n",
        "    <tr>\n",
        "      <th>...</th>\n",
        "      <td>...</td>\n",
        "      <td>...</td>\n",
        "      <td>...</td>\n",
        "      <td>...</td>\n",
        "      <td>...</td>\n",
        "      <td>...</td>\n",
        "      <td>...</td>\n",
        "      <td>...</td>\n",
        "      <td>...</td>\n",
        "      <td>...</td>\n",
        "      <td>...</td>\n",
        "      <td>...</td>\n",
        "      <td>...</td>\n",
        "    </tr>\n",
        "    <tr>\n",
        "      <th>78 </th>\n",
        "      <td>                      Viet Nam</td>\n",
        "      <td>   -1.870347</td>\n",
        "      <td>   -1.003644</td>\n",
        "      <td>   -3.249051</td>\n",
        "      <td>   -2.546453</td>\n",
        "      <td>    0.000000</td>\n",
        "      <td>   -1.084553</td>\n",
        "      <td>   -2.112559</td>\n",
        "      <td>    -1.668917</td>\n",
        "      <td>   -1.175883</td>\n",
        "      <td>   -2.774880</td>\n",
        "      <td>    -2.001990</td>\n",
        "      <td>   -8.265658</td>\n",
        "    </tr>\n",
        "    <tr>\n",
        "      <th>80 </th>\n",
        "      <td>                    Bangladesh</td>\n",
        "      <td>   -1.306890</td>\n",
        "      <td>   -0.949490</td>\n",
        "      <td>   -2.542349</td>\n",
        "      <td>   -1.992573</td>\n",
        "      <td>    0.000000</td>\n",
        "      <td>   -0.848643</td>\n",
        "      <td>   -1.653052</td>\n",
        "      <td>    -1.517197</td>\n",
        "      <td>   -1.306537</td>\n",
        "      <td>   -2.636136</td>\n",
        "      <td>    -0.923995</td>\n",
        "      <td>   -2.656819</td>\n",
        "    </tr>\n",
        "    <tr>\n",
        "      <th>81 </th>\n",
        "      <td>                         India</td>\n",
        "      <td>  -11.854857</td>\n",
        "      <td>    0.000000</td>\n",
        "      <td>   -8.079938</td>\n",
        "      <td>   -6.332657</td>\n",
        "      <td>    0.000000</td>\n",
        "      <td>   -3.510317</td>\n",
        "      <td>   -5.253619</td>\n",
        "      <td>    -5.613631</td>\n",
        "      <td>   -3.135689</td>\n",
        "      <td>   -8.463383</td>\n",
        "      <td>    -2.925985</td>\n",
        "      <td>   -7.084850</td>\n",
        "    </tr>\n",
        "    <tr>\n",
        "      <th>82 </th>\n",
        "      <td>                      Pakistan</td>\n",
        "      <td> -318.733675</td>\n",
        "      <td>    0.000000</td>\n",
        "      <td>    0.000000</td>\n",
        "      <td>   -0.842290</td>\n",
        "      <td>    0.000000</td>\n",
        "      <td>    0.000000</td>\n",
        "      <td>   -0.698766</td>\n",
        "      <td>    -0.606879</td>\n",
        "      <td>    0.000000</td>\n",
        "      <td>   -1.109952</td>\n",
        "      <td>     0.000000</td>\n",
        "      <td>   -1.033207</td>\n",
        "    </tr>\n",
        "    <tr>\n",
        "      <th>83 </th>\n",
        "      <td>                     Sri Lanka</td>\n",
        "      <td>   -4.568936</td>\n",
        "      <td>         NaN</td>\n",
        "      <td>   -0.579499</td>\n",
        "      <td>    0.000000</td>\n",
        "      <td>    0.000000</td>\n",
        "      <td>         NaN</td>\n",
        "      <td>    0.000000</td>\n",
        "      <td>     0.000000</td>\n",
        "      <td>    0.000000</td>\n",
        "      <td>   -0.554976</td>\n",
        "      <td>     0.000000</td>\n",
        "      <td>   -0.590404</td>\n",
        "    </tr>\n",
        "    <tr>\n",
        "      <th>85 </th>\n",
        "      <td>                       Lebanon</td>\n",
        "      <td>    4.913497</td>\n",
        "      <td>         NaN</td>\n",
        "      <td>    0.000000</td>\n",
        "      <td>    0.000000</td>\n",
        "      <td>    0.000000</td>\n",
        "      <td>    0.000000</td>\n",
        "      <td>    0.000000</td>\n",
        "      <td>     0.000000</td>\n",
        "      <td>    0.000000</td>\n",
        "      <td>    0.000000</td>\n",
        "      <td>     0.000000</td>\n",
        "      <td>    0.000000</td>\n",
        "    </tr>\n",
        "    <tr>\n",
        "      <th>86 </th>\n",
        "      <td>                  Saudi Arabia</td>\n",
        "      <td> -274.867897</td>\n",
        "      <td>         NaN</td>\n",
        "      <td>         NaN</td>\n",
        "      <td>         NaN</td>\n",
        "      <td>         NaN</td>\n",
        "      <td>         NaN</td>\n",
        "      <td>    0.000000</td>\n",
        "      <td>     0.000000</td>\n",
        "      <td>    0.000000</td>\n",
        "      <td>   -1.109952</td>\n",
        "      <td>     0.000000</td>\n",
        "      <td>   -1.476010</td>\n",
        "    </tr>\n",
        "    <tr>\n",
        "      <th>87 </th>\n",
        "      <td>                        Turkey</td>\n",
        "      <td>  -11.922917</td>\n",
        "      <td>   -5.074108</td>\n",
        "      <td>  -15.172168</td>\n",
        "      <td>  -11.891211</td>\n",
        "      <td>    0.000000</td>\n",
        "      <td>   -5.163474</td>\n",
        "      <td>   -9.963307</td>\n",
        "      <td>    -8.799745</td>\n",
        "      <td>   -4.834187</td>\n",
        "      <td>  -10.683286</td>\n",
        "      <td>   -11.241942</td>\n",
        "      <td>         NaN</td>\n",
        "    </tr>\n",
        "    <tr>\n",
        "      <th>88 </th>\n",
        "      <td>          United Arab Emirates</td>\n",
        "      <td>   10.938514</td>\n",
        "      <td>         NaN</td>\n",
        "      <td>    0.000000</td>\n",
        "      <td>    0.000000</td>\n",
        "      <td>    0.000000</td>\n",
        "      <td>    0.000000</td>\n",
        "      <td>         NaN</td>\n",
        "      <td>     0.000000</td>\n",
        "      <td>    0.000000</td>\n",
        "      <td>         NaN</td>\n",
        "      <td>          NaN</td>\n",
        "      <td>         NaN</td>\n",
        "    </tr>\n",
        "    <tr>\n",
        "      <th>91 </th>\n",
        "      <td>                     Argentina</td>\n",
        "      <td>   44.136082</td>\n",
        "      <td>    0.515543</td>\n",
        "      <td>   -0.588168</td>\n",
        "      <td>    0.000000</td>\n",
        "      <td>         NaN</td>\n",
        "      <td>         NaN</td>\n",
        "      <td>         NaN</td>\n",
        "      <td>          NaN</td>\n",
        "      <td>         NaN</td>\n",
        "      <td>         NaN</td>\n",
        "      <td>          NaN</td>\n",
        "      <td>         NaN</td>\n",
        "    </tr>\n",
        "    <tr>\n",
        "      <th>92 </th>\n",
        "      <td>                        Brazil</td>\n",
        "      <td>  -21.055852</td>\n",
        "      <td>         NaN</td>\n",
        "      <td>   -8.303229</td>\n",
        "      <td>   -3.909706</td>\n",
        "      <td>         NaN</td>\n",
        "      <td>         NaN</td>\n",
        "      <td>   -4.907032</td>\n",
        "      <td>          NaN</td>\n",
        "      <td>         NaN</td>\n",
        "      <td>         NaN</td>\n",
        "      <td>    -2.617986</td>\n",
        "      <td>   -7.675254</td>\n",
        "    </tr>\n",
        "    <tr>\n",
        "      <th>93 </th>\n",
        "      <td>                         Chile</td>\n",
        "      <td>   -2.388398</td>\n",
        "      <td>         NaN</td>\n",
        "      <td>         NaN</td>\n",
        "      <td>   -1.183376</td>\n",
        "      <td>    0.000000</td>\n",
        "      <td>         NaN</td>\n",
        "      <td>         NaN</td>\n",
        "      <td>          NaN</td>\n",
        "      <td>         NaN</td>\n",
        "      <td>         NaN</td>\n",
        "      <td>          NaN</td>\n",
        "      <td>         NaN</td>\n",
        "    </tr>\n",
        "    <tr>\n",
        "      <th>94 </th>\n",
        "      <td>                      Colombia</td>\n",
        "      <td>   -0.697060</td>\n",
        "      <td>    0.000000</td>\n",
        "      <td>   -0.516095</td>\n",
        "      <td>    0.000000</td>\n",
        "      <td>    0.000000</td>\n",
        "      <td>         NaN</td>\n",
        "      <td>         NaN</td>\n",
        "      <td>          NaN</td>\n",
        "      <td>         NaN</td>\n",
        "      <td>         NaN</td>\n",
        "      <td>          NaN</td>\n",
        "      <td>         NaN</td>\n",
        "    </tr>\n",
        "    <tr>\n",
        "      <th>95 </th>\n",
        "      <td>                          Peru</td>\n",
        "      <td>    1.136111</td>\n",
        "      <td>   -0.581527</td>\n",
        "      <td>   -4.845418</td>\n",
        "      <td>   -3.797608</td>\n",
        "      <td>    0.000000</td>\n",
        "      <td>   -4.328086</td>\n",
        "      <td>   -3.150529</td>\n",
        "      <td>    -0.910318</td>\n",
        "      <td>    0.000000</td>\n",
        "      <td>   -1.387440</td>\n",
        "      <td>          NaN</td>\n",
        "      <td>         NaN</td>\n",
        "    </tr>\n",
        "    <tr>\n",
        "      <th>96 </th>\n",
        "      <td>                       Uruguay</td>\n",
        "      <td>    0.000000</td>\n",
        "      <td>    0.000000</td>\n",
        "      <td>   -0.946663</td>\n",
        "      <td>   -0.743935</td>\n",
        "      <td>    0.000000</td>\n",
        "      <td>    0.000000</td>\n",
        "      <td>         NaN</td>\n",
        "      <td>          NaN</td>\n",
        "      <td>         NaN</td>\n",
        "      <td>         NaN</td>\n",
        "      <td>          NaN</td>\n",
        "      <td>         NaN</td>\n",
        "    </tr>\n",
        "    <tr>\n",
        "      <th>97 </th>\n",
        "      <td> Venezuela, Bolivarian Rep. of</td>\n",
        "      <td>   -2.887280</td>\n",
        "      <td>         NaN</td>\n",
        "      <td>    0.000000</td>\n",
        "      <td>    0.000000</td>\n",
        "      <td>         NaN</td>\n",
        "      <td>         NaN</td>\n",
        "      <td>         NaN</td>\n",
        "      <td>          NaN</td>\n",
        "      <td>         NaN</td>\n",
        "      <td>         NaN</td>\n",
        "      <td>          NaN</td>\n",
        "      <td>         NaN</td>\n",
        "    </tr>\n",
        "    <tr>\n",
        "      <th>99 </th>\n",
        "      <td>                    Costa Rica</td>\n",
        "      <td>   -0.646620</td>\n",
        "      <td>    0.000000</td>\n",
        "      <td>    0.000000</td>\n",
        "      <td>    0.000000</td>\n",
        "      <td>    0.000000</td>\n",
        "      <td>    0.000000</td>\n",
        "      <td>    0.000000</td>\n",
        "      <td>     0.000000</td>\n",
        "      <td>    0.000000</td>\n",
        "      <td>    0.000000</td>\n",
        "      <td>     0.000000</td>\n",
        "      <td>    0.000000</td>\n",
        "    </tr>\n",
        "    <tr>\n",
        "      <th>100</th>\n",
        "      <td>                        Mexico</td>\n",
        "      <td>  -32.737121</td>\n",
        "      <td>         NaN</td>\n",
        "      <td>         NaN</td>\n",
        "      <td>         NaN</td>\n",
        "      <td>  -66.951475</td>\n",
        "      <td>         NaN</td>\n",
        "      <td>         NaN</td>\n",
        "      <td>          NaN</td>\n",
        "      <td>         NaN</td>\n",
        "      <td>         NaN</td>\n",
        "      <td>          NaN</td>\n",
        "      <td>         NaN</td>\n",
        "    </tr>\n",
        "    <tr>\n",
        "      <th>101</th>\n",
        "      <td>                        Panama</td>\n",
        "      <td>    1.217725</td>\n",
        "      <td>         NaN</td>\n",
        "      <td>         NaN</td>\n",
        "      <td>   -0.634599</td>\n",
        "      <td>    0.000000</td>\n",
        "      <td>    0.000000</td>\n",
        "      <td>   -0.526472</td>\n",
        "      <td>     0.000000</td>\n",
        "      <td>    0.000000</td>\n",
        "      <td>   -0.554976</td>\n",
        "      <td>     0.000000</td>\n",
        "      <td>    0.000000</td>\n",
        "    </tr>\n",
        "    <tr>\n",
        "      <th>103</th>\n",
        "      <td>                      Barbados</td>\n",
        "      <td>  -27.512658</td>\n",
        "      <td>         NaN</td>\n",
        "      <td>    0.000000</td>\n",
        "      <td>    0.000000</td>\n",
        "      <td>         NaN</td>\n",
        "      <td>    0.000000</td>\n",
        "      <td>    0.000000</td>\n",
        "      <td>     0.000000</td>\n",
        "      <td>    0.000000</td>\n",
        "      <td>    0.000000</td>\n",
        "      <td>     0.000000</td>\n",
        "      <td>    0.000000</td>\n",
        "    </tr>\n",
        "    <tr>\n",
        "      <th>104</th>\n",
        "      <td>                Cayman Islands</td>\n",
        "      <td>    0.944613</td>\n",
        "      <td>         NaN</td>\n",
        "      <td>         NaN</td>\n",
        "      <td> 1179.746247</td>\n",
        "      <td>         NaN</td>\n",
        "      <td>  189.329150</td>\n",
        "      <td>         NaN</td>\n",
        "      <td>          NaN</td>\n",
        "      <td>         NaN</td>\n",
        "      <td>         NaN</td>\n",
        "      <td>   270.268605</td>\n",
        "      <td>         NaN</td>\n",
        "    </tr>\n",
        "    <tr>\n",
        "      <th>106</th>\n",
        "      <td>                American Samoa</td>\n",
        "      <td>    0.000000</td>\n",
        "      <td>    0.000000</td>\n",
        "      <td>    0.000000</td>\n",
        "      <td>    0.000000</td>\n",
        "      <td>    0.000000</td>\n",
        "      <td>    0.000000</td>\n",
        "      <td>    0.000000</td>\n",
        "      <td>   117.886241</td>\n",
        "      <td>    0.000000</td>\n",
        "      <td>    0.000000</td>\n",
        "      <td>     0.000000</td>\n",
        "      <td>    0.000000</td>\n",
        "    </tr>\n",
        "    <tr>\n",
        "      <th>109</th>\n",
        "      <td>                        Serbia</td>\n",
        "      <td>    0.000000</td>\n",
        "      <td>    0.000000</td>\n",
        "      <td>    0.000000</td>\n",
        "      <td>    0.000000</td>\n",
        "      <td>    0.000000</td>\n",
        "      <td>    0.000000</td>\n",
        "      <td>    0.000000</td>\n",
        "      <td>     0.000000</td>\n",
        "      <td>    0.000000</td>\n",
        "      <td>         NaN</td>\n",
        "      <td>    -0.615997</td>\n",
        "      <td>         NaN</td>\n",
        "    </tr>\n",
        "    <tr>\n",
        "      <th>111</th>\n",
        "      <td>                       Armenia</td>\n",
        "      <td>    0.000000</td>\n",
        "      <td>         NaN</td>\n",
        "      <td>    0.000000</td>\n",
        "      <td>    0.000000</td>\n",
        "      <td>    0.000000</td>\n",
        "      <td>    0.000000</td>\n",
        "      <td>    0.000000</td>\n",
        "      <td>     0.000000</td>\n",
        "      <td>    0.000000</td>\n",
        "      <td>    0.000000</td>\n",
        "      <td>     0.000000</td>\n",
        "      <td>   -0.590404</td>\n",
        "    </tr>\n",
        "    <tr>\n",
        "      <th>112</th>\n",
        "      <td>                    Azerbaijan</td>\n",
        "      <td>    0.000000</td>\n",
        "      <td>    0.000000</td>\n",
        "      <td>    0.000000</td>\n",
        "      <td>    0.000000</td>\n",
        "      <td>    0.000000</td>\n",
        "      <td>    0.000000</td>\n",
        "      <td>    0.000000</td>\n",
        "      <td>    -3.186115</td>\n",
        "      <td>    0.000000</td>\n",
        "      <td>    0.000000</td>\n",
        "      <td>     0.000000</td>\n",
        "      <td>    0.000000</td>\n",
        "    </tr>\n",
        "    <tr>\n",
        "      <th>113</th>\n",
        "      <td>                       Belarus</td>\n",
        "      <td>   -0.509144</td>\n",
        "      <td>    0.000000</td>\n",
        "      <td>   -1.061647</td>\n",
        "      <td>   -0.832071</td>\n",
        "      <td>    0.000000</td>\n",
        "      <td>    0.000000</td>\n",
        "      <td>   -0.690288</td>\n",
        "      <td>    -0.606879</td>\n",
        "      <td>   -0.522615</td>\n",
        "      <td>   -0.693720</td>\n",
        "      <td>     0.000000</td>\n",
        "      <td>   -1.623611</td>\n",
        "    </tr>\n",
        "    <tr>\n",
        "      <th>114</th>\n",
        "      <td>                    Kazakhstan</td>\n",
        "      <td>   -2.710594</td>\n",
        "      <td>    0.000000</td>\n",
        "      <td>   -1.347699</td>\n",
        "      <td>   -1.056268</td>\n",
        "      <td>    0.000000</td>\n",
        "      <td>    0.000000</td>\n",
        "      <td>   -0.876284</td>\n",
        "      <td>    -1.365478</td>\n",
        "      <td>    0.000000</td>\n",
        "      <td>   -0.971208</td>\n",
        "      <td>     0.000000</td>\n",
        "      <td>   -0.590404</td>\n",
        "    </tr>\n",
        "    <tr>\n",
        "      <th>115</th>\n",
        "      <td>            Russian Federation</td>\n",
        "      <td>  -69.513317</td>\n",
        "      <td>  -41.056062</td>\n",
        "      <td>  -95.298530</td>\n",
        "      <td>  -72.193624</td>\n",
        "      <td>         NaN</td>\n",
        "      <td>   37.217538</td>\n",
        "      <td> -212.110961</td>\n",
        "      <td>  -395.381651</td>\n",
        "      <td>         NaN</td>\n",
        "      <td> -423.862854</td>\n",
        "      <td>          NaN</td>\n",
        "      <td> -111.586386</td>\n",
        "    </tr>\n",
        "    <tr>\n",
        "      <th>116</th>\n",
        "      <td>                       Ukraine</td>\n",
        "      <td>   -1.487835</td>\n",
        "      <td>    0.000000</td>\n",
        "      <td>   -0.822428</td>\n",
        "      <td>   -0.644574</td>\n",
        "      <td>    0.000000</td>\n",
        "      <td>    0.000000</td>\n",
        "      <td>   -0.534742</td>\n",
        "      <td>     0.000000</td>\n",
        "      <td>    0.000000</td>\n",
        "      <td>   -0.554976</td>\n",
        "      <td>     0.000000</td>\n",
        "      <td>    0.000000</td>\n",
        "    </tr>\n",
        "    <tr>\n",
        "      <th>117</th>\n",
        "      <td>                       Georgia</td>\n",
        "      <td>    1.936083</td>\n",
        "      <td>    8.486472</td>\n",
        "      <td>    0.000000</td>\n",
        "      <td>    0.000000</td>\n",
        "      <td>    0.000000</td>\n",
        "      <td>    0.000000</td>\n",
        "      <td>    0.000000</td>\n",
        "      <td>     0.000000</td>\n",
        "      <td>    0.000000</td>\n",
        "      <td>    0.000000</td>\n",
        "      <td>     0.000000</td>\n",
        "      <td>    0.000000</td>\n",
        "    </tr>\n",
        "  </tbody>\n",
        "</table>\n",
        "<p>88 rows \u00d7 13 columns</p>\n",
        "</div>"
       ],
       "metadata": {},
       "output_type": "pyout",
       "prompt_number": 44,
       "text": [
        "                           country         2001         2002         2003  \\\n",
        "5                          Austria    15.123970  -193.623710          NaN   \n",
        "6                          Belgium  1814.372404   766.035255 -1306.260057   \n",
        "7                         Bulgaria     0.000000     0.000000    -0.856078   \n",
        "8                          Croatia    -0.657850          NaN    -0.706701   \n",
        "9                           Cyprus   330.289957          NaN          NaN   \n",
        "10                  Czech Republic   -25.764587    -8.497441    18.529389   \n",
        "11                         Denmark  1148.902518   544.356247   603.064962   \n",
        "12                         Estonia   -10.282212    -6.867924   -15.794764   \n",
        "13                         Finland  2001.658034  5931.229799 -3429.776597   \n",
        "14                          France   962.145008    77.685620   -84.377861   \n",
        "15                         Germany  2035.704079  1874.316985  1822.526570   \n",
        "16                          Greece    -9.848002          NaN    -2.287227   \n",
        "17                         Hungary    -2.983416    -2.005798   -15.967241   \n",
        "18                         Ireland  -384.301440   117.627060          NaN   \n",
        "19                           Italy    80.732784          NaN          NaN   \n",
        "20                          Latvia   -90.610895     0.000000    -5.588279   \n",
        "21                       Lithuania    -6.340533    -2.286497    -9.000866   \n",
        "22                      Luxembourg   621.570127   298.368737   -42.148560   \n",
        "23                     Netherlands   984.264263  -647.490428  1267.676589   \n",
        "24                          Poland   -38.587292   -22.584779   -54.783956   \n",
        "25                        Portugal   -23.647462    21.219354   -12.417583   \n",
        "26                         Romania     8.361038    -0.734231    -3.518531   \n",
        "27                        Slovakia    -6.215934    -7.468112   -18.706281   \n",
        "28                        Slovenia    -1.628603    -0.666686    -3.273178   \n",
        "29                           Spain    31.000571   106.198968     4.220904   \n",
        "30                  United Kingdom -1890.237678  -302.492482  4167.659857   \n",
        "32                        Guernsey     0.000000     0.000000          NaN   \n",
        "33                         Iceland     5.013021          NaN     0.000000   \n",
        "34                     Isle of Man  -384.301440     0.000000     0.000000   \n",
        "35                          Jersey     0.000000     0.000000     0.000000   \n",
        "..                             ...          ...          ...          ...   \n",
        "78                        Viet Nam    -1.870347    -1.003644    -3.249051   \n",
        "80                      Bangladesh    -1.306890    -0.949490    -2.542349   \n",
        "81                           India   -11.854857     0.000000    -8.079938   \n",
        "82                        Pakistan  -318.733675     0.000000     0.000000   \n",
        "83                       Sri Lanka    -4.568936          NaN    -0.579499   \n",
        "85                         Lebanon     4.913497          NaN     0.000000   \n",
        "86                    Saudi Arabia  -274.867897          NaN          NaN   \n",
        "87                          Turkey   -11.922917    -5.074108   -15.172168   \n",
        "88            United Arab Emirates    10.938514          NaN     0.000000   \n",
        "91                       Argentina    44.136082     0.515543    -0.588168   \n",
        "92                          Brazil   -21.055852          NaN    -8.303229   \n",
        "93                           Chile    -2.388398          NaN          NaN   \n",
        "94                        Colombia    -0.697060     0.000000    -0.516095   \n",
        "95                            Peru     1.136111    -0.581527    -4.845418   \n",
        "96                         Uruguay     0.000000     0.000000    -0.946663   \n",
        "97   Venezuela, Bolivarian Rep. of    -2.887280          NaN     0.000000   \n",
        "99                      Costa Rica    -0.646620     0.000000     0.000000   \n",
        "100                         Mexico   -32.737121          NaN          NaN   \n",
        "101                         Panama     1.217725          NaN          NaN   \n",
        "103                       Barbados   -27.512658          NaN     0.000000   \n",
        "104                 Cayman Islands     0.944613          NaN          NaN   \n",
        "106                 American Samoa     0.000000     0.000000     0.000000   \n",
        "109                         Serbia     0.000000     0.000000     0.000000   \n",
        "111                        Armenia     0.000000          NaN     0.000000   \n",
        "112                     Azerbaijan     0.000000     0.000000     0.000000   \n",
        "113                        Belarus    -0.509144     0.000000    -1.061647   \n",
        "114                     Kazakhstan    -2.710594     0.000000    -1.347699   \n",
        "115             Russian Federation   -69.513317   -41.056062   -95.298530   \n",
        "116                        Ukraine    -1.487835     0.000000    -0.822428   \n",
        "117                        Georgia     1.936083     8.486472     0.000000   \n",
        "\n",
        "            2004         2005         2006         2007          2008  \\\n",
        "5     -45.061377          NaN   268.690950     1.584652    167.953756   \n",
        "6    -826.106528  4426.852975  2645.146518  2326.512931   5642.305533   \n",
        "7      -0.670945     0.000000     0.000000    -0.556625     -0.606879   \n",
        "8      -0.553880     0.000000     0.000000     0.000000      0.000000   \n",
        "9            NaN          NaN    47.058639          NaN           NaN   \n",
        "10    -18.618526          NaN   -14.372243          NaN    -28.523312   \n",
        "11   -177.870481  1170.727637   439.849639   194.521710   6484.805268   \n",
        "12    -12.390606     0.000000    -6.532836    -9.882952           NaN   \n",
        "13  -3001.480346 -2525.468608   -85.204567  2761.938178     46.426241   \n",
        "14    672.746741   976.262804   569.759374  1435.777235   1822.305837   \n",
        "15           NaN  -650.594185  -289.505709  3726.404745   8874.846384   \n",
        "16     -2.753178          NaN          NaN          NaN           NaN   \n",
        "17    -13.841315          NaN          NaN          NaN           NaN   \n",
        "18           NaN          NaN          NaN  1739.425694     14.413376   \n",
        "19    -28.230794  -176.113910   161.924860          NaN   -470.482924   \n",
        "20     -4.378457          NaN     0.983797    -0.801211     -5.613631   \n",
        "21     -5.273762          NaN    -2.513753   -11.535546    -14.868535   \n",
        "22   -903.564253  1883.463949  4424.768150  4947.789124  13947.292561   \n",
        "23   3129.016641   506.933263   871.130756 -2221.395550   1194.186099   \n",
        "24           NaN          NaN    12.156799  -315.758400   -241.992991   \n",
        "25    -13.252165          NaN          NaN          NaN           NaN   \n",
        "26     -2.757655     0.000000          NaN   -11.886216           NaN   \n",
        "27    -15.702317          NaN          NaN    -1.693992           NaN   \n",
        "28     -2.477340     0.000000    -1.274164    -1.910126     -1.820637   \n",
        "29    114.004605          NaN          NaN          NaN           NaN   \n",
        "30   -324.583223 -1357.622924  8422.002968 -1754.535026    878.609033   \n",
        "32      0.000000          NaN          NaN     0.000000           NaN   \n",
        "33           NaN    65.578522          NaN          NaN           NaN   \n",
        "34      0.000000     0.000000     0.000000     0.000000      0.000000   \n",
        "35      0.000000     0.000000   216.187795   -21.424017    964.785848   \n",
        "..           ...          ...          ...          ...           ...   \n",
        "78     -2.546453     0.000000    -1.084553    -2.112559     -1.668917   \n",
        "80     -1.992573     0.000000    -0.848643    -1.653052     -1.517197   \n",
        "81     -6.332657     0.000000    -3.510317    -5.253619     -5.613631   \n",
        "82     -0.842290     0.000000     0.000000    -0.698766     -0.606879   \n",
        "83      0.000000     0.000000          NaN     0.000000      0.000000   \n",
        "85      0.000000     0.000000     0.000000     0.000000      0.000000   \n",
        "86           NaN          NaN          NaN     0.000000      0.000000   \n",
        "87    -11.891211     0.000000    -5.163474    -9.963307     -8.799745   \n",
        "88      0.000000     0.000000     0.000000          NaN      0.000000   \n",
        "91      0.000000          NaN          NaN          NaN           NaN   \n",
        "92     -3.909706          NaN          NaN    -4.907032           NaN   \n",
        "93     -1.183376     0.000000          NaN          NaN           NaN   \n",
        "94      0.000000     0.000000          NaN          NaN           NaN   \n",
        "95     -3.797608     0.000000    -4.328086    -3.150529     -0.910318   \n",
        "96     -0.743935     0.000000     0.000000          NaN           NaN   \n",
        "97      0.000000          NaN          NaN          NaN           NaN   \n",
        "99      0.000000     0.000000     0.000000     0.000000      0.000000   \n",
        "100          NaN   -66.951475          NaN          NaN           NaN   \n",
        "101    -0.634599     0.000000     0.000000    -0.526472      0.000000   \n",
        "103     0.000000          NaN     0.000000     0.000000      0.000000   \n",
        "104  1179.746247          NaN   189.329150          NaN           NaN   \n",
        "106     0.000000     0.000000     0.000000     0.000000    117.886241   \n",
        "109     0.000000     0.000000     0.000000     0.000000      0.000000   \n",
        "111     0.000000     0.000000     0.000000     0.000000      0.000000   \n",
        "112     0.000000     0.000000     0.000000     0.000000     -3.186115   \n",
        "113    -0.832071     0.000000     0.000000    -0.690288     -0.606879   \n",
        "114    -1.056268     0.000000     0.000000    -0.876284     -1.365478   \n",
        "115   -72.193624          NaN    37.217538  -212.110961   -395.381651   \n",
        "116    -0.644574     0.000000     0.000000    -0.534742      0.000000   \n",
        "117     0.000000     0.000000     0.000000     0.000000      0.000000   \n",
        "\n",
        "            2009         2010          2011         2012  \n",
        "5            NaN          NaN     -2.771986    74.981328  \n",
        "6    3397.780455  3614.419384  -2672.810208 -8065.068443  \n",
        "7       0.000000    -1.109952      0.000000    -1.033207  \n",
        "8       0.000000    -1.109952      0.000000          NaN  \n",
        "9            NaN   -92.126002           NaN          NaN  \n",
        "10           NaN    -1.109952     -7.083963    11.808083  \n",
        "11           NaN   161.359247   1302.063281   310.552589  \n",
        "12           NaN   -15.816814      7.699960   -18.745332  \n",
        "13   2621.305440  -533.331853   2975.726645  2189.661433  \n",
        "14    642.816267 -4602.276511   -811.575812 -1416.969987  \n",
        "15   -860.224045 -1098.713566     65.757661 -2414.162615  \n",
        "16           NaN    -2.774880      0.000000          NaN  \n",
        "17           NaN   -10.405798     -3.387983   -12.250886  \n",
        "18   3070.100943  3170.854885    688.684446   769.149021  \n",
        "19           NaN   -39.542034    -15.861918   208.855472  \n",
        "20           NaN    -6.520967     -2.001990          NaN  \n",
        "21           NaN          NaN           NaN   -15.793311  \n",
        "22    152.864844   110.301463  -4838.809032  3231.429575  \n",
        "23     53.437369   -42.039425  10264.355036  8998.497421  \n",
        "24           NaN          NaN           NaN          NaN  \n",
        "25           NaN    -6.798455     -2.155989    -6.199244  \n",
        "26     -1.829152    -3.746087           NaN          NaN  \n",
        "27           NaN   -14.013142     -5.389972   -12.988892  \n",
        "28     -0.783922    -0.832464     -0.923995    -2.066415  \n",
        "29           NaN   -49.115368     -2.155989          NaN  \n",
        "30  -2216.801545  -961.773259   -635.246722 -3147.444583  \n",
        "32           NaN  -199.513841           NaN          NaN  \n",
        "33           NaN     0.000000      0.615997     0.000000  \n",
        "34      0.000000     0.000000      0.000000     0.000000  \n",
        "35    241.578715   139.021466    602.906889          NaN  \n",
        "..           ...          ...           ...          ...  \n",
        "78     -1.175883    -2.774880     -2.001990    -8.265658  \n",
        "80     -1.306537    -2.636136     -0.923995    -2.656819  \n",
        "81     -3.135689    -8.463383     -2.925985    -7.084850  \n",
        "82      0.000000    -1.109952      0.000000    -1.033207  \n",
        "83      0.000000    -0.554976      0.000000    -0.590404  \n",
        "85      0.000000     0.000000      0.000000     0.000000  \n",
        "86      0.000000    -1.109952      0.000000    -1.476010  \n",
        "87     -4.834187   -10.683286    -11.241942          NaN  \n",
        "88      0.000000          NaN           NaN          NaN  \n",
        "91           NaN          NaN           NaN          NaN  \n",
        "92           NaN          NaN     -2.617986    -7.675254  \n",
        "93           NaN          NaN           NaN          NaN  \n",
        "94           NaN          NaN           NaN          NaN  \n",
        "95      0.000000    -1.387440           NaN          NaN  \n",
        "96           NaN          NaN           NaN          NaN  \n",
        "97           NaN          NaN           NaN          NaN  \n",
        "99      0.000000     0.000000      0.000000     0.000000  \n",
        "100          NaN          NaN           NaN          NaN  \n",
        "101     0.000000    -0.554976      0.000000     0.000000  \n",
        "103     0.000000     0.000000      0.000000     0.000000  \n",
        "104          NaN          NaN    270.268605          NaN  \n",
        "106     0.000000     0.000000      0.000000     0.000000  \n",
        "109     0.000000          NaN     -0.615997          NaN  \n",
        "111     0.000000     0.000000      0.000000    -0.590404  \n",
        "112     0.000000     0.000000      0.000000     0.000000  \n",
        "113    -0.522615    -0.693720      0.000000    -1.623611  \n",
        "114     0.000000    -0.971208      0.000000    -0.590404  \n",
        "115          NaN  -423.862854           NaN  -111.586386  \n",
        "116     0.000000    -0.554976      0.000000     0.000000  \n",
        "117     0.000000     0.000000      0.000000     0.000000  \n",
        "\n",
        "[88 rows x 13 columns]"
       ]
      }
     ],
     "prompt_number": 44
    },
    {
     "cell_type": "code",
     "collapsed": false,
     "input": [
      "outflow_dir = '/home/anh/Dropbox/fdi_network/Data/UNCTAD_outflow/'\n",
      "inflow_dir = '/home/anh/Dropbox/fdi_network/Data/UNCTAD_inflow/'\n",
      "\n",
      "for dir in [outflow_dir, inflow_dir]:\n",
      "    if not os.path.exists(dir):\n",
      "        os.makedirs(dir)"
     ],
     "language": "python",
     "metadata": {},
     "outputs": [],
     "prompt_number": 45
    },
    {
     "cell_type": "code",
     "collapsed": false,
     "input": [
      "old_dir = '/home/anh/Dropbox/fdi_network/Data/UNCTAD/'\n",
      "for filename in os.listdir(old_dir):\n",
      "    if filename.endswith('xls'):\n",
      "        print \"working on \" + old_dir + filename\n",
      "        \n",
      "        new_filename = '/home/anh/Dropbox/fdi_network/Data/UNCTAD_inflow/' + filename.split(\".\")[0] + \".csv\"\n",
      "        read_fdi_excel(old_dir + filename, sheetname=0).to_csv(new_filename, na_rep='NA', encoding='utf-8', index=False)\n",
      "        \n",
      "        new_filename = '/home/anh/Dropbox/fdi_network/Data/UNCTAD_outflow/' + filename.split(\".\")[0] + \".csv\"\n",
      "        read_fdi_excel(old_dir + filename, sheetname=1).to_csv(new_filename, na_rep='NA', encoding='utf-8', index=False)"
     ],
     "language": "python",
     "metadata": {},
     "outputs": [
      {
       "output_type": "stream",
       "stream": "stdout",
       "text": [
        "working on /home/anh/Dropbox/fdi_network/Data/UNCTAD/SVN_fdi.xls\n",
        "working on /home/anh/Dropbox/fdi_network/Data/UNCTAD/KWT_fdi.xls"
       ]
      },
      {
       "output_type": "stream",
       "stream": "stdout",
       "text": [
        "\n",
        "working on /home/anh/Dropbox/fdi_network/Data/UNCTAD/SWE_fdi.xls"
       ]
      },
      {
       "output_type": "stream",
       "stream": "stdout",
       "text": [
        "\n",
        "working on /home/anh/Dropbox/fdi_network/Data/UNCTAD/COD_fdi.xls"
       ]
      },
      {
       "output_type": "stream",
       "stream": "stdout",
       "text": [
        "\n",
        "working on /home/anh/Dropbox/fdi_network/Data/UNCTAD/BHR_fdi.xls\n",
        "working on /home/anh/Dropbox/fdi_network/Data/UNCTAD/HGK_fdi.xls"
       ]
      },
      {
       "output_type": "stream",
       "stream": "stdout",
       "text": [
        "\n",
        "working on /home/anh/Dropbox/fdi_network/Data/UNCTAD/KEN_fdi.xls"
       ]
      },
      {
       "output_type": "stream",
       "stream": "stdout",
       "text": [
        "\n",
        "working on /home/anh/Dropbox/fdi_network/Data/UNCTAD/FRA_fdi.xls"
       ]
      },
      {
       "output_type": "stream",
       "stream": "stdout",
       "text": [
        "\n",
        "working on /home/anh/Dropbox/fdi_network/Data/UNCTAD/MDV_fdi.xls"
       ]
      },
      {
       "output_type": "stream",
       "stream": "stdout",
       "text": [
        "\n",
        "working on /home/anh/Dropbox/fdi_network/Data/UNCTAD/KOR_fdi.xls"
       ]
      },
      {
       "output_type": "stream",
       "stream": "stdout",
       "text": [
        "\n",
        "working on /home/anh/Dropbox/fdi_network/Data/UNCTAD/ROU_fdi.xls"
       ]
      },
      {
       "output_type": "stream",
       "stream": "stdout",
       "text": [
        "\n",
        "working on /home/anh/Dropbox/fdi_network/Data/UNCTAD/FSM_fdi.xls"
       ]
      },
      {
       "output_type": "stream",
       "stream": "stdout",
       "text": [
        "\n",
        "working on /home/anh/Dropbox/fdi_network/Data/UNCTAD/HTI_fdi.xls\n",
        "working on /home/anh/Dropbox/fdi_network/Data/UNCTAD/MHL_fdi.xls"
       ]
      },
      {
       "output_type": "stream",
       "stream": "stdout",
       "text": [
        "\n",
        "working on /home/anh/Dropbox/fdi_network/Data/UNCTAD/SDN_fdi.xls"
       ]
      },
      {
       "output_type": "stream",
       "stream": "stdout",
       "text": [
        "\n",
        "working on /home/anh/Dropbox/fdi_network/Data/UNCTAD/PRT_fdi.xls"
       ]
      },
      {
       "output_type": "stream",
       "stream": "stdout",
       "text": [
        "\n",
        "working on /home/anh/Dropbox/fdi_network/Data/UNCTAD/THA_fdi.xls"
       ]
      },
      {
       "output_type": "stream",
       "stream": "stdout",
       "text": [
        "\n",
        "working on /home/anh/Dropbox/fdi_network/Data/UNCTAD/MNG_fdi.xls"
       ]
      },
      {
       "output_type": "stream",
       "stream": "stdout",
       "text": [
        "\n",
        "working on /home/anh/Dropbox/fdi_network/Data/UNCTAD/BLZ_fdi.xls"
       ]
      },
      {
       "output_type": "stream",
       "stream": "stdout",
       "text": [
        "\n",
        "working on /home/anh/Dropbox/fdi_network/Data/UNCTAD/ZWE_fdi.xls"
       ]
      },
      {
       "output_type": "stream",
       "stream": "stdout",
       "text": [
        "\n",
        "working on /home/anh/Dropbox/fdi_network/Data/UNCTAD/HND_fdi.xls\n",
        "working on /home/anh/Dropbox/fdi_network/Data/UNCTAD/MLI_fdi.xls"
       ]
      },
      {
       "output_type": "stream",
       "stream": "stdout",
       "text": [
        "\n",
        "working on /home/anh/Dropbox/fdi_network/Data/UNCTAD/SRB_fdi.xls"
       ]
      },
      {
       "output_type": "stream",
       "stream": "stdout",
       "text": [
        "\n",
        "working on /home/anh/Dropbox/fdi_network/Data/UNCTAD/CHL_fdi.xls"
       ]
      },
      {
       "output_type": "stream",
       "stream": "stdout",
       "text": [
        "\n",
        "working on /home/anh/Dropbox/fdi_network/Data/UNCTAD/IND_fdi.xls"
       ]
      },
      {
       "output_type": "stream",
       "stream": "stdout",
       "text": [
        "\n",
        "working on /home/anh/Dropbox/fdi_network/Data/UNCTAD/BIOT_fdi.xls"
       ]
      },
      {
       "output_type": "stream",
       "stream": "stdout",
       "text": [
        "\n",
        "working on /home/anh/Dropbox/fdi_network/Data/UNCTAD/JOR_fdi.xls\n",
        "working on /home/anh/Dropbox/fdi_network/Data/UNCTAD/VCT_fdi.xls"
       ]
      },
      {
       "output_type": "stream",
       "stream": "stdout",
       "text": [
        "\n",
        "working on /home/anh/Dropbox/fdi_network/Data/UNCTAD/GBR_fdi.xls"
       ]
      },
      {
       "output_type": "stream",
       "stream": "stdout",
       "text": [
        "\n",
        "working on /home/anh/Dropbox/fdi_network/Data/UNCTAD/FIN_fdi.xls"
       ]
      },
      {
       "output_type": "stream",
       "stream": "stdout",
       "text": [
        "\n",
        "working on /home/anh/Dropbox/fdi_network/Data/UNCTAD/GNQ_fdi.xls"
       ]
      },
      {
       "output_type": "stream",
       "stream": "stdout",
       "text": [
        "\n",
        "working on /home/anh/Dropbox/fdi_network/Data/UNCTAD/CAN_fdi.xls"
       ]
      },
      {
       "output_type": "stream",
       "stream": "stdout",
       "text": [
        "\n",
        "working on /home/anh/Dropbox/fdi_network/Data/UNCTAD/PAN_fdi.xls"
       ]
      },
      {
       "output_type": "stream",
       "stream": "stdout",
       "text": [
        "\n",
        "working on /home/anh/Dropbox/fdi_network/Data/UNCTAD/LCA_fdi.xls"
       ]
      },
      {
       "output_type": "stream",
       "stream": "stdout",
       "text": [
        "\n",
        "working on /home/anh/Dropbox/fdi_network/Data/UNCTAD/VEN_fdi.xls"
       ]
      },
      {
       "output_type": "stream",
       "stream": "stdout",
       "text": [
        "\n",
        "working on /home/anh/Dropbox/fdi_network/Data/UNCTAD/WSM_fdi.xls"
       ]
      },
      {
       "output_type": "stream",
       "stream": "stdout",
       "text": [
        "\n",
        "working on /home/anh/Dropbox/fdi_network/Data/UNCTAD/CPV_fdi.xls"
       ]
      },
      {
       "output_type": "stream",
       "stream": "stdout",
       "text": [
        "\n",
        "working on /home/anh/Dropbox/fdi_network/Data/UNCTAD/SAU_fdi.xls"
       ]
      },
      {
       "output_type": "stream",
       "stream": "stdout",
       "text": [
        "\n",
        "working on /home/anh/Dropbox/fdi_network/Data/UNCTAD/MNP_fdi.xls"
       ]
      },
      {
       "output_type": "stream",
       "stream": "stdout",
       "text": [
        "\n",
        "working on /home/anh/Dropbox/fdi_network/Data/UNCTAD/GIN_fdi.xls\n",
        "working on /home/anh/Dropbox/fdi_network/Data/UNCTAD/GHA_fdi.xls"
       ]
      },
      {
       "output_type": "stream",
       "stream": "stdout",
       "text": [
        "\n",
        "working on /home/anh/Dropbox/fdi_network/Data/UNCTAD/GAB_fdi.xls"
       ]
      },
      {
       "output_type": "stream",
       "stream": "stdout",
       "text": [
        "\n",
        "working on /home/anh/Dropbox/fdi_network/Data/UNCTAD/ISR_fdi.xls\n",
        "working on /home/anh/Dropbox/fdi_network/Data/UNCTAD/COK_fdi.xls"
       ]
      },
      {
       "output_type": "stream",
       "stream": "stdout",
       "text": [
        "\n",
        "working on /home/anh/Dropbox/fdi_network/Data/UNCTAD/NPL_fdi.xls"
       ]
      },
      {
       "output_type": "stream",
       "stream": "stdout",
       "text": [
        "\n",
        "working on /home/anh/Dropbox/fdi_network/Data/UNCTAD/GRC_fdi.xls"
       ]
      },
      {
       "output_type": "stream",
       "stream": "stdout",
       "text": [
        "\n",
        "working on /home/anh/Dropbox/fdi_network/Data/UNCTAD/BRB_fdi.xls"
       ]
      },
      {
       "output_type": "stream",
       "stream": "stdout",
       "text": [
        "\n",
        "working on /home/anh/Dropbox/fdi_network/Data/UNCTAD/LKA_fdi.xls"
       ]
      },
      {
       "output_type": "stream",
       "stream": "stdout",
       "text": [
        "\n",
        "working on /home/anh/Dropbox/fdi_network/Data/UNCTAD/AIA_fdi.xls\n",
        "working on /home/anh/Dropbox/fdi_network/Data/UNCTAD/SLB_fdi.xls"
       ]
      },
      {
       "output_type": "stream",
       "stream": "stdout",
       "text": [
        "\n",
        "working on /home/anh/Dropbox/fdi_network/Data/UNCTAD/PNG_fdi.xls\n",
        "working on /home/anh/Dropbox/fdi_network/Data/UNCTAD/CYM_fdi.xls"
       ]
      },
      {
       "output_type": "stream",
       "stream": "stdout",
       "text": [
        "\n",
        "working on /home/anh/Dropbox/fdi_network/Data/UNCTAD/CMR_fdi.xls"
       ]
      },
      {
       "output_type": "stream",
       "stream": "stdout",
       "text": [
        "\n",
        "working on /home/anh/Dropbox/fdi_network/Data/UNCTAD/NOR_fdi.xls\n",
        "working on /home/anh/Dropbox/fdi_network/Data/UNCTAD/CHN_fdi.xls"
       ]
      },
      {
       "output_type": "stream",
       "stream": "stdout",
       "text": [
        "\n",
        "working on /home/anh/Dropbox/fdi_network/Data/UNCTAD/KHM_fdi.xls"
       ]
      },
      {
       "output_type": "stream",
       "stream": "stdout",
       "text": [
        "\n",
        "working on /home/anh/Dropbox/fdi_network/Data/UNCTAD/NCL_fdi.xls"
       ]
      },
      {
       "output_type": "stream",
       "stream": "stdout",
       "text": [
        "\n",
        "working on /home/anh/Dropbox/fdi_network/Data/UNCTAD/PER_fdi.xls"
       ]
      },
      {
       "output_type": "stream",
       "stream": "stdout",
       "text": [
        "\n",
        "working on /home/anh/Dropbox/fdi_network/Data/UNCTAD/DNK_fdi.xls"
       ]
      },
      {
       "output_type": "stream",
       "stream": "stdout",
       "text": [
        "\n",
        "working on /home/anh/Dropbox/fdi_network/Data/UNCTAD/IRN_fdi.xls"
       ]
      },
      {
       "output_type": "stream",
       "stream": "stdout",
       "text": [
        "\n",
        "working on /home/anh/Dropbox/fdi_network/Data/UNCTAD/SVK_fdi.xls"
       ]
      },
      {
       "output_type": "stream",
       "stream": "stdout",
       "text": [
        "\n",
        "working on /home/anh/Dropbox/fdi_network/Data/UNCTAD/COL_fdi.xls"
       ]
      },
      {
       "output_type": "stream",
       "stream": "stdout",
       "text": [
        "\n",
        "working on /home/anh/Dropbox/fdi_network/Data/UNCTAD/SLE_fdi.xls"
       ]
      },
      {
       "output_type": "stream",
       "stream": "stdout",
       "text": [
        "\n",
        "working on /home/anh/Dropbox/fdi_network/Data/UNCTAD/IRQ_fdi.xls"
       ]
      },
      {
       "output_type": "stream",
       "stream": "stdout",
       "text": [
        "\n",
        "working on /home/anh/Dropbox/fdi_network/Data/UNCTAD/BRN_fdi.xls"
       ]
      },
      {
       "output_type": "stream",
       "stream": "stdout",
       "text": [
        "\n",
        "working on /home/anh/Dropbox/fdi_network/Data/UNCTAD/TCD_fdi.xls"
       ]
      },
      {
       "output_type": "stream",
       "stream": "stdout",
       "text": [
        "\n",
        "working on /home/anh/Dropbox/fdi_network/Data/UNCTAD/PYF_fdi.xls\n",
        "working on /home/anh/Dropbox/fdi_network/Data/UNCTAD/TWN_fdi.xls"
       ]
      },
      {
       "output_type": "stream",
       "stream": "stdout",
       "text": [
        "\n",
        "working on /home/anh/Dropbox/fdi_network/Data/UNCTAD/MRT_fdi.xls"
       ]
      },
      {
       "output_type": "stream",
       "stream": "stdout",
       "text": [
        "\n",
        "working on /home/anh/Dropbox/fdi_network/Data/UNCTAD/JAM_fdi.xls\n",
        "working on /home/anh/Dropbox/fdi_network/Data/UNCTAD/ISL_fdi.xls"
       ]
      },
      {
       "output_type": "stream",
       "stream": "stdout",
       "text": [
        "\n",
        "working on /home/anh/Dropbox/fdi_network/Data/UNCTAD/JPN_fdi.xls"
       ]
      },
      {
       "output_type": "stream",
       "stream": "stdout",
       "text": [
        "\n",
        "working on /home/anh/Dropbox/fdi_network/Data/UNCTAD/LVA_fdi.xls"
       ]
      },
      {
       "output_type": "stream",
       "stream": "stdout",
       "text": [
        "\n",
        "working on /home/anh/Dropbox/fdi_network/Data/UNCTAD/SWZ_fdi.xls"
       ]
      },
      {
       "output_type": "stream",
       "stream": "stdout",
       "text": [
        "\n",
        "working on /home/anh/Dropbox/fdi_network/Data/UNCTAD/URY_fdi.xls"
       ]
      },
      {
       "output_type": "stream",
       "stream": "stdout",
       "text": [
        "\n",
        "working on /home/anh/Dropbox/fdi_network/Data/UNCTAD/SLV_fdi.xls"
       ]
      },
      {
       "output_type": "stream",
       "stream": "stdout",
       "text": [
        "\n",
        "working on /home/anh/Dropbox/fdi_network/Data/UNCTAD/TGO_fdi.xls"
       ]
      },
      {
       "output_type": "stream",
       "stream": "stdout",
       "text": [
        "\n",
        "working on /home/anh/Dropbox/fdi_network/Data/UNCTAD/TUV_fdi.xls"
       ]
      },
      {
       "output_type": "stream",
       "stream": "stdout",
       "text": [
        "\n",
        "working on /home/anh/Dropbox/fdi_network/Data/UNCTAD/TON_fdi.xls\n",
        "working on /home/anh/Dropbox/fdi_network/Data/UNCTAD/HUN_fdi.xls"
       ]
      },
      {
       "output_type": "stream",
       "stream": "stdout",
       "text": [
        "\n",
        "working on /home/anh/Dropbox/fdi_network/Data/UNCTAD/COM_fdi.xls"
       ]
      },
      {
       "output_type": "stream",
       "stream": "stdout",
       "text": [
        "\n",
        "working on /home/anh/Dropbox/fdi_network/Data/UNCTAD/BLR_fdi.xls\n",
        "working on /home/anh/Dropbox/fdi_network/Data/UNCTAD/NRU_fdi.xls"
       ]
      },
      {
       "output_type": "stream",
       "stream": "stdout",
       "text": [
        "\n",
        "working on /home/anh/Dropbox/fdi_network/Data/UNCTAD/RUS_fdi.xls\n",
        "working on /home/anh/Dropbox/fdi_network/Data/UNCTAD/ABW_fdi.xls"
       ]
      },
      {
       "output_type": "stream",
       "stream": "stdout",
       "text": [
        "\n",
        "working on /home/anh/Dropbox/fdi_network/Data/UNCTAD/AGO_fdi.xls"
       ]
      },
      {
       "output_type": "stream",
       "stream": "stdout",
       "text": [
        "\n",
        "working on /home/anh/Dropbox/fdi_network/Data/UNCTAD/OMN_fdi.xls"
       ]
      },
      {
       "output_type": "stream",
       "stream": "stdout",
       "text": [
        "\n",
        "working on /home/anh/Dropbox/fdi_network/Data/UNCTAD/MUS_fdi.xls"
       ]
      },
      {
       "output_type": "stream",
       "stream": "stdout",
       "text": [
        "\n",
        "working on /home/anh/Dropbox/fdi_network/Data/UNCTAD/PRK_fdi.xls"
       ]
      },
      {
       "output_type": "stream",
       "stream": "stdout",
       "text": [
        "\n",
        "working on /home/anh/Dropbox/fdi_network/Data/UNCTAD/BEN_fdi.xls"
       ]
      },
      {
       "output_type": "stream",
       "stream": "stdout",
       "text": [
        "\n",
        "working on /home/anh/Dropbox/fdi_network/Data/UNCTAD/CRI_fdi.xls"
       ]
      },
      {
       "output_type": "stream",
       "stream": "stdout",
       "text": [
        "\n",
        "working on /home/anh/Dropbox/fdi_network/Data/UNCTAD/KGZ_fdi.xls"
       ]
      },
      {
       "output_type": "stream",
       "stream": "stdout",
       "text": [
        "\n",
        "working on /home/anh/Dropbox/fdi_network/Data/UNCTAD/BTN_fdi.xls"
       ]
      },
      {
       "output_type": "stream",
       "stream": "stdout",
       "text": [
        "\n",
        "working on /home/anh/Dropbox/fdi_network/Data/UNCTAD/PHL_fdi.xls"
       ]
      },
      {
       "output_type": "stream",
       "stream": "stdout",
       "text": [
        "\n",
        "working on /home/anh/Dropbox/fdi_network/Data/UNCTAD/IDN_fdi.xls"
       ]
      },
      {
       "output_type": "stream",
       "stream": "stdout",
       "text": [
        "\n",
        "working on /home/anh/Dropbox/fdi_network/Data/UNCTAD/PRY_fdi.xls"
       ]
      },
      {
       "output_type": "stream",
       "stream": "stdout",
       "text": [
        "\n",
        "working on /home/anh/Dropbox/fdi_network/Data/UNCTAD/TLS_fdi.xls"
       ]
      },
      {
       "output_type": "stream",
       "stream": "stdout",
       "text": [
        "\n",
        "working on /home/anh/Dropbox/fdi_network/Data/UNCTAD/QAT_fdi.xls\n",
        "working on /home/anh/Dropbox/fdi_network/Data/UNCTAD/SHN_fdi.xls"
       ]
      },
      {
       "output_type": "stream",
       "stream": "stdout",
       "text": [
        "\n",
        "working on /home/anh/Dropbox/fdi_network/Data/UNCTAD/ERI_fdi.xls\n",
        "working on /home/anh/Dropbox/fdi_network/Data/UNCTAD/YEM_fdi.xls"
       ]
      },
      {
       "output_type": "stream",
       "stream": "stdout",
       "text": [
        "\n",
        "working on /home/anh/Dropbox/fdi_network/Data/UNCTAD/BGR_fdi.xls\n",
        "working on /home/anh/Dropbox/fdi_network/Data/UNCTAD/ITA_fdi.xls"
       ]
      },
      {
       "output_type": "stream",
       "stream": "stdout",
       "text": [
        "\n",
        "working on /home/anh/Dropbox/fdi_network/Data/UNCTAD/NGA_fdi.xls"
       ]
      },
      {
       "output_type": "stream",
       "stream": "stdout",
       "text": [
        "\n",
        "working on /home/anh/Dropbox/fdi_network/Data/UNCTAD/VGB_fdi.xls"
       ]
      },
      {
       "output_type": "stream",
       "stream": "stdout",
       "text": [
        "\n",
        "working on /home/anh/Dropbox/fdi_network/Data/UNCTAD/TZA_fdi.xls"
       ]
      },
      {
       "output_type": "stream",
       "stream": "stdout",
       "text": [
        "\n",
        "working on /home/anh/Dropbox/fdi_network/Data/UNCTAD/LBR_fdi.xls"
       ]
      },
      {
       "output_type": "stream",
       "stream": "stdout",
       "text": [
        "\n",
        "working on /home/anh/Dropbox/fdi_network/Data/UNCTAD/CAF_fdi.xls"
       ]
      },
      {
       "output_type": "stream",
       "stream": "stdout",
       "text": [
        "\n",
        "working on /home/anh/Dropbox/fdi_network/Data/UNCTAD/SUR_fdi.xls\n",
        "working on /home/anh/Dropbox/fdi_network/Data/UNCTAD/LTU_fdi.xls"
       ]
      },
      {
       "output_type": "stream",
       "stream": "stdout",
       "text": [
        "\n",
        "working on /home/anh/Dropbox/fdi_network/Data/UNCTAD/STP_fdi.xls"
       ]
      },
      {
       "output_type": "stream",
       "stream": "stdout",
       "text": [
        "\n",
        "working on /home/anh/Dropbox/fdi_network/Data/UNCTAD/CYP_fdi.xls\n",
        "working on /home/anh/Dropbox/fdi_network/Data/UNCTAD/DOM_fdi.xls"
       ]
      },
      {
       "output_type": "stream",
       "stream": "stdout",
       "text": [
        "\n",
        "working on /home/anh/Dropbox/fdi_network/Data/UNCTAD/TTO_fdi.xls"
       ]
      },
      {
       "output_type": "stream",
       "stream": "stdout",
       "text": [
        "\n",
        "working on /home/anh/Dropbox/fdi_network/Data/UNCTAD/BDI_fdi.xls"
       ]
      },
      {
       "output_type": "stream",
       "stream": "stdout",
       "text": [
        "\n",
        "working on /home/anh/Dropbox/fdi_network/Data/UNCTAD/UKR_fdi.xls\n",
        "working on /home/anh/Dropbox/fdi_network/Data/UNCTAD/NLD_fdi.xls"
       ]
      },
      {
       "output_type": "stream",
       "stream": "stdout",
       "text": [
        "\n",
        "working on /home/anh/Dropbox/fdi_network/Data/UNCTAD/FJI_fdi.xls"
       ]
      },
      {
       "output_type": "stream",
       "stream": "stdout",
       "text": [
        "\n",
        "working on /home/anh/Dropbox/fdi_network/Data/UNCTAD/AZE_fdi.xls\n",
        "working on /home/anh/Dropbox/fdi_network/Data/UNCTAD/ESP_fdi.xls"
       ]
      },
      {
       "output_type": "stream",
       "stream": "stdout",
       "text": [
        "\n",
        "working on /home/anh/Dropbox/fdi_network/Data/UNCTAD/KNA_fdi.xls"
       ]
      },
      {
       "output_type": "stream",
       "stream": "stdout",
       "text": [
        "\n",
        "working on /home/anh/Dropbox/fdi_network/Data/UNCTAD/ZMB_fdi.xls"
       ]
      },
      {
       "output_type": "stream",
       "stream": "stdout",
       "text": [
        "\n",
        "working on /home/anh/Dropbox/fdi_network/Data/UNCTAD/GTM_fdi.xls"
       ]
      },
      {
       "output_type": "stream",
       "stream": "stdout",
       "text": [
        "\n",
        "working on /home/anh/Dropbox/fdi_network/Data/UNCTAD/USA_fdi.xls"
       ]
      },
      {
       "output_type": "stream",
       "stream": "stdout",
       "text": [
        "\n",
        "working on /home/anh/Dropbox/fdi_network/Data/UNCTAD/BEL_fdi.xls"
       ]
      },
      {
       "output_type": "stream",
       "stream": "stdout",
       "text": [
        "\n",
        "working on /home/anh/Dropbox/fdi_network/Data/UNCTAD/MOZ_fdi.xls"
       ]
      },
      {
       "output_type": "stream",
       "stream": "stdout",
       "text": [
        "\n",
        "working on /home/anh/Dropbox/fdi_network/Data/UNCTAD/LAO_fdi.xls"
       ]
      },
      {
       "output_type": "stream",
       "stream": "stdout",
       "text": [
        "\n",
        "working on /home/anh/Dropbox/fdi_network/Data/UNCTAD/DZA_fdi.xls"
       ]
      },
      {
       "output_type": "stream",
       "stream": "stdout",
       "text": [
        "\n",
        "working on /home/anh/Dropbox/fdi_network/Data/UNCTAD/LSO_fdi.xls"
       ]
      },
      {
       "output_type": "stream",
       "stream": "stdout",
       "text": [
        "\n",
        "working on /home/anh/Dropbox/fdi_network/Data/UNCTAD/MAR_fdi.xls"
       ]
      },
      {
       "output_type": "stream",
       "stream": "stdout",
       "text": [
        "\n",
        "working on /home/anh/Dropbox/fdi_network/Data/UNCTAD/ATG_fdi.xls"
       ]
      },
      {
       "output_type": "stream",
       "stream": "stdout",
       "text": [
        "\n",
        "working on /home/anh/Dropbox/fdi_network/Data/UNCTAD/EST_fdi.xls"
       ]
      },
      {
       "output_type": "stream",
       "stream": "stdout",
       "text": [
        "\n",
        "working on /home/anh/Dropbox/fdi_network/Data/UNCTAD/BOL_fdi.xls"
       ]
      },
      {
       "output_type": "stream",
       "stream": "stdout",
       "text": [
        "\n",
        "working on /home/anh/Dropbox/fdi_network/Data/UNCTAD/GNB_fdi.xls"
       ]
      },
      {
       "output_type": "stream",
       "stream": "stdout",
       "text": [
        "\n",
        "working on /home/anh/Dropbox/fdi_network/Data/UNCTAD/VNM_fdi.xls"
       ]
      },
      {
       "output_type": "stream",
       "stream": "stdout",
       "text": [
        "\n",
        "working on /home/anh/Dropbox/fdi_network/Data/UNCTAD/TJK_fdi.xls"
       ]
      },
      {
       "output_type": "stream",
       "stream": "stdout",
       "text": [
        "\n",
        "working on /home/anh/Dropbox/fdi_network/Data/UNCTAD/COG_fdi.xls\n",
        "working on /home/anh/Dropbox/fdi_network/Data/UNCTAD/VIR_fdi.xls"
       ]
      },
      {
       "output_type": "stream",
       "stream": "stdout",
       "text": [
        "\n",
        "working on /home/anh/Dropbox/fdi_network/Data/UNCTAD/IRL_fdi.xls"
       ]
      },
      {
       "output_type": "stream",
       "stream": "stdout",
       "text": [
        "\n",
        "working on /home/anh/Dropbox/fdi_network/Data/UNCTAD/GMB_fdi.xls"
       ]
      },
      {
       "output_type": "stream",
       "stream": "stdout",
       "text": [
        "\n",
        "working on /home/anh/Dropbox/fdi_network/Data/UNCTAD/BIH_fdi.xls\n",
        "working on /home/anh/Dropbox/fdi_network/Data/UNCTAD/SYC_fdi.xls"
       ]
      },
      {
       "output_type": "stream",
       "stream": "stdout",
       "text": [
        "\n",
        "working on /home/anh/Dropbox/fdi_network/Data/UNCTAD/ALB_fdi.xls"
       ]
      },
      {
       "output_type": "stream",
       "stream": "stdout",
       "text": [
        "\n",
        "working on /home/anh/Dropbox/fdi_network/Data/UNCTAD/GRD_fdi.xls"
       ]
      },
      {
       "output_type": "stream",
       "stream": "stdout",
       "text": [
        "\n",
        "working on /home/anh/Dropbox/fdi_network/Data/UNCTAD/MDG_fdi.xls"
       ]
      },
      {
       "output_type": "stream",
       "stream": "stdout",
       "text": [
        "\n",
        "working on /home/anh/Dropbox/fdi_network/Data/UNCTAD/NIC_fdi.xls"
       ]
      },
      {
       "output_type": "stream",
       "stream": "stdout",
       "text": [
        "\n",
        "working on /home/anh/Dropbox/fdi_network/Data/UNCTAD/BHS_fdi.xls\n",
        "working on /home/anh/Dropbox/fdi_network/Data/UNCTAD/NER_fdi.xls"
       ]
      },
      {
       "output_type": "stream",
       "stream": "stdout",
       "text": [
        "\n",
        "working on /home/anh/Dropbox/fdi_network/Data/UNCTAD/KAZ_fdi.xls\n",
        "working on /home/anh/Dropbox/fdi_network/Data/UNCTAD/BGD_fdi.xls"
       ]
      },
      {
       "output_type": "stream",
       "stream": "stdout",
       "text": [
        "\n",
        "working on /home/anh/Dropbox/fdi_network/Data/UNCTAD/TUR_fdi.xls"
       ]
      },
      {
       "output_type": "stream",
       "stream": "stdout",
       "text": [
        "\n",
        "working on /home/anh/Dropbox/fdi_network/Data/UNCTAD/ANT_fdi.xls"
       ]
      },
      {
       "output_type": "stream",
       "stream": "stdout",
       "text": [
        "\n",
        "working on /home/anh/Dropbox/fdi_network/Data/UNCTAD/LBY_fdi.xls"
       ]
      },
      {
       "output_type": "stream",
       "stream": "stdout",
       "text": [
        "\n",
        "working on /home/anh/Dropbox/fdi_network/Data/UNCTAD/ARG_fdi.xls"
       ]
      },
      {
       "output_type": "stream",
       "stream": "stdout",
       "text": [
        "\n",
        "working on /home/anh/Dropbox/fdi_network/Data/UNCTAD/ASM_fdi.xls"
       ]
      },
      {
       "output_type": "stream",
       "stream": "stdout",
       "text": [
        "\n",
        "working on /home/anh/Dropbox/fdi_network/Data/UNCTAD/MYS_fdi.xls\n",
        "working on /home/anh/Dropbox/fdi_network/Data/UNCTAD/SOM_fdi.xls"
       ]
      },
      {
       "output_type": "stream",
       "stream": "stdout",
       "text": [
        "\n",
        "working on /home/anh/Dropbox/fdi_network/Data/UNCTAD/NIU_fdi.xls\n",
        "working on /home/anh/Dropbox/fdi_network/Data/UNCTAD/REU_fdi.xls"
       ]
      },
      {
       "output_type": "stream",
       "stream": "stdout",
       "text": [
        "\n",
        "working on /home/anh/Dropbox/fdi_network/Data/UNCTAD/MEX_fdi.xls\n",
        "working on /home/anh/Dropbox/fdi_network/Data/UNCTAD/AUS_fdi.xls"
       ]
      },
      {
       "output_type": "stream",
       "stream": "stdout",
       "text": [
        "\n",
        "working on /home/anh/Dropbox/fdi_network/Data/UNCTAD/ARE_fdi.xls"
       ]
      },
      {
       "output_type": "stream",
       "stream": "stdout",
       "text": [
        "\n",
        "working on /home/anh/Dropbox/fdi_network/Data/UNCTAD/MNE_fdi.xls"
       ]
      },
      {
       "output_type": "stream",
       "stream": "stdout",
       "text": [
        "\n",
        "working on /home/anh/Dropbox/fdi_network/Data/UNCTAD/ECU_fdi.xls"
       ]
      },
      {
       "output_type": "stream",
       "stream": "stdout",
       "text": [
        "\n",
        "working on /home/anh/Dropbox/fdi_network/Data/UNCTAD/EGY_fdi.xls"
       ]
      },
      {
       "output_type": "stream",
       "stream": "stdout",
       "text": [
        "\n",
        "working on /home/anh/Dropbox/fdi_network/Data/UNCTAD/GEO_fdi.xls"
       ]
      },
      {
       "output_type": "stream",
       "stream": "stdout",
       "text": [
        "\n",
        "working on /home/anh/Dropbox/fdi_network/Data/UNCTAD/PLW_fdi.xls"
       ]
      },
      {
       "output_type": "stream",
       "stream": "stdout",
       "text": [
        "\n",
        "working on /home/anh/Dropbox/fdi_network/Data/UNCTAD/VUT_fdi.xls\n",
        "working on /home/anh/Dropbox/fdi_network/Data/UNCTAD/PSE_fdi.xls"
       ]
      },
      {
       "output_type": "stream",
       "stream": "stdout",
       "text": [
        "\n",
        "working on /home/anh/Dropbox/fdi_network/Data/UNCTAD/PRI_fdi.xls"
       ]
      },
      {
       "output_type": "stream",
       "stream": "stdout",
       "text": [
        "\n",
        "working on /home/anh/Dropbox/fdi_network/Data/UNCTAD/HRV_fdi.xls\n",
        "working on /home/anh/Dropbox/fdi_network/Data/UNCTAD/MMR_fdi.xls"
       ]
      },
      {
       "output_type": "stream",
       "stream": "stdout",
       "text": [
        "\n",
        "working on /home/anh/Dropbox/fdi_network/Data/UNCTAD/TKL_fdi.xls"
       ]
      },
      {
       "output_type": "stream",
       "stream": "stdout",
       "text": [
        "\n",
        "working on /home/anh/Dropbox/fdi_network/Data/UNCTAD/DEU_fdi.xls"
       ]
      },
      {
       "output_type": "stream",
       "stream": "stdout",
       "text": [
        "\n",
        "working on /home/anh/Dropbox/fdi_network/Data/UNCTAD/AFG_fdi.xls"
       ]
      },
      {
       "output_type": "stream",
       "stream": "stdout",
       "text": [
        "\n",
        "working on /home/anh/Dropbox/fdi_network/Data/UNCTAD/ZAF_fdi.xls"
       ]
      },
      {
       "output_type": "stream",
       "stream": "stdout",
       "text": [
        "\n",
        "working on /home/anh/Dropbox/fdi_network/Data/UNCTAD/DMA_fdi.xls"
       ]
      },
      {
       "output_type": "stream",
       "stream": "stdout",
       "text": [
        "\n",
        "working on /home/anh/Dropbox/fdi_network/Data/UNCTAD/PAK_fdi.xls"
       ]
      },
      {
       "output_type": "stream",
       "stream": "stdout",
       "text": [
        "\n",
        "working on /home/anh/Dropbox/fdi_network/Data/UNCTAD/MKD_fdi.xls"
       ]
      },
      {
       "output_type": "stream",
       "stream": "stdout",
       "text": [
        "\n",
        "working on /home/anh/Dropbox/fdi_network/Data/UNCTAD/SEN_fdi.xls"
       ]
      },
      {
       "output_type": "stream",
       "stream": "stdout",
       "text": [
        "\n",
        "working on /home/anh/Dropbox/fdi_network/Data/UNCTAD/NAM_fdi.xls"
       ]
      },
      {
       "output_type": "stream",
       "stream": "stdout",
       "text": [
        "\n",
        "working on /home/anh/Dropbox/fdi_network/Data/UNCTAD/LBN_fdi.xls"
       ]
      },
      {
       "output_type": "stream",
       "stream": "stdout",
       "text": [
        "\n",
        "working on /home/anh/Dropbox/fdi_network/Data/UNCTAD/MAC_fdi.xls"
       ]
      },
      {
       "output_type": "stream",
       "stream": "stdout",
       "text": [
        "\n",
        "working on /home/anh/Dropbox/fdi_network/Data/UNCTAD/CIV_fdi.xls"
       ]
      },
      {
       "output_type": "stream",
       "stream": "stdout",
       "text": [
        "\n",
        "working on /home/anh/Dropbox/fdi_network/Data/UNCTAD/SYR_fdi.xls\n",
        "working on /home/anh/Dropbox/fdi_network/Data/UNCTAD/UGA_fdi.xls"
       ]
      },
      {
       "output_type": "stream",
       "stream": "stdout",
       "text": [
        "\n",
        "working on /home/anh/Dropbox/fdi_network/Data/UNCTAD/MDA_fdi.xls"
       ]
      },
      {
       "output_type": "stream",
       "stream": "stdout",
       "text": [
        "\n",
        "working on /home/anh/Dropbox/fdi_network/Data/UNCTAD/BFA_fdi.xls"
       ]
      },
      {
       "output_type": "stream",
       "stream": "stdout",
       "text": [
        "\n",
        "working on /home/anh/Dropbox/fdi_network/Data/UNCTAD/LUX_fdi.xls"
       ]
      },
      {
       "output_type": "stream",
       "stream": "stdout",
       "text": [
        "\n",
        "working on /home/anh/Dropbox/fdi_network/Data/UNCTAD/RWA_fdi.xls"
       ]
      },
      {
       "output_type": "stream",
       "stream": "stdout",
       "text": [
        "\n",
        "working on /home/anh/Dropbox/fdi_network/Data/UNCTAD/NZL_fdi.xls"
       ]
      },
      {
       "output_type": "stream",
       "stream": "stdout",
       "text": [
        "\n",
        "working on /home/anh/Dropbox/fdi_network/Data/UNCTAD/BMU_fdi.xls"
       ]
      },
      {
       "output_type": "stream",
       "stream": "stdout",
       "text": [
        "\n",
        "working on /home/anh/Dropbox/fdi_network/Data/UNCTAD/DJI_fdi.xls"
       ]
      },
      {
       "output_type": "stream",
       "stream": "stdout",
       "text": [
        "\n",
        "working on /home/anh/Dropbox/fdi_network/Data/UNCTAD/POL_fdi.xls"
       ]
      },
      {
       "output_type": "stream",
       "stream": "stdout",
       "text": [
        "\n",
        "working on /home/anh/Dropbox/fdi_network/Data/UNCTAD/CHE_fdi.xls"
       ]
      },
      {
       "output_type": "stream",
       "stream": "stdout",
       "text": [
        "\n",
        "working on /home/anh/Dropbox/fdi_network/Data/UNCTAD/AUT_fdi.xls"
       ]
      },
      {
       "output_type": "stream",
       "stream": "stdout",
       "text": [
        "\n",
        "working on /home/anh/Dropbox/fdi_network/Data/UNCTAD/ETH_fdi.xls"
       ]
      },
      {
       "output_type": "stream",
       "stream": "stdout",
       "text": [
        "\n",
        "working on /home/anh/Dropbox/fdi_network/Data/UNCTAD/MWI_fdi.xls"
       ]
      },
      {
       "output_type": "stream",
       "stream": "stdout",
       "text": [
        "\n",
        "working on /home/anh/Dropbox/fdi_network/Data/UNCTAD/TUN_fdi.xls"
       ]
      },
      {
       "output_type": "stream",
       "stream": "stdout",
       "text": [
        "\n",
        "working on /home/anh/Dropbox/fdi_network/Data/UNCTAD/TCA_fdi.xls"
       ]
      },
      {
       "output_type": "stream",
       "stream": "stdout",
       "text": [
        "\n",
        "working on /home/anh/Dropbox/fdi_network/Data/UNCTAD/ARM_fdi.xls"
       ]
      },
      {
       "output_type": "stream",
       "stream": "stdout",
       "text": [
        "\n",
        "working on /home/anh/Dropbox/fdi_network/Data/UNCTAD/BRA_fdi.xls"
       ]
      },
      {
       "output_type": "stream",
       "stream": "stdout",
       "text": [
        "\n",
        "working on /home/anh/Dropbox/fdi_network/Data/UNCTAD/CZE_fdi.xls"
       ]
      },
      {
       "output_type": "stream",
       "stream": "stdout",
       "text": [
        "\n",
        "working on /home/anh/Dropbox/fdi_network/Data/UNCTAD/MLT_fdi.xls"
       ]
      },
      {
       "output_type": "stream",
       "stream": "stdout",
       "text": [
        "\n",
        "working on /home/anh/Dropbox/fdi_network/Data/UNCTAD/SGP_fdi.xls"
       ]
      },
      {
       "output_type": "stream",
       "stream": "stdout",
       "text": [
        "\n",
        "working on /home/anh/Dropbox/fdi_network/Data/UNCTAD/BWA_fdi.xls"
       ]
      },
      {
       "output_type": "stream",
       "stream": "stdout",
       "text": [
        "\n"
       ]
      }
     ],
     "prompt_number": 47
    },
    {
     "cell_type": "code",
     "collapsed": false,
     "input": [
      "! rm /home/anh/Dropbox/fdi_network/Data/UNCTAD_outflow/*.xls\n",
      "! rm /home/anh/Dropbox/fdi_network/Data/UNCTAD_inflow/*.xls"
     ],
     "language": "python",
     "metadata": {},
     "outputs": [
      {
       "output_type": "stream",
       "stream": "stdout",
       "text": [
        "rm: cannot remove \u2018/home/anh/Dropbox/fdi_network/Data/UNCTAD_outflow/*.xls\u2019: No such file or directory\r\n"
       ]
      },
      {
       "output_type": "stream",
       "stream": "stdout",
       "text": [
        "rm: cannot remove \u2018/home/anh/Dropbox/fdi_network/Data/UNCTAD_inflow/*.xls\u2019: No such file or directory\r\n"
       ]
      }
     ],
     "prompt_number": 50
    },
    {
     "cell_type": "code",
     "collapsed": false,
     "input": [],
     "language": "python",
     "metadata": {},
     "outputs": []
    }
   ],
   "metadata": {}
  }
 ]
}